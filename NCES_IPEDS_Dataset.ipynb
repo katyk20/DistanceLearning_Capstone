{
  "nbformat": 4,
  "nbformat_minor": 0,
  "metadata": {
    "colab": {
      "provenance": [],
      "authorship_tag": "ABX9TyNvSBRk1n1zWN7DkX79M/N+",
      "include_colab_link": true
    },
    "kernelspec": {
      "name": "python3",
      "display_name": "Python 3"
    },
    "language_info": {
      "name": "python"
    }
  },
  "cells": [
    {
      "cell_type": "markdown",
      "metadata": {
        "id": "view-in-github",
        "colab_type": "text"
      },
      "source": [
        "<a href=\"https://colab.research.google.com/github/katyk20/DistanceLearning_Capstone/blob/main/NCES_IPEDS_Dataset.ipynb\" target=\"_parent\"><img src=\"https://colab.research.google.com/assets/colab-badge.svg\" alt=\"Open In Colab\"/></a>"
      ]
    },
    {
      "cell_type": "code",
      "execution_count": 1,
      "metadata": {
        "colab": {
          "base_uri": "https://localhost:8080/"
        },
        "id": "Q1CbZG2MEBWE",
        "outputId": "bc9447ea-f8f0-4f56-def3-c4cde6959e1a"
      },
      "outputs": [
        {
          "output_type": "stream",
          "name": "stdout",
          "text": [
            "Mounted at /content/drive\n"
          ]
        }
      ],
      "source": [
        "from google.colab import drive\n",
        "drive.mount('/content/drive')"
      ]
    },
    {
      "cell_type": "code",
      "source": [
        "! git clone https://github.com/katyk20/DistanceLearning_Capstone"
      ],
      "metadata": {
        "colab": {
          "base_uri": "https://localhost:8080/"
        },
        "id": "yj_ClGUZENYl",
        "outputId": "76c93f85-e8fa-4f13-bc2c-14320dc86fc3"
      },
      "execution_count": 33,
      "outputs": [
        {
          "output_type": "stream",
          "name": "stdout",
          "text": [
            "fatal: destination path 'DistanceLearning_Capstone' already exists and is not an empty directory.\n"
          ]
        }
      ]
    },
    {
      "cell_type": "code",
      "source": [
        "%cd /content/DistanceLearning_Capstone\n",
        "!git pull"
      ],
      "metadata": {
        "colab": {
          "base_uri": "https://localhost:8080/"
        },
        "id": "CfUukVAZK6jm",
        "outputId": "ee8ef197-1f7e-44ad-a101-573610be09f7"
      },
      "execution_count": 57,
      "outputs": [
        {
          "output_type": "stream",
          "name": "stdout",
          "text": [
            "/content/DistanceLearning_Capstone\n",
            "remote: Enumerating objects: 20, done.\u001b[K\n",
            "remote: Counting objects: 100% (20/20), done.\u001b[K\n",
            "remote: Compressing objects: 100% (18/18), done.\u001b[K\n",
            "remote: Total 18 (delta 12), reused 0 (delta 0), pack-reused 0\u001b[K\n",
            "Unpacking objects: 100% (18/18), 5.50 KiB | 626.00 KiB/s, done.\n",
            "From https://github.com/katyk20/DistanceLearning_Capstone\n",
            "   5121029..47d0662  main       -> origin/main\n",
            "Updating 5121029..47d0662\n",
            "Fast-forward\n",
            " NCES IPEDS Data 2019-2022/c2019dep_DATA.csv     | 240406 \u001b[31m----------------------------------------\u001b[m\n",
            " NCES IPEDS Data 2019-2022/c2020dep_DATA.csv     | 238693 \u001b[31m----------------------------------------\u001b[m\n",
            " NCES IPEDS Data 2019-2022/c2021dep_DATA.csv     | 241820 \u001b[31m-----------------------------------------\u001b[m\n",
            " NCES IPEDS Data 2019-2022/ef2019a_dist_DATA.csv |  22859 \u001b[31m----\u001b[m\n",
            " NCES IPEDS Data 2019-2022/ef2020a_dist_DATA.csv |  22657 \u001b[31m----\u001b[m\n",
            " NCES IPEDS Data 2019-2022/ef2021a_dist_DATA.csv |  22464 \u001b[31m----\u001b[m\n",
            " 6 files changed, 788899 deletions(-)\n",
            " delete mode 100644 NCES IPEDS Data 2019-2022/c2019dep_DATA.csv\n",
            " delete mode 100644 NCES IPEDS Data 2019-2022/c2020dep_DATA.csv\n",
            " delete mode 100644 NCES IPEDS Data 2019-2022/c2021dep_DATA.csv\n",
            " delete mode 100644 NCES IPEDS Data 2019-2022/ef2019a_dist_DATA.csv\n",
            " delete mode 100644 NCES IPEDS Data 2019-2022/ef2020a_dist_DATA.csv\n",
            " delete mode 100644 NCES IPEDS Data 2019-2022/ef2021a_dist_DATA.csv\n"
          ]
        }
      ]
    },
    {
      "cell_type": "code",
      "source": [
        "#Libraries\n",
        "import pandas as pd\n",
        "import os\n",
        "import glob"
      ],
      "metadata": {
        "id": "qYSNcA94EcQC"
      },
      "execution_count": 58,
      "outputs": []
    },
    {
      "cell_type": "markdown",
      "source": [
        "Processing HD files by year 2019-2022"
      ],
      "metadata": {
        "id": "syRLwxiMEkwe"
      }
    },
    {
      "cell_type": "markdown",
      "source": [
        "HD files contain Institutional information in IPEDs universe.\n",
        "Variables of interest:\n",
        "- UNITID: Unique identification number of the institution (for merging)\n",
        "- INSTNM:Institution (entity) name\n",
        "- IALIAS:Institution name alias\n",
        "- STABBR:State abbreviation\n",
        "- ICLEVEL:A classification of whether an institution’s programs are 4-year or higher (4 year), 2-but-less-than 4-year (2 year), or less than 2-year.\n",
        "- CONTROL:A classification of whether an institution is operated by publicly elected or appointed officials or by privately elected or appointed officials and derives its major source of funds from private sources.\n",
        "  - Public institution - An educational institution whose programs and activities are operated by publicly elected or appointed school officials and which is supported primarily by public funds.\n",
        "  - Private not-for-profit institution - A private institution in which the individual(s) or agency in control receives no compensation, other than wages, rent, or other expenses for the assumption of risk. These include both independent not-for-profit schools and those affiliated with a religious organization.\n",
        "\n",
        "- HLOFFER:Highest level of offering (generated, based on response to IC\n",
        "survey)\n",
        "  - 0 - Other\n",
        "  - 1 - Postsecondary award, certificate or diploma of less than one academic year\n",
        "  - 2 - Postsecondary award, certificate or diploma of at least one but less than two academic years\n",
        "  - 3 - Associate's degree\n",
        "  - 4 - Postsecondary award, certificate or diploma of at least two but less than four academic years\n",
        "  - 5 - Bachelor's degree\n",
        "  - 6 - Postbaccalaureate certificate\n",
        "  - 7 - Master's degree\n",
        "  - 8 - Post-master's certificate\n",
        "  - 9 - Doctor's degree\n",
        "  - b - None of the above or no answer\n",
        "   --2 - Not applicable, first-professional only\n",
        "  - -3 - Not Available\n",
        "- DEGGRANT:A code indicating the degree-granting status of the institution.\n",
        "  - Degree-granting institutions offer an associate's, bachelor's, master's, doctor's or a first-professional degree.\n",
        "  - Nondegree-granting offers certificates or other formal awards\n",
        "- PSEFLAG:Postsecondary institution indicator\n",
        "Identifies an institution whose primary purpose is to provide postsecondary education,is open to the general public and is currently an active (operating) institution.\n",
        "- LONGITUD: Based on the location of the school, the value of LONGITUD ranges from -170 to 171.\n",
        "- LATITUDE:Based on the location of the school, the value of LATITUDE ranges from -14 to 71."
      ],
      "metadata": {
        "id": "wA3uytkEEm44"
      }
    },
    {
      "cell_type": "code",
      "source": [
        "#get hd datasets by years with variables of interest\n",
        "\n",
        "path = '/content/DistanceLearning_Capstone/NCES IPEDS Data 2019-2022'\n",
        "hdfiles = glob.glob(path + '/hd*.csv')\n",
        "# hdfiles\n",
        "hdfile_dict = {}  # Dictionary to store file paths with year as key\n",
        "\n",
        "for file_path in hdfiles:\n",
        "    file_name = os.path.basename(file_path)  # Get the filename from the path\n",
        "    year = file_name[2:6]  # Extract the year from the filename\n",
        "    hdfile_dict[year] = file_path  # Store the file path in the dictionary with year as key\n",
        "\n",
        "# Access each file by its year\n",
        "for year, file_path in hdfile_dict.items():\n",
        "    print(f\"Year: {year}, File Path: {file_path}\")"
      ],
      "metadata": {
        "colab": {
          "base_uri": "https://localhost:8080/"
        },
        "id": "7p-vpUd1E82r",
        "outputId": "803e29da-2f6d-496c-8176-aa52eb262e00"
      },
      "execution_count": 59,
      "outputs": [
        {
          "output_type": "stream",
          "name": "stdout",
          "text": [
            "Year: 2019, File Path: /content/DistanceLearning_Capstone/NCES IPEDS Data 2019-2022/hd2019_DATA.csv\n",
            "Year: 2022, File Path: /content/DistanceLearning_Capstone/NCES IPEDS Data 2019-2022/hd2022_DATA.csv\n",
            "Year: 2021, File Path: /content/DistanceLearning_Capstone/NCES IPEDS Data 2019-2022/hd2021_DATA.csv\n",
            "Year: 2020, File Path: /content/DistanceLearning_Capstone/NCES IPEDS Data 2019-2022/hd2020_DATA.csv\n"
          ]
        }
      ]
    },
    {
      "cell_type": "code",
      "source": [
        "#create hd dfs by year columns with variables of interest\n",
        "columns= ('UNITID','INSTNM','IALIAS','STABBR','ICLEVEL','CONTROL',\n",
        "          'HLOFFER','DEGGRANT','PSEFLAG','LONGITUD','LATITUDE')\n",
        "hd_dfs = {}\n",
        "\n",
        "#read each file and create df\n",
        "for year, file_path in hdfile_dict.items():\n",
        "  df= pd.read_csv(file_path,encoding='unicode_escape', usecols=columns, )\n",
        "  hd_dfs[year]=df\n",
        "\n",
        "# hd_dfs\n",
        "\n",
        "# #Access each hd_df by year\n",
        "# for year, df in hd_dfs.items():\n",
        "#   print(f\"Year: {year}\")\n",
        "#   # print (df.head())"
      ],
      "metadata": {
        "id": "NWyA0Yt3FRG4"
      },
      "execution_count": 85,
      "outputs": []
    },
    {
      "cell_type": "code",
      "source": [
        "hd2019=hd_dfs.get('2019') #(6559, 11)\n",
        "hd2020=hd_dfs.get('2020') #(6440, 11)\n",
        "hd2021=hd_dfs.get('2021') #(6289, 11)\n",
        "hd2022=hd_dfs.get('2022') #(6256, 11)\n",
        "hd2019.shape"
      ],
      "metadata": {
        "colab": {
          "base_uri": "https://localhost:8080/"
        },
        "id": "lByttR9bH0ea",
        "outputId": "c53ad1d1-12fd-4ff3-89ca-b36192bf0dba"
      },
      "execution_count": 61,
      "outputs": [
        {
          "output_type": "execute_result",
          "data": {
            "text/plain": [
              "(6559, 11)"
            ]
          },
          "metadata": {},
          "execution_count": 61
        }
      ]
    },
    {
      "cell_type": "markdown",
      "source": [
        "#EF Files <br>\n",
        "- Files contains the number of students enrolled in the fall, by distance education status and level of student.  \n",
        "- Institutions with traditional academic year calendar systems (semester, quarter, trimester or  4-1-4) report their enrollment as of October 15 or the official fall reporting date of the institution.\n",
        "- Institutions with calendar systems that differ by program or allow continuous enrollment report students that are enrolled at any time between August 1 and October 31.\n",
        "- Files have multiple records per institution.  Records are uniquely defined by the variables IPEDS ID (UNITID), and level of student (EFDELEV).   \n",
        "- Each record will contain the:\n",
        "  - total students enrolled,\n",
        "  - students enrolled exclusively in distance education courses,\n",
        "  - students enrolled in some education distance education courses and\n",
        "  - students not enrolled in any distance education courses.\n",
        "-The number of students enrolled in exclusively distance education courses are also reported by the following location categories:\n",
        "  - located in the same state/jurisdiction as the institution;\n",
        "  - in a different state/jurisdiction than the institution;\n",
        "  - in the U.S. but the state/jurisdiction is unknown;\n",
        "  - and residing outside the U.S."
      ],
      "metadata": {
        "id": "f2McP_AULyNe"
      }
    },
    {
      "cell_type": "markdown",
      "source": [
        "Variables of interest:\n",
        "- UNITID:Institution\n",
        "- EFDELEV:Level and degree-seeking/non degree-seeking status of student (Undergraduate,  Undergraduate-degree/certificate seeking/non-degree/certificate seeking, Graduate)\n",
        "- EFDETOT:Grand total enrolled for credit during the fall\n",
        "- EFDEEXC:Students who are enrolled only in courses that are considered distance education courses.\n",
        "- EFDESOM:Students who are enrolled in at least one course that is considered a distance education course, but are not enrolled exclusively in distance education courses.\n",
        "- EFDENON:Students who are not enrolled in any distance education courses.\n",
        "- EFDEEX1:Students who are enrolled only in courses that are considered distance education courses that are located in the same state/jurisdiction as the institution.\n",
        "- EFDEEX2:Students who are enrolled only in courses that are considered distance education courses that are lin a different state/jurisdiction than the institution.\n",
        "- EFDEEX3:Students who are enrolled only in courses that are considered distance education courses in the U.S. but the state/jurisdiction is unknown\n",
        "- EFDEEX4:Students who are enrolled only in courses that are considered distance education courses that are residing outside the U.S.\n",
        "- EFDEEX5:Students who are enrolled only in courses that are considered distance education courses and the location is unknown/not reported"
      ],
      "metadata": {
        "id": "FG67371yMb9o"
      }
    },
    {
      "cell_type": "code",
      "source": [
        "#get EF datasets by years\n",
        "path = '/content/DistanceLearning_Capstone/NCES IPEDS Data 2019-2022'\n",
        "ef_files = glob.glob(path + '/ef*.csv')\n",
        "ef_files\n",
        "\n",
        "ef_file_dict = {}  # Dictionary to store file paths with year as key\n",
        "for file_path in ef_files:\n",
        "    file_name = os.path.basename(file_path)  # Get the filename from the path\n",
        "    year = file_name[2:6]  # Extract the year from the filename\n",
        "    ef_file_dict[year] = file_path  # Store the file path in the dictionary with year as key\n",
        "\n",
        "\n",
        "# ef_file_dict\n",
        "\n",
        "# Access each file by its year\n",
        "# for year, file_path in ef_file_dict.items():\n",
        "#     print(f\"Year: {year}, File Path: {file_path}\")\n"
      ],
      "metadata": {
        "id": "WmBbjR1fPaAH"
      },
      "execution_count": 87,
      "outputs": []
    },
    {
      "cell_type": "code",
      "source": [
        "ef_dfs = {}\n",
        "\n",
        "#read each file and create df- store to ef_df dict\n",
        "for year, file_path in ef_file_dict.items():\n",
        "  df= pd.read_csv(file_path,encoding='unicode_escape' )\n",
        "  ef_dfs[year]=df\n",
        "\n",
        "# ef_dfs"
      ],
      "metadata": {
        "id": "YTW62EG3T6YX"
      },
      "execution_count": 83,
      "outputs": []
    },
    {
      "cell_type": "code",
      "source": [
        "#retrieving individual datasets from dict\n",
        "ef2019=ef_dfs.get('2019') #(22862, 20)\n",
        "ef2020=ef_dfs.get('2020') #(22663, 20)\n",
        "ef2021=ef_dfs.get('2021') #(22469, 20)\n",
        "ef2022=ef_dfs.get('2022') #(22239, 20)\n",
        "ef2022.shape\n"
      ],
      "metadata": {
        "colab": {
          "base_uri": "https://localhost:8080/"
        },
        "id": "MrgemZ3_Rcdd",
        "outputId": "292c3d18-8dde-434e-a4ca-8dd3cc4ce200"
      },
      "execution_count": 82,
      "outputs": [
        {
          "output_type": "execute_result",
          "data": {
            "text/plain": [
              "(22239, 20)"
            ]
          },
          "metadata": {},
          "execution_count": 82
        }
      ]
    },
    {
      "cell_type": "code",
      "source": [
        "# ef2019\n"
      ],
      "metadata": {
        "id": "UWnv0D6IXmGh"
      },
      "execution_count": 104,
      "outputs": []
    },
    {
      "cell_type": "code",
      "source": [
        "#merge hd and ef datasets by year\n",
        "dep2019= pd.merge(hd2019, ef2019, on='UNITID', how='outer')\n",
        "dep2020= pd.merge(hd2020, ef2020, on='UNITID', how='outer')\n",
        "dep2021= pd.merge(hd2021, ef2021, on='UNITID', how='outer')\n",
        "dep2022= pd.merge(hd2022, ef2022, on='UNITID', how='outer')"
      ],
      "metadata": {
        "id": "MaefiRrHUHdB"
      },
      "execution_count": 98,
      "outputs": []
    },
    {
      "cell_type": "code",
      "source": [
        "# dep2019.shape #(23242, 30)\n",
        "# dep2020.shape #(22974, 30)\n",
        "# dep2021.shape #(22708, 30)\n",
        "# dep2022.shape #(22517, 30)"
      ],
      "metadata": {
        "id": "E7UKABNDVutL"
      },
      "execution_count": 101,
      "outputs": []
    },
    {
      "cell_type": "code",
      "source": [
        "# dep2019"
      ],
      "metadata": {
        "id": "9ko8p_TfWTJF"
      },
      "execution_count": 116,
      "outputs": []
    },
    {
      "cell_type": "code",
      "source": [
        "#function to clean datasets (remove Nans)\n",
        "def cleaneddf(df):\n",
        "  cleaned_df = df.dropna(subset ='EFDETOT')\n",
        "\n",
        "  return cleaned_df\n",
        "\n",
        "dep2019 = cleaneddf(dep2019)\n",
        "dep2020 = cleaneddf(dep2020)\n",
        "dep2021 = cleaneddf(dep2021)\n",
        "dep2022 = cleaneddf(dep2022)\n"
      ],
      "metadata": {
        "id": "DxKdXIkBXT_R"
      },
      "execution_count": 114,
      "outputs": []
    },
    {
      "cell_type": "code",
      "source": [
        "#dep2022"
      ],
      "metadata": {
        "id": "-lF8XV_OiN2o"
      },
      "execution_count": 116,
      "outputs": []
    },
    {
      "cell_type": "markdown",
      "source": [
        "#C Files"
      ],
      "metadata": {
        "id": "S6pz4xshiZyi"
      }
    },
    {
      "cell_type": "markdown",
      "source": [
        "-File contains the number of programs offered, by:\n",
        "  - type of program, level of award (certificate or degree) and distance education status.\n",
        "- Type of program is categorized according to the Classification of Instructional Programs (CIP), a detailed coding system for postsecondary instructional programs.\n",
        "- File contains multiple records per institution.\n",
        "- Each record will contain the total number of programs offered and the total number of programs offered via distance education.\n",
        "- Six digit CIPCODE (XX.NNNN) records will identify which award levels are offered and which award levels are offered via distance learning (1=Yes, 0=No). - Two digit CIPCODE (XX) summary records will contain the number of 6-digit CIPCODES under the  2-digit group that are offered by award level and distance education status and CIPCODE (99)  will contain totals for the institution. Program offerings were derived from completions data that were granted between July 1,Fall_YEAR and June 30, Spring_YEAR."
      ],
      "metadata": {
        "id": "H2f5rwfwiuSh"
      }
    },
    {
      "cell_type": "markdown",
      "source": [
        "Variables of interest:\n",
        "(Note 2020 and on C file have additional variables distinguishing between coursed in CIP codes can all be accessed vs. some making 41 total variables . The some variables being removed for consistency with 2019 dataset(26 total variables))\n",
        "  1. UNITID:Unique identification number of the institution\n",
        "  2.CIPCODE: A six-digit code in the form xx.xxxx that identifies instructional  program specialties within educational institutions.\n",
        "  3. PTOTAL: Number of programs offered is the sum of all programs offered at all award levels.  See details of each award level category\n",
        "  4.PTOTALDE: Number of programs offered via distance education is the sum of all programs offered via distance education.  See details of each award level category\n",
        "  5.PASSOC:Number of Associate's degree programs offered\n",
        "  6.PASSOCDE:Number of Associate's degree programs offered via distance education\n",
        "  7.PBACHL:Number of Bachelor's degree programs offered\n",
        "  8.PBACHLDE:Number of Bachelor's degree programs offered via distance education/Bachelor's degree - all programs in a CIP code can be completed entirely via distance education\n",
        "  9. PMASTR:Number of Master's degree programs offered\n",
        "  10. PMASTRDE:Number of Master's degree programs offered via distance education/Master's degree - all programs in a CIP code can be completed entirely via distance education\n",
        "  11. PDOCRS:Number of Doctor's degree-research/scholarship programs offered\n",
        "  12. PDOCRSDE:Number of Doctor's degree-research/scholarship programs offered via distance education\n",
        "  13. PDOCPP:Number of Doctor's degree-professional practice programs offered\n",
        "  14. PDOCPPDE:Number of Doctor's degree-professional practice programs offered via distance education\n",
        "  15. PDOCOT: Number of Doctor's degree-other programs offered\n",
        "  16.PDOCOTDE: Number of Doctor's degree-other programs offered via distance education offered via distance education\n",
        "  17.PCERT1:Number of less than 1-year certificate programs offered\n",
        "  18. PCERT1DE: Number of less than 1-year certificate programs offered via distance education\n",
        "  19. PCERT2:Number of 1-year, but less than-2-year certificate programs offered\n",
        "  20. PCERT2DE:Number of 1-year, but less than 2-year certificate programs offered via distance education\n",
        "  21. PCERT4: Number of 2-year, but less than 4-year certificate programs offered\n",
        "  22. PCERT4DE: Number of 2-year, but less than 4-year certificate programs offered via distance education\n",
        "  23. PPBACC:Number of Postbaccalaureate certificate programs offered\n",
        "  24. PPBACCDE:Number of Postbaccalaureate certificate programs offered via distance education\n",
        "  25. PPMAST:Number of Post-master's certificate programs offered\n",
        "  26. PPMASTDE:Number of Post-master's certificate programs offered via distance education"
      ],
      "metadata": {
        "id": "GgZlp2_LjU3U"
      }
    },
    {
      "cell_type": "code",
      "source": [
        "#get C datasets by years\n",
        "path = '/content/DistanceLearning_Capstone/NCES IPEDS Data 2019-2022'\n",
        "c_files = glob.glob(path + '/c*.csv')\n",
        "# c_files\n",
        "\n",
        "c_file_dict = {}  # Dictionary to store file paths with year as key\n",
        "for file_path in c_files:\n",
        "    file_name = os.path.basename(file_path)  # Get the filename from the path\n",
        "    year = file_name[1:5]  # Extract the year from the filename\n",
        "    c_file_dict[year] = file_path  # Store the file path in the dictionary with year as key\n",
        "\n",
        "\n",
        "# c_file_dict\n",
        "\n",
        "# Access each file by its year\n",
        "for year, file_path in c_file_dict.items():\n",
        "    print(f\"Year: {year}, File Path: {file_path}\")\n"
      ],
      "metadata": {
        "colab": {
          "base_uri": "https://localhost:8080/"
        },
        "id": "o3UPBWXZpKT8",
        "outputId": "f7fa5292-b325-4ef5-d96e-48eccdec0825"
      },
      "execution_count": 125,
      "outputs": [
        {
          "output_type": "stream",
          "name": "stdout",
          "text": [
            "Year: 2022, File Path: /content/DistanceLearning_Capstone/NCES IPEDS Data 2019-2022/c2022dep_DATA.csv\n",
            "Year: 2021, File Path: /content/DistanceLearning_Capstone/NCES IPEDS Data 2019-2022/c2021dep_rv_DATA.csv\n",
            "Year: 2019, File Path: /content/DistanceLearning_Capstone/NCES IPEDS Data 2019-2022/c2019dep_rv_DATA.csv\n",
            "Year: 2020, File Path: /content/DistanceLearning_Capstone/NCES IPEDS Data 2019-2022/c2020dep_rv_DATA.csv\n"
          ]
        }
      ]
    },
    {
      "cell_type": "code",
      "source": [
        "c_dfs = {}\n",
        "\n",
        "#read each file and create df- store to ef_df dict\n",
        "for year, file_path in c_file_dict.items():\n",
        "  df= pd.read_csv(file_path,encoding='unicode_escape' )\n",
        "  c_dfs[year]=df\n",
        "\n",
        "# c_dfs"
      ],
      "metadata": {
        "id": "H4MZODQiqEYO"
      },
      "execution_count": 128,
      "outputs": []
    },
    {
      "cell_type": "code",
      "source": [
        "#retrieving individual datasets from dict\n",
        "c2019=c_dfs.get('2019') #(240412, 26)\n",
        "c2020=c_dfs.get('2020') #(238689, 41) updated to 26 columns below\n",
        "c2021=c_dfs.get('2021') #(241826, 41) updated to 26 columns below\n",
        "c2022=c_dfs.get('2022') #(244004, 41) updated to 26 columns below\n",
        "\n",
        "c2019=c2019.rename(columns={'PCERT1':'PCERT1B', 'PCERT1DE':'PCERT1BDE'})"
      ],
      "metadata": {
        "id": "ae7aF_xIqQVj"
      },
      "execution_count": 159,
      "outputs": []
    },
    {
      "cell_type": "code",
      "source": [
        "c2019.columns"
      ],
      "metadata": {
        "colab": {
          "base_uri": "https://localhost:8080/"
        },
        "id": "fege-M8KyH8y",
        "outputId": "800c9bb2-a20d-4781-b680-6a094350baf6"
      },
      "execution_count": 160,
      "outputs": [
        {
          "output_type": "execute_result",
          "data": {
            "text/plain": [
              "Index(['UNITID', 'CIPCODE', 'PTOTAL', 'PTOTALDE', 'PASSOC', 'PASSOCDE',\n",
              "       'PBACHL', 'PBACHLDE', 'PMASTR', 'PMASTRDE', 'PDOCRS', 'PDOCRSDE',\n",
              "       'PDOCPP', 'PDOCPPDE', 'PDOCOT', 'PDOCOTDE', 'PCERT1B', 'PCERT1BDE',\n",
              "       'PCERT2', 'PCERT2DE', 'PCERT4', 'PCERT4DE', 'PPBACC', 'PPBACCDE',\n",
              "       'PPMAST', 'PPMASTDE'],\n",
              "      dtype='object')"
            ]
          },
          "metadata": {},
          "execution_count": 160
        }
      ]
    },
    {
      "cell_type": "code",
      "source": [
        "#remove columns in 2020-2022 datasets for consistency with 2019\n",
        "vars=['UNITID', 'CIPCODE', 'PTOTAL', 'PTOTALDE', 'PASSOC', 'PASSOCDE',\n",
        "       'PBACHL', 'PBACHLDE', 'PMASTR', 'PMASTRDE', 'PDOCRS', 'PDOCRSDE',\n",
        "       'PDOCPP', 'PDOCPPDE', 'PDOCOT', 'PDOCOTDE', 'PCERT1B', 'PCERT1BDE',\n",
        "       'PCERT2', 'PCERT2DE', 'PCERT4', 'PCERT4DE', 'PPBACC', 'PPBACCDE',\n",
        "       'PPMAST', 'PPMASTDE']\n",
        "\n",
        "\n",
        "def rem_cvars (df):\n",
        "  cleaned_df = df[vars]\n",
        "\n",
        "  return cleaned_df\n",
        "\n",
        "c2020=rem_cvars(c2020)\n",
        "c2021=rem_cvars(c2021)\n",
        "c2022=rem_cvars(c2022)\n",
        "\n"
      ],
      "metadata": {
        "id": "h11GoGOJq3hv"
      },
      "execution_count": 167,
      "outputs": []
    },
    {
      "cell_type": "code",
      "source": [],
      "metadata": {
        "id": "NYgAmj8AwHFB"
      },
      "execution_count": 174,
      "outputs": []
    },
    {
      "cell_type": "code",
      "source": [],
      "metadata": {
        "id": "eOl3J8dRwJqt"
      },
      "execution_count": null,
      "outputs": []
    }
  ]
}