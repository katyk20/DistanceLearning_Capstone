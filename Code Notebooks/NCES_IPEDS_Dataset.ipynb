{
  "nbformat": 4,
  "nbformat_minor": 0,
  "metadata": {
    "colab": {
      "provenance": [],
      "authorship_tag": "ABX9TyO2u/omuwn8YK5Ww3hWpTt7",
      "include_colab_link": true
    },
    "kernelspec": {
      "name": "python3",
      "display_name": "Python 3"
    },
    "language_info": {
      "name": "python"
    }
  },
  "cells": [
    {
      "cell_type": "markdown",
      "metadata": {
        "id": "view-in-github",
        "colab_type": "text"
      },
      "source": [
        "<a href=\"https://colab.research.google.com/github/katyk20/DistanceLearning_Capstone/blob/main/Code%20Notebooks/NCES_IPEDS_Dataset.ipynb\" target=\"_parent\"><img src=\"https://colab.research.google.com/assets/colab-badge.svg\" alt=\"Open In Colab\"/></a>"
      ]
    },
    {
      "cell_type": "code",
      "execution_count": 347,
      "metadata": {
        "id": "Q1CbZG2MEBWE"
      },
      "outputs": [],
      "source": [
        "# from google.colab import drive\n",
        "# drive.mount('/content/drive')"
      ]
    },
    {
      "cell_type": "code",
      "source": [
        "# ! git clone https://github.com/katyk20/DistanceLearning_Capstone"
      ],
      "metadata": {
        "id": "yj_ClGUZENYl"
      },
      "execution_count": 348,
      "outputs": []
    },
    {
      "cell_type": "code",
      "source": [
        "%cd /content/DistanceLearning_Capstone\n",
        "!git pull"
      ],
      "metadata": {
        "colab": {
          "base_uri": "https://localhost:8080/"
        },
        "id": "CfUukVAZK6jm",
        "outputId": "e107b3a2-425a-45cf-cab6-5aac2a0f9869"
      },
      "execution_count": 349,
      "outputs": [
        {
          "output_type": "stream",
          "name": "stdout",
          "text": [
            "/content/DistanceLearning_Capstone\n",
            "Already up to date.\n"
          ]
        }
      ]
    },
    {
      "cell_type": "code",
      "source": [
        "#Libraries\n",
        "import pandas as pd\n",
        "import os\n",
        "import glob"
      ],
      "metadata": {
        "id": "qYSNcA94EcQC"
      },
      "execution_count": 350,
      "outputs": []
    },
    {
      "cell_type": "markdown",
      "source": [
        "Processing HD files by year 2019-2022"
      ],
      "metadata": {
        "id": "syRLwxiMEkwe"
      }
    },
    {
      "cell_type": "markdown",
      "source": [
        "HD files contain Institutional information in IPEDs universe.\n",
        "Variables of interest:\n",
        "- UNITID: Unique identification number of the institution (for merging)\n",
        "- INSTNM:Institution (entity) name\n",
        "- IALIAS:Institution name alias\n",
        "- STABBR:State abbreviation\n",
        "- ICLEVEL:A classification of whether an institution’s programs are 4-year or higher (4 year), 2-but-less-than 4-year (2 year), or less than 2-year.\n",
        "- CONTROL:A classification of whether an institution is operated by publicly elected or appointed officials or by privately elected or appointed officials and derives its major source of funds from private sources.\n",
        "  - Public institution - An educational institution whose programs and activities are operated by publicly elected or appointed school officials and which is supported primarily by public funds.\n",
        "  - Private not-for-profit institution - A private institution in which the individual(s) or agency in control receives no compensation, other than wages, rent, or other expenses for the assumption of risk. These include both independent not-for-profit schools and those affiliated with a religious organization.\n",
        "\n",
        "- HLOFFER:Highest level of offering (generated, based on response to IC\n",
        "survey)\n",
        "  - 0 - Other\n",
        "  - 1 - Postsecondary award, certificate or diploma of less than one academic year\n",
        "  - 2 - Postsecondary award, certificate or diploma of at least one but less than two academic years\n",
        "  - 3 - Associate's degree\n",
        "  - 4 - Postsecondary award, certificate or diploma of at least two but less than four academic years\n",
        "  - 5 - Bachelor's degree\n",
        "  - 6 - Postbaccalaureate certificate\n",
        "  - 7 - Master's degree\n",
        "  - 8 - Post-master's certificate\n",
        "  - 9 - Doctor's degree\n",
        "  - b - None of the above or no answer\n",
        "   --2 - Not applicable, first-professional only\n",
        "  - -3 - Not Available\n",
        "- DEGGRANT:A code indicating the degree-granting status of the institution.\n",
        "  - Degree-granting institutions offer an associate's, bachelor's, master's, doctor's or a first-professional degree.\n",
        "  - Nondegree-granting offers certificates or other formal awards\n",
        "- PSEFLAG:Postsecondary institution indicator\n",
        "Identifies an institution whose primary purpose is to provide postsecondary education,is open to the general public and is currently an active (operating) institution.\n",
        "- LONGITUD: Based on the location of the school, the value of LONGITUD ranges from -170 to 171.\n",
        "- LATITUDE:Based on the location of the school, the value of LATITUDE ranges from -14 to 71."
      ],
      "metadata": {
        "id": "wA3uytkEEm44"
      }
    },
    {
      "cell_type": "code",
      "source": [
        "#get hd datasets by years with variables of interest\n",
        "\n",
        "path = '/content/DistanceLearning_Capstone/NCES IPEDS Data 2019-2022'\n",
        "hdfiles = glob.glob(path + '/hd*.csv')\n",
        "# hdfiles\n",
        "hdfile_dict = {}  # Dictionary to store file paths with year as key\n",
        "\n",
        "for file_path in hdfiles:\n",
        "    file_name = os.path.basename(file_path)  # Get the filename from the path\n",
        "    year = file_name[2:6]  # Extract the year from the filename\n",
        "    hdfile_dict[year] = file_path  # Store the file path in the dictionary with year as key\n",
        "\n",
        "# Access each file by its year\n",
        "for year, file_path in hdfile_dict.items():\n",
        "    print(f\"Year: {year}, File Path: {file_path}\")"
      ],
      "metadata": {
        "colab": {
          "base_uri": "https://localhost:8080/"
        },
        "id": "7p-vpUd1E82r",
        "outputId": "4e3e5817-1a7a-4853-900f-2808aa6bd7a4"
      },
      "execution_count": 351,
      "outputs": [
        {
          "output_type": "stream",
          "name": "stdout",
          "text": [
            "Year: 2020, File Path: /content/DistanceLearning_Capstone/NCES IPEDS Data 2019-2022/hd2020_DATA.csv\n",
            "Year: 2022, File Path: /content/DistanceLearning_Capstone/NCES IPEDS Data 2019-2022/hd2022_DATA.csv\n",
            "Year: 2021, File Path: /content/DistanceLearning_Capstone/NCES IPEDS Data 2019-2022/hd2021_DATA.csv\n",
            "Year: 2019, File Path: /content/DistanceLearning_Capstone/NCES IPEDS Data 2019-2022/hd2019_DATA.csv\n"
          ]
        }
      ]
    },
    {
      "cell_type": "code",
      "source": [
        "#create hd dfs by year columns with variables of interest\n",
        "columns= ('UNITID','INSTNM','IALIAS','STABBR','ICLEVEL','CONTROL',\n",
        "          'HLOFFER','DEGGRANT','PSEFLAG','LONGITUD','LATITUDE')\n",
        "hd_dfs = {}\n",
        "\n",
        "#read each file and create df\n",
        "for year, file_path in hdfile_dict.items():\n",
        "  df= pd.read_csv(file_path,encoding='unicode_escape', usecols=columns, )\n",
        "  hd_dfs[year]=df\n",
        "\n",
        "# hd_dfs\n",
        "\n",
        "# #Access each hd_df by year\n",
        "# for year, df in hd_dfs.items():\n",
        "#   print(f\"Year: {year}\")\n",
        "#   # print (df.head())"
      ],
      "metadata": {
        "id": "NWyA0Yt3FRG4"
      },
      "execution_count": 352,
      "outputs": []
    },
    {
      "cell_type": "code",
      "source": [
        "hd2019=hd_dfs.get('2019') #(6559, 11)\n",
        "hd2020=hd_dfs.get('2020') #(6440, 11)\n",
        "hd2021=hd_dfs.get('2021') #(6289, 11)\n",
        "hd2022=hd_dfs.get('2022') #(6256, 11)\n",
        "hd2019.shape"
      ],
      "metadata": {
        "colab": {
          "base_uri": "https://localhost:8080/"
        },
        "id": "lByttR9bH0ea",
        "outputId": "ab54b236-799f-4d58-fe19-daa8eb4304a3"
      },
      "execution_count": 353,
      "outputs": [
        {
          "output_type": "execute_result",
          "data": {
            "text/plain": [
              "(6559, 11)"
            ]
          },
          "metadata": {},
          "execution_count": 353
        }
      ]
    },
    {
      "cell_type": "markdown",
      "source": [
        "#EF Files <br>\n",
        "- Files contains the number of students enrolled in the fall, by distance education status and level of student.  \n",
        "- Institutions with traditional academic year calendar systems (semester, quarter, trimester or  4-1-4) report their enrollment as of October 15 or the official fall reporting date of the institution.\n",
        "- Institutions with calendar systems that differ by program or allow continuous enrollment report students that are enrolled at any time between August 1 and October 31.\n",
        "- Files have multiple records per institution.  Records are uniquely defined by the variables IPEDS ID (UNITID), and level of student (EFDELEV).   \n",
        "- Each record will contain the:\n",
        "  - total students enrolled,\n",
        "  - students enrolled exclusively in distance education courses,\n",
        "  - students enrolled in some education distance education courses and\n",
        "  - students not enrolled in any distance education courses.\n",
        "-The number of students enrolled in exclusively distance education courses are also reported by the following location categories:\n",
        "  - located in the same state/jurisdiction as the institution;\n",
        "  - in a different state/jurisdiction than the institution;\n",
        "  - in the U.S. but the state/jurisdiction is unknown;\n",
        "  - and residing outside the U.S."
      ],
      "metadata": {
        "id": "f2McP_AULyNe"
      }
    },
    {
      "cell_type": "markdown",
      "source": [
        "Variables of interest:\n",
        "- UNITID:Institution\n",
        "- EFDELEV:Level and degree-seeking/non degree-seeking status of student (Undergraduate,  Undergraduate-degree/certificate seeking/non-degree/certificate seeking, Graduate)\n",
        "- EFDETOT:Grand total enrolled for credit during the fall\n",
        "- EFDEEXC:Students who are enrolled only in courses that are considered distance education courses.\n",
        "- EFDESOM:Students who are enrolled in at least one course that is considered a distance education course, but are not enrolled exclusively in distance education courses.\n",
        "- EFDENON:Students who are not enrolled in any distance education courses.\n",
        "- EFDEEX1:Students who are enrolled only in courses that are considered distance education courses that are located in the same state/jurisdiction as the institution.\n",
        "- EFDEEX2:Students who are enrolled only in courses that are considered distance education courses that are lin a different state/jurisdiction than the institution.\n",
        "- EFDEEX3:Students who are enrolled only in courses that are considered distance education courses in the U.S. but the state/jurisdiction is unknown\n",
        "- EFDEEX4:Students who are enrolled only in courses that are considered distance education courses that are residing outside the U.S.\n",
        "- EFDEEX5:Students who are enrolled only in courses that are considered distance education courses and the location is unknown/not reported"
      ],
      "metadata": {
        "id": "FG67371yMb9o"
      }
    },
    {
      "cell_type": "code",
      "source": [
        "#get EFXXXa datasets by years\n",
        "path = '/content/DistanceLearning_Capstone/NCES IPEDS Data 2019-2022'\n",
        "ef_files = glob.glob(path + '/ef*dist*.csv')\n",
        "ef_files\n",
        "\n",
        "ef_file_dict = {}  # Dictionary to store file paths with year as key\n",
        "for file_path in ef_files:\n",
        "    file_name = os.path.basename(file_path)  # Get the filename from the path\n",
        "    year = file_name[2:6]  # Extract the year from the filename\n",
        "    ef_file_dict[year] = file_path  # Store the file path in the dictionary with year as key\n",
        "\n",
        "\n",
        "ef_file_dict\n",
        "\n",
        "# Access each file by its year\n",
        "# for year, file_path in ef_file_dict.items():\n",
        "#     print(f\"Year: {year}, File Path: {file_path}\")\n"
      ],
      "metadata": {
        "id": "WmBbjR1fPaAH",
        "colab": {
          "base_uri": "https://localhost:8080/"
        },
        "outputId": "ec7545d9-9bb9-4929-9304-08345ddcc94d"
      },
      "execution_count": 354,
      "outputs": [
        {
          "output_type": "execute_result",
          "data": {
            "text/plain": [
              "{'2020': '/content/DistanceLearning_Capstone/NCES IPEDS Data 2019-2022/ef2020a_dist_rv_DATA.csv',\n",
              " '2021': '/content/DistanceLearning_Capstone/NCES IPEDS Data 2019-2022/ef2021a_dist_rv_DATA.csv',\n",
              " '2019': '/content/DistanceLearning_Capstone/NCES IPEDS Data 2019-2022/ef2019a_dist_rv_DATA.csv',\n",
              " '2022': '/content/DistanceLearning_Capstone/NCES IPEDS Data 2019-2022/ef2022a_dist_DATA.csv'}"
            ]
          },
          "metadata": {},
          "execution_count": 354
        }
      ]
    },
    {
      "cell_type": "code",
      "source": [
        "ef_dfs = {}\n",
        "\n",
        "#read each file and create df- store to ef_df dict\n",
        "for year, file_path in ef_file_dict.items():\n",
        "  df= pd.read_csv(file_path,encoding='unicode_escape' )\n",
        "  ef_dfs[year]=df\n",
        "\n",
        "# ef_dfs"
      ],
      "metadata": {
        "id": "YTW62EG3T6YX"
      },
      "execution_count": 355,
      "outputs": []
    },
    {
      "cell_type": "code",
      "source": [
        "#retrieving individual datasets from dict\n",
        "ef2019=ef_dfs.get('2019') #(22862, 20)\n",
        "ef2020=ef_dfs.get('2020') #(22663, 20)\n",
        "ef2021=ef_dfs.get('2021') #(22469, 20)\n",
        "ef2022=ef_dfs.get('2022') #(22239, 20)\n",
        "ef2020.shape\n"
      ],
      "metadata": {
        "colab": {
          "base_uri": "https://localhost:8080/"
        },
        "id": "MrgemZ3_Rcdd",
        "outputId": "5d658d2b-8417-4c5d-93e8-bcbe699fdfdb"
      },
      "execution_count": 356,
      "outputs": [
        {
          "output_type": "execute_result",
          "data": {
            "text/plain": [
              "(22663, 20)"
            ]
          },
          "metadata": {},
          "execution_count": 356
        }
      ]
    },
    {
      "cell_type": "code",
      "source": [
        "# ef2019\n"
      ],
      "metadata": {
        "id": "UWnv0D6IXmGh"
      },
      "execution_count": 357,
      "outputs": []
    },
    {
      "cell_type": "markdown",
      "source": [
        "Merging institution data  with enrollment datasets"
      ],
      "metadata": {
        "id": "Ejkfz2Lk_WVG"
      }
    },
    {
      "cell_type": "code",
      "source": [
        "#merge hd and ef datasets by year\n",
        "dep2019= pd.merge(hd2019, ef2019, on='UNITID', how='outer')\n",
        "dep2020= pd.merge(hd2020, ef2020, on='UNITID', how='outer')\n",
        "dep2021= pd.merge(hd2021, ef2021, on='UNITID', how='outer')\n",
        "dep2022= pd.merge(hd2022, ef2022, on='UNITID', how='outer')"
      ],
      "metadata": {
        "id": "MaefiRrHUHdB"
      },
      "execution_count": 358,
      "outputs": []
    },
    {
      "cell_type": "code",
      "source": [
        "# dep2019.shape #(23242, 30)\n",
        "# dep2020.shape #(22974, 30)\n",
        "# dep2021.shape #(22708, 30)\n",
        "# dep2022.shape #(22517, 30)"
      ],
      "metadata": {
        "id": "E7UKABNDVutL"
      },
      "execution_count": 359,
      "outputs": []
    },
    {
      "cell_type": "code",
      "source": [
        "dep2020.columns"
      ],
      "metadata": {
        "id": "9ko8p_TfWTJF",
        "colab": {
          "base_uri": "https://localhost:8080/"
        },
        "outputId": "9ffa36fa-5a00-42f5-dae8-d90751d182a0"
      },
      "execution_count": 360,
      "outputs": [
        {
          "output_type": "execute_result",
          "data": {
            "text/plain": [
              "Index(['UNITID', 'INSTNM', 'IALIAS', 'STABBR', 'ICLEVEL', 'CONTROL', 'HLOFFER',\n",
              "       'DEGGRANT', 'PSEFLAG', 'LONGITUD', 'LATITUDE', 'EFDELEV', 'XEFDETOT',\n",
              "       'EFDETOT', 'XEFDEEXC', 'EFDEEXC', 'XEFDESOM', 'EFDESOM', 'XEFDENON',\n",
              "       'EFDENON', 'XEFDEEX1', 'EFDEEX1', 'XEFDEEX2', 'EFDEEX2', 'XEFDEEX3',\n",
              "       'EFDEEX3', 'XEFDEEX4', 'EFDEEX4', 'XEFDEEX5', 'EFDEEX5 '],\n",
              "      dtype='object')"
            ]
          },
          "metadata": {},
          "execution_count": 360
        }
      ]
    },
    {
      "cell_type": "code",
      "source": [
        "#function to clean datasets (remove Nans)\n",
        "def cleaneddf(df):\n",
        "  cleaned_df = df.dropna(subset ='EFDETOT')\n",
        "\n",
        "  return cleaned_df\n",
        "\n",
        "#master datasets by year\n",
        "dep_2019 = cleaneddf(dep2019)\n",
        "dep_2020 = cleaneddf(dep2020)\n",
        "dep_2021 = cleaneddf(dep2021)\n",
        "dep_2022 = cleaneddf(dep2022)\n"
      ],
      "metadata": {
        "id": "DxKdXIkBXT_R"
      },
      "execution_count": 361,
      "outputs": []
    },
    {
      "cell_type": "code",
      "source": [
        "#ef2022a file to large to upload to GitHub- split+ concat\n",
        "#insert into dictionary below\n",
        "\n",
        "ef2022a_1=pd.read_csv('/content/DistanceLearning_Capstone/NCES IPEDS Data 2019-2022/ef2022a_1.csv')\n",
        "ef2022_a2=pd.read_csv('/content/DistanceLearning_Capstone/NCES IPEDS Data 2019-2022/ef2022a_2.csv')\n",
        "ef2022a= pd.concat([ef2022a_1, ef2022_a2], ignore_index=True)\n",
        "ef2022a.to_csv('ef2022a.csv', index=False)"
      ],
      "metadata": {
        "id": "q04m42b9XQcg"
      },
      "execution_count": 362,
      "outputs": []
    },
    {
      "cell_type": "markdown",
      "source": [
        "Merge Age, Gender, Race with institution identifying names\n",
        "\n"
      ],
      "metadata": {
        "id": "1HzEgkXW0NWF"
      }
    },
    {
      "cell_type": "code",
      "source": [
        "#get demographic datasets by years with variables of interest (race/ethnicity and gender\n",
        "\n",
        "path = '/content/DistanceLearning_Capstone/NCES IPEDS Data 2019-2022'\n",
        "rg_files = glob.glob(path + '/*a_*.csv')\n",
        "rg_files = [file for file in rg_files if \"dist\" not in file]\n",
        "rg_files\n",
        "rg_file_dict = {}  # Dictionary to store file paths with year as key\n",
        "\n",
        "for file_path in rg_files:\n",
        "    file_name = os.path.basename(file_path)  # Get the filename from the path\n",
        "    year = file_name[2:6]  # Extract the year from the filename\n",
        "    rg_file_dict[year] = file_path  # Store the file path in the dictionary with year as key\n",
        "rg_file_dict\n",
        "new_file='/content/DistanceLearning_Capstone/ef2022a.csv'\n",
        "rg_file_dict['2022'] = new_file\n",
        "rg_file_dict\n",
        "# # Access each file by its year\n",
        "# for year, file_path in rg_file_dict.items():\n",
        "#     print(f\"Year: {year}, File Path: {file_path}\")"
      ],
      "metadata": {
        "colab": {
          "base_uri": "https://localhost:8080/"
        },
        "id": "_XhuYbJ5--IZ",
        "outputId": "440524f1-6f99-4ea4-b646-bc9b5ec6b7fc"
      },
      "execution_count": 363,
      "outputs": [
        {
          "output_type": "execute_result",
          "data": {
            "text/plain": [
              "{'2021': '/content/DistanceLearning_Capstone/NCES IPEDS Data 2019-2022/ef2021a_rv.csv',\n",
              " '2022': '/content/DistanceLearning_Capstone/ef2022a.csv',\n",
              " '2019': '/content/DistanceLearning_Capstone/NCES IPEDS Data 2019-2022/ef2019a_rv.csv',\n",
              " '2020': '/content/DistanceLearning_Capstone/NCES IPEDS Data 2019-2022/ef2020a_rv.csv'}"
            ]
          },
          "metadata": {},
          "execution_count": 363
        }
      ]
    },
    {
      "cell_type": "code",
      "source": [
        "rg_dfs = {}\n",
        "\n",
        "#read each file and create df- store to ef_df dict\n",
        "for year, file_path in rg_file_dict.items():\n",
        "  df= pd.read_csv(file_path,encoding='unicode_escape' )\n",
        "  rg_dfs[year]=df\n",
        "\n",
        "# rg_dfs"
      ],
      "metadata": {
        "id": "lF4Atrp4ZVWN"
      },
      "execution_count": 364,
      "outputs": []
    },
    {
      "cell_type": "code",
      "source": [
        "#retrieving individual datasets from dict\n",
        "rg2019=rg_dfs.get('2019') #(118917, 65)\n",
        "rg2020=rg_dfs.get('2020') #(117881, 65)\n",
        "rg2021=rg_dfs.get('2021') #(116965, 65)\n",
        "rg2022=rg_dfs.get('2022') #(116110, 73)\n",
        "rg2022.shape\n",
        "\n"
      ],
      "metadata": {
        "colab": {
          "base_uri": "https://localhost:8080/"
        },
        "id": "cD_0u0KkZJVo",
        "outputId": "e8fe10a9-fc27-4a24-dc79-e7b43e1d964d"
      },
      "execution_count": 365,
      "outputs": [
        {
          "output_type": "execute_result",
          "data": {
            "text/plain": [
              "(116110, 73)"
            ]
          },
          "metadata": {},
          "execution_count": 365
        }
      ]
    },
    {
      "cell_type": "code",
      "source": [
        "# rg2022.columns\n",
        "# rg2021.columns\n",
        "#2022 columns not in other datasets- remove\n",
        "cols_drop=['XEFGNDRU', 'EFGNDRUN', 'XEFGNDRA', 'EFGNDRAN',\n",
        "'XEFGNDRU.1', 'EFGNDRUA', 'XEFGNDRK', 'EFGNDRKN']\n",
        "rg2022=rg2022.drop(columns=cols_drop, axis=1)\n",
        "# rg2022 = rg2022.rename(columns={'LEVEL': 'EFALEVEL'})\n",
        "rg2022.shape"
      ],
      "metadata": {
        "colab": {
          "base_uri": "https://localhost:8080/"
        },
        "id": "qQUB7htEaACm",
        "outputId": "1c55ec5a-b862-4d7d-b9a3-424d03df0f22"
      },
      "execution_count": 366,
      "outputs": [
        {
          "output_type": "execute_result",
          "data": {
            "text/plain": [
              "(116110, 65)"
            ]
          },
          "metadata": {},
          "execution_count": 366
        }
      ]
    },
    {
      "cell_type": "code",
      "source": [
        "rg2020.columns"
      ],
      "metadata": {
        "id": "aEMn612yeY8Z",
        "colab": {
          "base_uri": "https://localhost:8080/"
        },
        "outputId": "60b0d518-8180-43c6-d2ad-fe433461bb17"
      },
      "execution_count": 373,
      "outputs": [
        {
          "output_type": "execute_result",
          "data": {
            "text/plain": [
              "Index(['UNITID', 'EFALEVEL', 'LINE', 'SECTION', 'LSTUDY', 'XEFTOTLT',\n",
              "       'EFTOTLT', 'XEFTOTLM', 'EFTOTLM', 'XEFTOTLW', 'EFTOTLW', 'XEFAIANT',\n",
              "       'EFAIANT', 'XEFAIANM', 'EFAIANM', 'XEFAIANW', 'EFAIANW', 'XEFASIAT',\n",
              "       'EFASIAT', 'XEFASIAM', 'EFASIAM', 'XEFASIAW', 'EFASIAW', 'XEFBKAAT',\n",
              "       'EFBKAAT', 'XEFBKAAM', 'EFBKAAM', 'XEFBKAAW', 'EFBKAAW', 'XEFHISPT',\n",
              "       'EFHISPT', 'XEFHISPM', 'EFHISPM', 'XEFHISPW', 'EFHISPW', 'XEFNHPIT',\n",
              "       'EFNHPIT', 'XEFNHPIM', 'EFNHPIM', 'XEFNHPIW', 'EFNHPIW', 'XEFWHITT',\n",
              "       'EFWHITT', 'XEFWHITM', 'EFWHITM', 'XEFWHITW', 'EFWHITW', 'XEF2MORT',\n",
              "       'EF2MORT', 'XEF2MORM', 'EF2MORM', 'XEF2MORW', 'EF2MORW', 'XEFUNKNT',\n",
              "       'EFUNKNT', 'XEFUNKNM', 'EFUNKNM', 'XEFUNKNW', 'EFUNKNW', 'XEFNRALT',\n",
              "       'EFNRALT', 'XEFNRALM', 'EFNRALM', 'XEFNRALW', 'EFNRALW'],\n",
              "      dtype='object')"
            ]
          },
          "metadata": {},
          "execution_count": 373
        }
      ]
    },
    {
      "cell_type": "code",
      "source": [
        "cols_keep= cols_keep=['UNITID','EFALEVEL','EFALEVEL', 'LINE', 'SECTION', 'LSTUDY',\n",
        "                       'EFTOTLT', 'EFTOTLM', 'EFTOTLW',\n",
        "                      'EFAIANT', 'EFAIANM', 'EFAIANW', 'EFASIAT',\n",
        "                      'EFASIAM', 'EFASIAW', 'EFBKAAT', 'EFBKAAM',\n",
        "                      'EFBKAAW', 'EFHISPT', 'EFHISPM', 'EFHISPW',\n",
        "                      'EFNHPIT', 'EFNHPIM', 'EFNHPIW', 'EFWHITT',\n",
        "                      'EFWHITM', 'EFWHITW', 'EF2MORT', 'EF2MORM',\n",
        "                      'EF2MORW', 'EFUNKNT', 'EFUNKNM', 'EFUNKNW',\n",
        "                      'EFNRALT', 'EFNRALM', 'EFNRALW']\n",
        "\n",
        "\n",
        "def rg_cols_keep(df):\n",
        "  cleaned_df = df[cols_keep]\n",
        "  return cleaned_df\n",
        "\n",
        "#remove white space in columns\n",
        "rg2019=rg2019.rename(columns=lambda x: x.strip())\n",
        "rg2020=rg2020.rename(columns=lambda x: x.strip())\n",
        "rg2021=rg2021.rename(columns=lambda x: x.strip())\n",
        "\n",
        "rg_2019 =rg_cols_keep(rg2019)\n",
        "rg_2020 =rg_cols_keep(rg2020)\n",
        "rg_2021 =rg_cols_keep(rg2021)\n",
        "rg_2022 =rg_cols_keep(rg2022)\n",
        "\n"
      ],
      "metadata": {
        "id": "xTxqJjdYaDlG"
      },
      "execution_count": 374,
      "outputs": []
    },
    {
      "cell_type": "code",
      "source": [],
      "metadata": {
        "id": "gFF6kI2bn0DH"
      },
      "execution_count": 374,
      "outputs": []
    },
    {
      "cell_type": "code",
      "source": [
        "# # # dep_2019.shape\n",
        "# rg_2019.shape\n",
        "# # hd2019.head()"
      ],
      "metadata": {
        "id": "PZ-lhFalgrWU"
      },
      "execution_count": 376,
      "outputs": []
    },
    {
      "cell_type": "code",
      "source": [
        "#merge race/gender data with institution information (hd)\n",
        "\n",
        "def rg_hd_merge(df1, df2):\n",
        "  newdf=pd.merge(df1, df2,  on='UNITID',how='inner')\n",
        "  return newdf\n",
        "\n",
        "# rg2019_inst=pd.merge(hd2019,rg_2019, on='UNITID',\n",
        "#                           how='inner')\n",
        "rginst2019=rg_hd_merge(hd2019,rg_2019,)\n",
        "rginst2020=rg_hd_merge(hd2020, rg_2020)\n",
        "rginst2021=rg_hd_merge(hd2021, rg_2021)\n",
        "rginst2022=rg_hd_merge(hd2022, rg_2022)\n",
        "\n",
        "rginst2019"
      ],
      "metadata": {
        "colab": {
          "base_uri": "https://localhost:8080/",
          "height": 790
        },
        "id": "zwdFjQoSgdYp",
        "outputId": "ed37e12a-d865-452e-870a-c19356ff595d"
      },
      "execution_count": 377,
      "outputs": [
        {
          "output_type": "execute_result",
          "data": {
            "text/plain": [
              "        UNITID                    INSTNM IALIAS STABBR  ICLEVEL  CONTROL  \\\n",
              "0       100654  Alabama A & M University   AAMU     AL        1        1   \n",
              "1       100654  Alabama A & M University   AAMU     AL        1        1   \n",
              "2       100654  Alabama A & M University   AAMU     AL        1        1   \n",
              "3       100654  Alabama A & M University   AAMU     AL        1        1   \n",
              "4       100654  Alabama A & M University   AAMU     AL        1        1   \n",
              "...        ...                       ...    ...    ...      ...      ...   \n",
              "118912  494904   Access Careers-Islandia            NY        3        3   \n",
              "118913  494904   Access Careers-Islandia            NY        3        3   \n",
              "118914  494904   Access Careers-Islandia            NY        3        3   \n",
              "118915  494904   Access Careers-Islandia            NY        3        3   \n",
              "118916  494904   Access Careers-Islandia            NY        3        3   \n",
              "\n",
              "        HLOFFER  DEGGRANT  PSEFLAG   LONGITUD  ...  EFWHITW  EF2MORT  EF2MORM  \\\n",
              "0             9         1        1 -86.568502  ...       64       65       23   \n",
              "1             9         1        1 -86.568502  ...       29       60       21   \n",
              "2             9         1        1 -86.568502  ...       28       60       21   \n",
              "3             9         1        1 -86.568502  ...        8       23        8   \n",
              "4             9         1        1 -86.568502  ...       20       37       13   \n",
              "...         ...       ...      ...        ...  ...      ...      ...      ...   \n",
              "118912        2         2        1 -73.175617  ...       10        0        0   \n",
              "118913        2         2        1 -73.175617  ...       10        0        0   \n",
              "118914        2         2        1 -73.175617  ...        8        0        0   \n",
              "118915        2         2        1 -73.175617  ...        2        0        0   \n",
              "118916        2         2        1 -73.175617  ...        2        0        0   \n",
              "\n",
              "        EF2MORW  EFUNKNT  EFUNKNM  EFUNKNW  EFNRALT  EFNRALM  EFNRALW  \n",
              "0            42      407      129      278       79       40       39  \n",
              "1            39      243       86      157       37       20       17  \n",
              "2            39      243       86      157       37       20       17  \n",
              "3            15       76       26       50       11        5        6  \n",
              "4            24      167       60      107       26       15       11  \n",
              "...         ...      ...      ...      ...      ...      ...      ...  \n",
              "118912        0        0        0        0        0        0        0  \n",
              "118913        0        0        0        0        0        0        0  \n",
              "118914        0        0        0        0        0        0        0  \n",
              "118915        0        0        0        0        0        0        0  \n",
              "118916        0        0        0        0        0        0        0  \n",
              "\n",
              "[118917 rows x 46 columns]"
            ],
            "text/html": [
              "\n",
              "  <div id=\"df-8fd04361-078c-4d0f-b09b-4279940cbb6e\" class=\"colab-df-container\">\n",
              "    <div>\n",
              "<style scoped>\n",
              "    .dataframe tbody tr th:only-of-type {\n",
              "        vertical-align: middle;\n",
              "    }\n",
              "\n",
              "    .dataframe tbody tr th {\n",
              "        vertical-align: top;\n",
              "    }\n",
              "\n",
              "    .dataframe thead th {\n",
              "        text-align: right;\n",
              "    }\n",
              "</style>\n",
              "<table border=\"1\" class=\"dataframe\">\n",
              "  <thead>\n",
              "    <tr style=\"text-align: right;\">\n",
              "      <th></th>\n",
              "      <th>UNITID</th>\n",
              "      <th>INSTNM</th>\n",
              "      <th>IALIAS</th>\n",
              "      <th>STABBR</th>\n",
              "      <th>ICLEVEL</th>\n",
              "      <th>CONTROL</th>\n",
              "      <th>HLOFFER</th>\n",
              "      <th>DEGGRANT</th>\n",
              "      <th>PSEFLAG</th>\n",
              "      <th>LONGITUD</th>\n",
              "      <th>...</th>\n",
              "      <th>EFWHITW</th>\n",
              "      <th>EF2MORT</th>\n",
              "      <th>EF2MORM</th>\n",
              "      <th>EF2MORW</th>\n",
              "      <th>EFUNKNT</th>\n",
              "      <th>EFUNKNM</th>\n",
              "      <th>EFUNKNW</th>\n",
              "      <th>EFNRALT</th>\n",
              "      <th>EFNRALM</th>\n",
              "      <th>EFNRALW</th>\n",
              "    </tr>\n",
              "  </thead>\n",
              "  <tbody>\n",
              "    <tr>\n",
              "      <th>0</th>\n",
              "      <td>100654</td>\n",
              "      <td>Alabama A &amp; M University</td>\n",
              "      <td>AAMU</td>\n",
              "      <td>AL</td>\n",
              "      <td>1</td>\n",
              "      <td>1</td>\n",
              "      <td>9</td>\n",
              "      <td>1</td>\n",
              "      <td>1</td>\n",
              "      <td>-86.568502</td>\n",
              "      <td>...</td>\n",
              "      <td>64</td>\n",
              "      <td>65</td>\n",
              "      <td>23</td>\n",
              "      <td>42</td>\n",
              "      <td>407</td>\n",
              "      <td>129</td>\n",
              "      <td>278</td>\n",
              "      <td>79</td>\n",
              "      <td>40</td>\n",
              "      <td>39</td>\n",
              "    </tr>\n",
              "    <tr>\n",
              "      <th>1</th>\n",
              "      <td>100654</td>\n",
              "      <td>Alabama A &amp; M University</td>\n",
              "      <td>AAMU</td>\n",
              "      <td>AL</td>\n",
              "      <td>1</td>\n",
              "      <td>1</td>\n",
              "      <td>9</td>\n",
              "      <td>1</td>\n",
              "      <td>1</td>\n",
              "      <td>-86.568502</td>\n",
              "      <td>...</td>\n",
              "      <td>29</td>\n",
              "      <td>60</td>\n",
              "      <td>21</td>\n",
              "      <td>39</td>\n",
              "      <td>243</td>\n",
              "      <td>86</td>\n",
              "      <td>157</td>\n",
              "      <td>37</td>\n",
              "      <td>20</td>\n",
              "      <td>17</td>\n",
              "    </tr>\n",
              "    <tr>\n",
              "      <th>2</th>\n",
              "      <td>100654</td>\n",
              "      <td>Alabama A &amp; M University</td>\n",
              "      <td>AAMU</td>\n",
              "      <td>AL</td>\n",
              "      <td>1</td>\n",
              "      <td>1</td>\n",
              "      <td>9</td>\n",
              "      <td>1</td>\n",
              "      <td>1</td>\n",
              "      <td>-86.568502</td>\n",
              "      <td>...</td>\n",
              "      <td>28</td>\n",
              "      <td>60</td>\n",
              "      <td>21</td>\n",
              "      <td>39</td>\n",
              "      <td>243</td>\n",
              "      <td>86</td>\n",
              "      <td>157</td>\n",
              "      <td>37</td>\n",
              "      <td>20</td>\n",
              "      <td>17</td>\n",
              "    </tr>\n",
              "    <tr>\n",
              "      <th>3</th>\n",
              "      <td>100654</td>\n",
              "      <td>Alabama A &amp; M University</td>\n",
              "      <td>AAMU</td>\n",
              "      <td>AL</td>\n",
              "      <td>1</td>\n",
              "      <td>1</td>\n",
              "      <td>9</td>\n",
              "      <td>1</td>\n",
              "      <td>1</td>\n",
              "      <td>-86.568502</td>\n",
              "      <td>...</td>\n",
              "      <td>8</td>\n",
              "      <td>23</td>\n",
              "      <td>8</td>\n",
              "      <td>15</td>\n",
              "      <td>76</td>\n",
              "      <td>26</td>\n",
              "      <td>50</td>\n",
              "      <td>11</td>\n",
              "      <td>5</td>\n",
              "      <td>6</td>\n",
              "    </tr>\n",
              "    <tr>\n",
              "      <th>4</th>\n",
              "      <td>100654</td>\n",
              "      <td>Alabama A &amp; M University</td>\n",
              "      <td>AAMU</td>\n",
              "      <td>AL</td>\n",
              "      <td>1</td>\n",
              "      <td>1</td>\n",
              "      <td>9</td>\n",
              "      <td>1</td>\n",
              "      <td>1</td>\n",
              "      <td>-86.568502</td>\n",
              "      <td>...</td>\n",
              "      <td>20</td>\n",
              "      <td>37</td>\n",
              "      <td>13</td>\n",
              "      <td>24</td>\n",
              "      <td>167</td>\n",
              "      <td>60</td>\n",
              "      <td>107</td>\n",
              "      <td>26</td>\n",
              "      <td>15</td>\n",
              "      <td>11</td>\n",
              "    </tr>\n",
              "    <tr>\n",
              "      <th>...</th>\n",
              "      <td>...</td>\n",
              "      <td>...</td>\n",
              "      <td>...</td>\n",
              "      <td>...</td>\n",
              "      <td>...</td>\n",
              "      <td>...</td>\n",
              "      <td>...</td>\n",
              "      <td>...</td>\n",
              "      <td>...</td>\n",
              "      <td>...</td>\n",
              "      <td>...</td>\n",
              "      <td>...</td>\n",
              "      <td>...</td>\n",
              "      <td>...</td>\n",
              "      <td>...</td>\n",
              "      <td>...</td>\n",
              "      <td>...</td>\n",
              "      <td>...</td>\n",
              "      <td>...</td>\n",
              "      <td>...</td>\n",
              "      <td>...</td>\n",
              "    </tr>\n",
              "    <tr>\n",
              "      <th>118912</th>\n",
              "      <td>494904</td>\n",
              "      <td>Access Careers-Islandia</td>\n",
              "      <td></td>\n",
              "      <td>NY</td>\n",
              "      <td>3</td>\n",
              "      <td>3</td>\n",
              "      <td>2</td>\n",
              "      <td>2</td>\n",
              "      <td>1</td>\n",
              "      <td>-73.175617</td>\n",
              "      <td>...</td>\n",
              "      <td>10</td>\n",
              "      <td>0</td>\n",
              "      <td>0</td>\n",
              "      <td>0</td>\n",
              "      <td>0</td>\n",
              "      <td>0</td>\n",
              "      <td>0</td>\n",
              "      <td>0</td>\n",
              "      <td>0</td>\n",
              "      <td>0</td>\n",
              "    </tr>\n",
              "    <tr>\n",
              "      <th>118913</th>\n",
              "      <td>494904</td>\n",
              "      <td>Access Careers-Islandia</td>\n",
              "      <td></td>\n",
              "      <td>NY</td>\n",
              "      <td>3</td>\n",
              "      <td>3</td>\n",
              "      <td>2</td>\n",
              "      <td>2</td>\n",
              "      <td>1</td>\n",
              "      <td>-73.175617</td>\n",
              "      <td>...</td>\n",
              "      <td>10</td>\n",
              "      <td>0</td>\n",
              "      <td>0</td>\n",
              "      <td>0</td>\n",
              "      <td>0</td>\n",
              "      <td>0</td>\n",
              "      <td>0</td>\n",
              "      <td>0</td>\n",
              "      <td>0</td>\n",
              "      <td>0</td>\n",
              "    </tr>\n",
              "    <tr>\n",
              "      <th>118914</th>\n",
              "      <td>494904</td>\n",
              "      <td>Access Careers-Islandia</td>\n",
              "      <td></td>\n",
              "      <td>NY</td>\n",
              "      <td>3</td>\n",
              "      <td>3</td>\n",
              "      <td>2</td>\n",
              "      <td>2</td>\n",
              "      <td>1</td>\n",
              "      <td>-73.175617</td>\n",
              "      <td>...</td>\n",
              "      <td>8</td>\n",
              "      <td>0</td>\n",
              "      <td>0</td>\n",
              "      <td>0</td>\n",
              "      <td>0</td>\n",
              "      <td>0</td>\n",
              "      <td>0</td>\n",
              "      <td>0</td>\n",
              "      <td>0</td>\n",
              "      <td>0</td>\n",
              "    </tr>\n",
              "    <tr>\n",
              "      <th>118915</th>\n",
              "      <td>494904</td>\n",
              "      <td>Access Careers-Islandia</td>\n",
              "      <td></td>\n",
              "      <td>NY</td>\n",
              "      <td>3</td>\n",
              "      <td>3</td>\n",
              "      <td>2</td>\n",
              "      <td>2</td>\n",
              "      <td>1</td>\n",
              "      <td>-73.175617</td>\n",
              "      <td>...</td>\n",
              "      <td>2</td>\n",
              "      <td>0</td>\n",
              "      <td>0</td>\n",
              "      <td>0</td>\n",
              "      <td>0</td>\n",
              "      <td>0</td>\n",
              "      <td>0</td>\n",
              "      <td>0</td>\n",
              "      <td>0</td>\n",
              "      <td>0</td>\n",
              "    </tr>\n",
              "    <tr>\n",
              "      <th>118916</th>\n",
              "      <td>494904</td>\n",
              "      <td>Access Careers-Islandia</td>\n",
              "      <td></td>\n",
              "      <td>NY</td>\n",
              "      <td>3</td>\n",
              "      <td>3</td>\n",
              "      <td>2</td>\n",
              "      <td>2</td>\n",
              "      <td>1</td>\n",
              "      <td>-73.175617</td>\n",
              "      <td>...</td>\n",
              "      <td>2</td>\n",
              "      <td>0</td>\n",
              "      <td>0</td>\n",
              "      <td>0</td>\n",
              "      <td>0</td>\n",
              "      <td>0</td>\n",
              "      <td>0</td>\n",
              "      <td>0</td>\n",
              "      <td>0</td>\n",
              "      <td>0</td>\n",
              "    </tr>\n",
              "  </tbody>\n",
              "</table>\n",
              "<p>118917 rows × 46 columns</p>\n",
              "</div>\n",
              "    <div class=\"colab-df-buttons\">\n",
              "\n",
              "  <div class=\"colab-df-container\">\n",
              "    <button class=\"colab-df-convert\" onclick=\"convertToInteractive('df-8fd04361-078c-4d0f-b09b-4279940cbb6e')\"\n",
              "            title=\"Convert this dataframe to an interactive table.\"\n",
              "            style=\"display:none;\">\n",
              "\n",
              "  <svg xmlns=\"http://www.w3.org/2000/svg\" height=\"24px\" viewBox=\"0 -960 960 960\">\n",
              "    <path d=\"M120-120v-720h720v720H120Zm60-500h600v-160H180v160Zm220 220h160v-160H400v160Zm0 220h160v-160H400v160ZM180-400h160v-160H180v160Zm440 0h160v-160H620v160ZM180-180h160v-160H180v160Zm440 0h160v-160H620v160Z\"/>\n",
              "  </svg>\n",
              "    </button>\n",
              "\n",
              "  <style>\n",
              "    .colab-df-container {\n",
              "      display:flex;\n",
              "      gap: 12px;\n",
              "    }\n",
              "\n",
              "    .colab-df-convert {\n",
              "      background-color: #E8F0FE;\n",
              "      border: none;\n",
              "      border-radius: 50%;\n",
              "      cursor: pointer;\n",
              "      display: none;\n",
              "      fill: #1967D2;\n",
              "      height: 32px;\n",
              "      padding: 0 0 0 0;\n",
              "      width: 32px;\n",
              "    }\n",
              "\n",
              "    .colab-df-convert:hover {\n",
              "      background-color: #E2EBFA;\n",
              "      box-shadow: 0px 1px 2px rgba(60, 64, 67, 0.3), 0px 1px 3px 1px rgba(60, 64, 67, 0.15);\n",
              "      fill: #174EA6;\n",
              "    }\n",
              "\n",
              "    .colab-df-buttons div {\n",
              "      margin-bottom: 4px;\n",
              "    }\n",
              "\n",
              "    [theme=dark] .colab-df-convert {\n",
              "      background-color: #3B4455;\n",
              "      fill: #D2E3FC;\n",
              "    }\n",
              "\n",
              "    [theme=dark] .colab-df-convert:hover {\n",
              "      background-color: #434B5C;\n",
              "      box-shadow: 0px 1px 3px 1px rgba(0, 0, 0, 0.15);\n",
              "      filter: drop-shadow(0px 1px 2px rgba(0, 0, 0, 0.3));\n",
              "      fill: #FFFFFF;\n",
              "    }\n",
              "  </style>\n",
              "\n",
              "    <script>\n",
              "      const buttonEl =\n",
              "        document.querySelector('#df-8fd04361-078c-4d0f-b09b-4279940cbb6e button.colab-df-convert');\n",
              "      buttonEl.style.display =\n",
              "        google.colab.kernel.accessAllowed ? 'block' : 'none';\n",
              "\n",
              "      async function convertToInteractive(key) {\n",
              "        const element = document.querySelector('#df-8fd04361-078c-4d0f-b09b-4279940cbb6e');\n",
              "        const dataTable =\n",
              "          await google.colab.kernel.invokeFunction('convertToInteractive',\n",
              "                                                    [key], {});\n",
              "        if (!dataTable) return;\n",
              "\n",
              "        const docLinkHtml = 'Like what you see? Visit the ' +\n",
              "          '<a target=\"_blank\" href=https://colab.research.google.com/notebooks/data_table.ipynb>data table notebook</a>'\n",
              "          + ' to learn more about interactive tables.';\n",
              "        element.innerHTML = '';\n",
              "        dataTable['output_type'] = 'display_data';\n",
              "        await google.colab.output.renderOutput(dataTable, element);\n",
              "        const docLink = document.createElement('div');\n",
              "        docLink.innerHTML = docLinkHtml;\n",
              "        element.appendChild(docLink);\n",
              "      }\n",
              "    </script>\n",
              "  </div>\n",
              "\n",
              "\n",
              "<div id=\"df-d71a08e5-aeef-49e2-b612-c891d9681c7c\">\n",
              "  <button class=\"colab-df-quickchart\" onclick=\"quickchart('df-d71a08e5-aeef-49e2-b612-c891d9681c7c')\"\n",
              "            title=\"Suggest charts\"\n",
              "            style=\"display:none;\">\n",
              "\n",
              "<svg xmlns=\"http://www.w3.org/2000/svg\" height=\"24px\"viewBox=\"0 0 24 24\"\n",
              "     width=\"24px\">\n",
              "    <g>\n",
              "        <path d=\"M19 3H5c-1.1 0-2 .9-2 2v14c0 1.1.9 2 2 2h14c1.1 0 2-.9 2-2V5c0-1.1-.9-2-2-2zM9 17H7v-7h2v7zm4 0h-2V7h2v10zm4 0h-2v-4h2v4z\"/>\n",
              "    </g>\n",
              "</svg>\n",
              "  </button>\n",
              "\n",
              "<style>\n",
              "  .colab-df-quickchart {\n",
              "      --bg-color: #E8F0FE;\n",
              "      --fill-color: #1967D2;\n",
              "      --hover-bg-color: #E2EBFA;\n",
              "      --hover-fill-color: #174EA6;\n",
              "      --disabled-fill-color: #AAA;\n",
              "      --disabled-bg-color: #DDD;\n",
              "  }\n",
              "\n",
              "  [theme=dark] .colab-df-quickchart {\n",
              "      --bg-color: #3B4455;\n",
              "      --fill-color: #D2E3FC;\n",
              "      --hover-bg-color: #434B5C;\n",
              "      --hover-fill-color: #FFFFFF;\n",
              "      --disabled-bg-color: #3B4455;\n",
              "      --disabled-fill-color: #666;\n",
              "  }\n",
              "\n",
              "  .colab-df-quickchart {\n",
              "    background-color: var(--bg-color);\n",
              "    border: none;\n",
              "    border-radius: 50%;\n",
              "    cursor: pointer;\n",
              "    display: none;\n",
              "    fill: var(--fill-color);\n",
              "    height: 32px;\n",
              "    padding: 0;\n",
              "    width: 32px;\n",
              "  }\n",
              "\n",
              "  .colab-df-quickchart:hover {\n",
              "    background-color: var(--hover-bg-color);\n",
              "    box-shadow: 0 1px 2px rgba(60, 64, 67, 0.3), 0 1px 3px 1px rgba(60, 64, 67, 0.15);\n",
              "    fill: var(--button-hover-fill-color);\n",
              "  }\n",
              "\n",
              "  .colab-df-quickchart-complete:disabled,\n",
              "  .colab-df-quickchart-complete:disabled:hover {\n",
              "    background-color: var(--disabled-bg-color);\n",
              "    fill: var(--disabled-fill-color);\n",
              "    box-shadow: none;\n",
              "  }\n",
              "\n",
              "  .colab-df-spinner {\n",
              "    border: 2px solid var(--fill-color);\n",
              "    border-color: transparent;\n",
              "    border-bottom-color: var(--fill-color);\n",
              "    animation:\n",
              "      spin 1s steps(1) infinite;\n",
              "  }\n",
              "\n",
              "  @keyframes spin {\n",
              "    0% {\n",
              "      border-color: transparent;\n",
              "      border-bottom-color: var(--fill-color);\n",
              "      border-left-color: var(--fill-color);\n",
              "    }\n",
              "    20% {\n",
              "      border-color: transparent;\n",
              "      border-left-color: var(--fill-color);\n",
              "      border-top-color: var(--fill-color);\n",
              "    }\n",
              "    30% {\n",
              "      border-color: transparent;\n",
              "      border-left-color: var(--fill-color);\n",
              "      border-top-color: var(--fill-color);\n",
              "      border-right-color: var(--fill-color);\n",
              "    }\n",
              "    40% {\n",
              "      border-color: transparent;\n",
              "      border-right-color: var(--fill-color);\n",
              "      border-top-color: var(--fill-color);\n",
              "    }\n",
              "    60% {\n",
              "      border-color: transparent;\n",
              "      border-right-color: var(--fill-color);\n",
              "    }\n",
              "    80% {\n",
              "      border-color: transparent;\n",
              "      border-right-color: var(--fill-color);\n",
              "      border-bottom-color: var(--fill-color);\n",
              "    }\n",
              "    90% {\n",
              "      border-color: transparent;\n",
              "      border-bottom-color: var(--fill-color);\n",
              "    }\n",
              "  }\n",
              "</style>\n",
              "\n",
              "  <script>\n",
              "    async function quickchart(key) {\n",
              "      const quickchartButtonEl =\n",
              "        document.querySelector('#' + key + ' button');\n",
              "      quickchartButtonEl.disabled = true;  // To prevent multiple clicks.\n",
              "      quickchartButtonEl.classList.add('colab-df-spinner');\n",
              "      try {\n",
              "        const charts = await google.colab.kernel.invokeFunction(\n",
              "            'suggestCharts', [key], {});\n",
              "      } catch (error) {\n",
              "        console.error('Error during call to suggestCharts:', error);\n",
              "      }\n",
              "      quickchartButtonEl.classList.remove('colab-df-spinner');\n",
              "      quickchartButtonEl.classList.add('colab-df-quickchart-complete');\n",
              "    }\n",
              "    (() => {\n",
              "      let quickchartButtonEl =\n",
              "        document.querySelector('#df-d71a08e5-aeef-49e2-b612-c891d9681c7c button');\n",
              "      quickchartButtonEl.style.display =\n",
              "        google.colab.kernel.accessAllowed ? 'block' : 'none';\n",
              "    })();\n",
              "  </script>\n",
              "</div>\n",
              "    </div>\n",
              "  </div>\n"
            ],
            "application/vnd.google.colaboratory.intrinsic+json": {
              "type": "dataframe",
              "variable_name": "rginst2019"
            }
          },
          "metadata": {},
          "execution_count": 377
        }
      ]
    },
    {
      "cell_type": "code",
      "source": [
        "def add_year(df, year):\n",
        "  df.insert(2,'Year',year, True)\n",
        "  return df\n",
        "\n",
        "rginst2019= add_year(rginst2019, 2019)\n",
        "rginst2020= add_year(rginst2020, 2020)\n",
        "rginst2021= add_year(rginst2021, 2021)\n",
        "rginst2022= add_year(rginst2022, 2022)"
      ],
      "metadata": {
        "id": "wbMkMVR0sZFH"
      },
      "execution_count": 383,
      "outputs": []
    },
    {
      "cell_type": "code",
      "source": [
        "# rginst2022.head()"
      ],
      "metadata": {
        "colab": {
          "base_uri": "https://localhost:8080/",
          "height": 429
        },
        "id": "Bzf4fJ-Lswps",
        "outputId": "c2228da5-5ae2-4dad-f534-d69248e0d51a"
      },
      "execution_count": 385,
      "outputs": [
        {
          "output_type": "execute_result",
          "data": {
            "text/plain": [
              "   UNITID                    INSTNM  Year IALIAS STABBR  ICLEVEL  CONTROL  \\\n",
              "0  100654  Alabama A & M University  2022   AAMU     AL        1        1   \n",
              "1  100654  Alabama A & M University  2022   AAMU     AL        1        1   \n",
              "2  100654  Alabama A & M University  2022   AAMU     AL        1        1   \n",
              "3  100654  Alabama A & M University  2022   AAMU     AL        1        1   \n",
              "4  100654  Alabama A & M University  2022   AAMU     AL        1        1   \n",
              "\n",
              "   HLOFFER  DEGGRANT  PSEFLAG  ...  EFWHITW  EF2MORT  EF2MORM  EF2MORW  \\\n",
              "0        9         1        1  ...       66       66       20       46   \n",
              "1        9         1        1  ...       57       66       20       46   \n",
              "2        9         1        1  ...       57       66       20       46   \n",
              "3        9         1        1  ...       11       23        6       17   \n",
              "4        9         1        1  ...       46       43       14       29   \n",
              "\n",
              "   EFUNKNT  EFUNKNM  EFUNKNW  EFNRALT  EFNRALM  EFNRALW  \n",
              "0      473      180      293      110       66       44  \n",
              "1      228      105      123       60       38       22  \n",
              "2      226      104      122       60       38       22  \n",
              "3       77       42       35       19       17        2  \n",
              "4      149       62       87       41       21       20  \n",
              "\n",
              "[5 rows x 47 columns]"
            ],
            "text/html": [
              "\n",
              "  <div id=\"df-f6c889d5-51c7-4a11-aabe-55777b926e4d\" class=\"colab-df-container\">\n",
              "    <div>\n",
              "<style scoped>\n",
              "    .dataframe tbody tr th:only-of-type {\n",
              "        vertical-align: middle;\n",
              "    }\n",
              "\n",
              "    .dataframe tbody tr th {\n",
              "        vertical-align: top;\n",
              "    }\n",
              "\n",
              "    .dataframe thead th {\n",
              "        text-align: right;\n",
              "    }\n",
              "</style>\n",
              "<table border=\"1\" class=\"dataframe\">\n",
              "  <thead>\n",
              "    <tr style=\"text-align: right;\">\n",
              "      <th></th>\n",
              "      <th>UNITID</th>\n",
              "      <th>INSTNM</th>\n",
              "      <th>Year</th>\n",
              "      <th>IALIAS</th>\n",
              "      <th>STABBR</th>\n",
              "      <th>ICLEVEL</th>\n",
              "      <th>CONTROL</th>\n",
              "      <th>HLOFFER</th>\n",
              "      <th>DEGGRANT</th>\n",
              "      <th>PSEFLAG</th>\n",
              "      <th>...</th>\n",
              "      <th>EFWHITW</th>\n",
              "      <th>EF2MORT</th>\n",
              "      <th>EF2MORM</th>\n",
              "      <th>EF2MORW</th>\n",
              "      <th>EFUNKNT</th>\n",
              "      <th>EFUNKNM</th>\n",
              "      <th>EFUNKNW</th>\n",
              "      <th>EFNRALT</th>\n",
              "      <th>EFNRALM</th>\n",
              "      <th>EFNRALW</th>\n",
              "    </tr>\n",
              "  </thead>\n",
              "  <tbody>\n",
              "    <tr>\n",
              "      <th>0</th>\n",
              "      <td>100654</td>\n",
              "      <td>Alabama A &amp; M University</td>\n",
              "      <td>2022</td>\n",
              "      <td>AAMU</td>\n",
              "      <td>AL</td>\n",
              "      <td>1</td>\n",
              "      <td>1</td>\n",
              "      <td>9</td>\n",
              "      <td>1</td>\n",
              "      <td>1</td>\n",
              "      <td>...</td>\n",
              "      <td>66</td>\n",
              "      <td>66</td>\n",
              "      <td>20</td>\n",
              "      <td>46</td>\n",
              "      <td>473</td>\n",
              "      <td>180</td>\n",
              "      <td>293</td>\n",
              "      <td>110</td>\n",
              "      <td>66</td>\n",
              "      <td>44</td>\n",
              "    </tr>\n",
              "    <tr>\n",
              "      <th>1</th>\n",
              "      <td>100654</td>\n",
              "      <td>Alabama A &amp; M University</td>\n",
              "      <td>2022</td>\n",
              "      <td>AAMU</td>\n",
              "      <td>AL</td>\n",
              "      <td>1</td>\n",
              "      <td>1</td>\n",
              "      <td>9</td>\n",
              "      <td>1</td>\n",
              "      <td>1</td>\n",
              "      <td>...</td>\n",
              "      <td>57</td>\n",
              "      <td>66</td>\n",
              "      <td>20</td>\n",
              "      <td>46</td>\n",
              "      <td>228</td>\n",
              "      <td>105</td>\n",
              "      <td>123</td>\n",
              "      <td>60</td>\n",
              "      <td>38</td>\n",
              "      <td>22</td>\n",
              "    </tr>\n",
              "    <tr>\n",
              "      <th>2</th>\n",
              "      <td>100654</td>\n",
              "      <td>Alabama A &amp; M University</td>\n",
              "      <td>2022</td>\n",
              "      <td>AAMU</td>\n",
              "      <td>AL</td>\n",
              "      <td>1</td>\n",
              "      <td>1</td>\n",
              "      <td>9</td>\n",
              "      <td>1</td>\n",
              "      <td>1</td>\n",
              "      <td>...</td>\n",
              "      <td>57</td>\n",
              "      <td>66</td>\n",
              "      <td>20</td>\n",
              "      <td>46</td>\n",
              "      <td>226</td>\n",
              "      <td>104</td>\n",
              "      <td>122</td>\n",
              "      <td>60</td>\n",
              "      <td>38</td>\n",
              "      <td>22</td>\n",
              "    </tr>\n",
              "    <tr>\n",
              "      <th>3</th>\n",
              "      <td>100654</td>\n",
              "      <td>Alabama A &amp; M University</td>\n",
              "      <td>2022</td>\n",
              "      <td>AAMU</td>\n",
              "      <td>AL</td>\n",
              "      <td>1</td>\n",
              "      <td>1</td>\n",
              "      <td>9</td>\n",
              "      <td>1</td>\n",
              "      <td>1</td>\n",
              "      <td>...</td>\n",
              "      <td>11</td>\n",
              "      <td>23</td>\n",
              "      <td>6</td>\n",
              "      <td>17</td>\n",
              "      <td>77</td>\n",
              "      <td>42</td>\n",
              "      <td>35</td>\n",
              "      <td>19</td>\n",
              "      <td>17</td>\n",
              "      <td>2</td>\n",
              "    </tr>\n",
              "    <tr>\n",
              "      <th>4</th>\n",
              "      <td>100654</td>\n",
              "      <td>Alabama A &amp; M University</td>\n",
              "      <td>2022</td>\n",
              "      <td>AAMU</td>\n",
              "      <td>AL</td>\n",
              "      <td>1</td>\n",
              "      <td>1</td>\n",
              "      <td>9</td>\n",
              "      <td>1</td>\n",
              "      <td>1</td>\n",
              "      <td>...</td>\n",
              "      <td>46</td>\n",
              "      <td>43</td>\n",
              "      <td>14</td>\n",
              "      <td>29</td>\n",
              "      <td>149</td>\n",
              "      <td>62</td>\n",
              "      <td>87</td>\n",
              "      <td>41</td>\n",
              "      <td>21</td>\n",
              "      <td>20</td>\n",
              "    </tr>\n",
              "  </tbody>\n",
              "</table>\n",
              "<p>5 rows × 47 columns</p>\n",
              "</div>\n",
              "    <div class=\"colab-df-buttons\">\n",
              "\n",
              "  <div class=\"colab-df-container\">\n",
              "    <button class=\"colab-df-convert\" onclick=\"convertToInteractive('df-f6c889d5-51c7-4a11-aabe-55777b926e4d')\"\n",
              "            title=\"Convert this dataframe to an interactive table.\"\n",
              "            style=\"display:none;\">\n",
              "\n",
              "  <svg xmlns=\"http://www.w3.org/2000/svg\" height=\"24px\" viewBox=\"0 -960 960 960\">\n",
              "    <path d=\"M120-120v-720h720v720H120Zm60-500h600v-160H180v160Zm220 220h160v-160H400v160Zm0 220h160v-160H400v160ZM180-400h160v-160H180v160Zm440 0h160v-160H620v160ZM180-180h160v-160H180v160Zm440 0h160v-160H620v160Z\"/>\n",
              "  </svg>\n",
              "    </button>\n",
              "\n",
              "  <style>\n",
              "    .colab-df-container {\n",
              "      display:flex;\n",
              "      gap: 12px;\n",
              "    }\n",
              "\n",
              "    .colab-df-convert {\n",
              "      background-color: #E8F0FE;\n",
              "      border: none;\n",
              "      border-radius: 50%;\n",
              "      cursor: pointer;\n",
              "      display: none;\n",
              "      fill: #1967D2;\n",
              "      height: 32px;\n",
              "      padding: 0 0 0 0;\n",
              "      width: 32px;\n",
              "    }\n",
              "\n",
              "    .colab-df-convert:hover {\n",
              "      background-color: #E2EBFA;\n",
              "      box-shadow: 0px 1px 2px rgba(60, 64, 67, 0.3), 0px 1px 3px 1px rgba(60, 64, 67, 0.15);\n",
              "      fill: #174EA6;\n",
              "    }\n",
              "\n",
              "    .colab-df-buttons div {\n",
              "      margin-bottom: 4px;\n",
              "    }\n",
              "\n",
              "    [theme=dark] .colab-df-convert {\n",
              "      background-color: #3B4455;\n",
              "      fill: #D2E3FC;\n",
              "    }\n",
              "\n",
              "    [theme=dark] .colab-df-convert:hover {\n",
              "      background-color: #434B5C;\n",
              "      box-shadow: 0px 1px 3px 1px rgba(0, 0, 0, 0.15);\n",
              "      filter: drop-shadow(0px 1px 2px rgba(0, 0, 0, 0.3));\n",
              "      fill: #FFFFFF;\n",
              "    }\n",
              "  </style>\n",
              "\n",
              "    <script>\n",
              "      const buttonEl =\n",
              "        document.querySelector('#df-f6c889d5-51c7-4a11-aabe-55777b926e4d button.colab-df-convert');\n",
              "      buttonEl.style.display =\n",
              "        google.colab.kernel.accessAllowed ? 'block' : 'none';\n",
              "\n",
              "      async function convertToInteractive(key) {\n",
              "        const element = document.querySelector('#df-f6c889d5-51c7-4a11-aabe-55777b926e4d');\n",
              "        const dataTable =\n",
              "          await google.colab.kernel.invokeFunction('convertToInteractive',\n",
              "                                                    [key], {});\n",
              "        if (!dataTable) return;\n",
              "\n",
              "        const docLinkHtml = 'Like what you see? Visit the ' +\n",
              "          '<a target=\"_blank\" href=https://colab.research.google.com/notebooks/data_table.ipynb>data table notebook</a>'\n",
              "          + ' to learn more about interactive tables.';\n",
              "        element.innerHTML = '';\n",
              "        dataTable['output_type'] = 'display_data';\n",
              "        await google.colab.output.renderOutput(dataTable, element);\n",
              "        const docLink = document.createElement('div');\n",
              "        docLink.innerHTML = docLinkHtml;\n",
              "        element.appendChild(docLink);\n",
              "      }\n",
              "    </script>\n",
              "  </div>\n",
              "\n",
              "\n",
              "<div id=\"df-8616add7-4361-48e6-9114-984405e9254b\">\n",
              "  <button class=\"colab-df-quickchart\" onclick=\"quickchart('df-8616add7-4361-48e6-9114-984405e9254b')\"\n",
              "            title=\"Suggest charts\"\n",
              "            style=\"display:none;\">\n",
              "\n",
              "<svg xmlns=\"http://www.w3.org/2000/svg\" height=\"24px\"viewBox=\"0 0 24 24\"\n",
              "     width=\"24px\">\n",
              "    <g>\n",
              "        <path d=\"M19 3H5c-1.1 0-2 .9-2 2v14c0 1.1.9 2 2 2h14c1.1 0 2-.9 2-2V5c0-1.1-.9-2-2-2zM9 17H7v-7h2v7zm4 0h-2V7h2v10zm4 0h-2v-4h2v4z\"/>\n",
              "    </g>\n",
              "</svg>\n",
              "  </button>\n",
              "\n",
              "<style>\n",
              "  .colab-df-quickchart {\n",
              "      --bg-color: #E8F0FE;\n",
              "      --fill-color: #1967D2;\n",
              "      --hover-bg-color: #E2EBFA;\n",
              "      --hover-fill-color: #174EA6;\n",
              "      --disabled-fill-color: #AAA;\n",
              "      --disabled-bg-color: #DDD;\n",
              "  }\n",
              "\n",
              "  [theme=dark] .colab-df-quickchart {\n",
              "      --bg-color: #3B4455;\n",
              "      --fill-color: #D2E3FC;\n",
              "      --hover-bg-color: #434B5C;\n",
              "      --hover-fill-color: #FFFFFF;\n",
              "      --disabled-bg-color: #3B4455;\n",
              "      --disabled-fill-color: #666;\n",
              "  }\n",
              "\n",
              "  .colab-df-quickchart {\n",
              "    background-color: var(--bg-color);\n",
              "    border: none;\n",
              "    border-radius: 50%;\n",
              "    cursor: pointer;\n",
              "    display: none;\n",
              "    fill: var(--fill-color);\n",
              "    height: 32px;\n",
              "    padding: 0;\n",
              "    width: 32px;\n",
              "  }\n",
              "\n",
              "  .colab-df-quickchart:hover {\n",
              "    background-color: var(--hover-bg-color);\n",
              "    box-shadow: 0 1px 2px rgba(60, 64, 67, 0.3), 0 1px 3px 1px rgba(60, 64, 67, 0.15);\n",
              "    fill: var(--button-hover-fill-color);\n",
              "  }\n",
              "\n",
              "  .colab-df-quickchart-complete:disabled,\n",
              "  .colab-df-quickchart-complete:disabled:hover {\n",
              "    background-color: var(--disabled-bg-color);\n",
              "    fill: var(--disabled-fill-color);\n",
              "    box-shadow: none;\n",
              "  }\n",
              "\n",
              "  .colab-df-spinner {\n",
              "    border: 2px solid var(--fill-color);\n",
              "    border-color: transparent;\n",
              "    border-bottom-color: var(--fill-color);\n",
              "    animation:\n",
              "      spin 1s steps(1) infinite;\n",
              "  }\n",
              "\n",
              "  @keyframes spin {\n",
              "    0% {\n",
              "      border-color: transparent;\n",
              "      border-bottom-color: var(--fill-color);\n",
              "      border-left-color: var(--fill-color);\n",
              "    }\n",
              "    20% {\n",
              "      border-color: transparent;\n",
              "      border-left-color: var(--fill-color);\n",
              "      border-top-color: var(--fill-color);\n",
              "    }\n",
              "    30% {\n",
              "      border-color: transparent;\n",
              "      border-left-color: var(--fill-color);\n",
              "      border-top-color: var(--fill-color);\n",
              "      border-right-color: var(--fill-color);\n",
              "    }\n",
              "    40% {\n",
              "      border-color: transparent;\n",
              "      border-right-color: var(--fill-color);\n",
              "      border-top-color: var(--fill-color);\n",
              "    }\n",
              "    60% {\n",
              "      border-color: transparent;\n",
              "      border-right-color: var(--fill-color);\n",
              "    }\n",
              "    80% {\n",
              "      border-color: transparent;\n",
              "      border-right-color: var(--fill-color);\n",
              "      border-bottom-color: var(--fill-color);\n",
              "    }\n",
              "    90% {\n",
              "      border-color: transparent;\n",
              "      border-bottom-color: var(--fill-color);\n",
              "    }\n",
              "  }\n",
              "</style>\n",
              "\n",
              "  <script>\n",
              "    async function quickchart(key) {\n",
              "      const quickchartButtonEl =\n",
              "        document.querySelector('#' + key + ' button');\n",
              "      quickchartButtonEl.disabled = true;  // To prevent multiple clicks.\n",
              "      quickchartButtonEl.classList.add('colab-df-spinner');\n",
              "      try {\n",
              "        const charts = await google.colab.kernel.invokeFunction(\n",
              "            'suggestCharts', [key], {});\n",
              "      } catch (error) {\n",
              "        console.error('Error during call to suggestCharts:', error);\n",
              "      }\n",
              "      quickchartButtonEl.classList.remove('colab-df-spinner');\n",
              "      quickchartButtonEl.classList.add('colab-df-quickchart-complete');\n",
              "    }\n",
              "    (() => {\n",
              "      let quickchartButtonEl =\n",
              "        document.querySelector('#df-8616add7-4361-48e6-9114-984405e9254b button');\n",
              "      quickchartButtonEl.style.display =\n",
              "        google.colab.kernel.accessAllowed ? 'block' : 'none';\n",
              "    })();\n",
              "  </script>\n",
              "</div>\n",
              "    </div>\n",
              "  </div>\n"
            ],
            "application/vnd.google.colaboratory.intrinsic+json": {
              "type": "dataframe",
              "variable_name": "rginst2022"
            }
          },
          "metadata": {},
          "execution_count": 385
        }
      ]
    },
    {
      "cell_type": "code",
      "source": [
        "# rginst2019.to_csv('rginst2019.csv')\n",
        "combined_race_gen_inst= pd.concat([df1.reset_index(drop=True),rginst2020, rginst2021, rginst2022])\n"
      ],
      "metadata": {
        "id": "8BL8leQ7mcIA",
        "colab": {
          "base_uri": "https://localhost:8080/",
          "height": 321
        },
        "outputId": "b4c2248b-d311-4ab4-9e54-0ac2d2886c2a"
      },
      "execution_count": 389,
      "outputs": [
        {
          "output_type": "error",
          "ename": "InvalidIndexError",
          "evalue": "Reindexing only valid with uniquely valued Index objects",
          "traceback": [
            "\u001b[0;31m---------------------------------------------------------------------------\u001b[0m",
            "\u001b[0;31mInvalidIndexError\u001b[0m                         Traceback (most recent call last)",
            "\u001b[0;32m<ipython-input-389-e107e3b0e707>\u001b[0m in \u001b[0;36m<cell line: 2>\u001b[0;34m()\u001b[0m\n\u001b[1;32m      1\u001b[0m \u001b[0;31m# rginst2019.to_csv('rginst2019.csv')\u001b[0m\u001b[0;34m\u001b[0m\u001b[0;34m\u001b[0m\u001b[0m\n\u001b[0;32m----> 2\u001b[0;31m \u001b[0mcombined_race_gen_inst\u001b[0m\u001b[0;34m=\u001b[0m \u001b[0mpd\u001b[0m\u001b[0;34m.\u001b[0m\u001b[0mconcat\u001b[0m\u001b[0;34m(\u001b[0m\u001b[0;34m[\u001b[0m\u001b[0mrginst2019\u001b[0m\u001b[0;34m,\u001b[0m\u001b[0mrginst2020\u001b[0m\u001b[0;34m,\u001b[0m \u001b[0mrginst2021\u001b[0m\u001b[0;34m,\u001b[0m \u001b[0mrginst2022\u001b[0m\u001b[0;34m]\u001b[0m\u001b[0;34m)\u001b[0m\u001b[0;34m\u001b[0m\u001b[0;34m\u001b[0m\u001b[0m\n\u001b[0m",
            "\u001b[0;32m/usr/local/lib/python3.10/dist-packages/pandas/util/_decorators.py\u001b[0m in \u001b[0;36mwrapper\u001b[0;34m(*args, **kwargs)\u001b[0m\n\u001b[1;32m    329\u001b[0m                     \u001b[0mstacklevel\u001b[0m\u001b[0;34m=\u001b[0m\u001b[0mfind_stack_level\u001b[0m\u001b[0;34m(\u001b[0m\u001b[0;34m)\u001b[0m\u001b[0;34m,\u001b[0m\u001b[0;34m\u001b[0m\u001b[0;34m\u001b[0m\u001b[0m\n\u001b[1;32m    330\u001b[0m                 )\n\u001b[0;32m--> 331\u001b[0;31m             \u001b[0;32mreturn\u001b[0m \u001b[0mfunc\u001b[0m\u001b[0;34m(\u001b[0m\u001b[0;34m*\u001b[0m\u001b[0margs\u001b[0m\u001b[0;34m,\u001b[0m \u001b[0;34m**\u001b[0m\u001b[0mkwargs\u001b[0m\u001b[0;34m)\u001b[0m\u001b[0;34m\u001b[0m\u001b[0;34m\u001b[0m\u001b[0m\n\u001b[0m\u001b[1;32m    332\u001b[0m \u001b[0;34m\u001b[0m\u001b[0m\n\u001b[1;32m    333\u001b[0m         \u001b[0;31m# error: \"Callable[[VarArg(Any), KwArg(Any)], Any]\" has no\u001b[0m\u001b[0;34m\u001b[0m\u001b[0;34m\u001b[0m\u001b[0m\n",
            "\u001b[0;32m/usr/local/lib/python3.10/dist-packages/pandas/core/reshape/concat.py\u001b[0m in \u001b[0;36mconcat\u001b[0;34m(objs, axis, join, ignore_index, keys, levels, names, verify_integrity, sort, copy)\u001b[0m\n\u001b[1;32m    379\u001b[0m     )\n\u001b[1;32m    380\u001b[0m \u001b[0;34m\u001b[0m\u001b[0m\n\u001b[0;32m--> 381\u001b[0;31m     \u001b[0;32mreturn\u001b[0m \u001b[0mop\u001b[0m\u001b[0;34m.\u001b[0m\u001b[0mget_result\u001b[0m\u001b[0;34m(\u001b[0m\u001b[0;34m)\u001b[0m\u001b[0;34m\u001b[0m\u001b[0;34m\u001b[0m\u001b[0m\n\u001b[0m\u001b[1;32m    382\u001b[0m \u001b[0;34m\u001b[0m\u001b[0m\n\u001b[1;32m    383\u001b[0m \u001b[0;34m\u001b[0m\u001b[0m\n",
            "\u001b[0;32m/usr/local/lib/python3.10/dist-packages/pandas/core/reshape/concat.py\u001b[0m in \u001b[0;36mget_result\u001b[0;34m(self)\u001b[0m\n\u001b[1;32m    610\u001b[0m                     \u001b[0mobj_labels\u001b[0m \u001b[0;34m=\u001b[0m \u001b[0mobj\u001b[0m\u001b[0;34m.\u001b[0m\u001b[0maxes\u001b[0m\u001b[0;34m[\u001b[0m\u001b[0;36m1\u001b[0m \u001b[0;34m-\u001b[0m \u001b[0max\u001b[0m\u001b[0;34m]\u001b[0m\u001b[0;34m\u001b[0m\u001b[0;34m\u001b[0m\u001b[0m\n\u001b[1;32m    611\u001b[0m                     \u001b[0;32mif\u001b[0m \u001b[0;32mnot\u001b[0m \u001b[0mnew_labels\u001b[0m\u001b[0;34m.\u001b[0m\u001b[0mequals\u001b[0m\u001b[0;34m(\u001b[0m\u001b[0mobj_labels\u001b[0m\u001b[0;34m)\u001b[0m\u001b[0;34m:\u001b[0m\u001b[0;34m\u001b[0m\u001b[0;34m\u001b[0m\u001b[0m\n\u001b[0;32m--> 612\u001b[0;31m                         \u001b[0mindexers\u001b[0m\u001b[0;34m[\u001b[0m\u001b[0max\u001b[0m\u001b[0;34m]\u001b[0m \u001b[0;34m=\u001b[0m \u001b[0mobj_labels\u001b[0m\u001b[0;34m.\u001b[0m\u001b[0mget_indexer\u001b[0m\u001b[0;34m(\u001b[0m\u001b[0mnew_labels\u001b[0m\u001b[0;34m)\u001b[0m\u001b[0;34m\u001b[0m\u001b[0;34m\u001b[0m\u001b[0m\n\u001b[0m\u001b[1;32m    613\u001b[0m \u001b[0;34m\u001b[0m\u001b[0m\n\u001b[1;32m    614\u001b[0m                 \u001b[0mmgrs_indexers\u001b[0m\u001b[0;34m.\u001b[0m\u001b[0mappend\u001b[0m\u001b[0;34m(\u001b[0m\u001b[0;34m(\u001b[0m\u001b[0mobj\u001b[0m\u001b[0;34m.\u001b[0m\u001b[0m_mgr\u001b[0m\u001b[0;34m,\u001b[0m \u001b[0mindexers\u001b[0m\u001b[0;34m)\u001b[0m\u001b[0;34m)\u001b[0m\u001b[0;34m\u001b[0m\u001b[0;34m\u001b[0m\u001b[0m\n",
            "\u001b[0;32m/usr/local/lib/python3.10/dist-packages/pandas/core/indexes/base.py\u001b[0m in \u001b[0;36mget_indexer\u001b[0;34m(self, target, method, limit, tolerance)\u001b[0m\n\u001b[1;32m   3902\u001b[0m \u001b[0;34m\u001b[0m\u001b[0m\n\u001b[1;32m   3903\u001b[0m         \u001b[0;32mif\u001b[0m \u001b[0;32mnot\u001b[0m \u001b[0mself\u001b[0m\u001b[0;34m.\u001b[0m\u001b[0m_index_as_unique\u001b[0m\u001b[0;34m:\u001b[0m\u001b[0;34m\u001b[0m\u001b[0;34m\u001b[0m\u001b[0m\n\u001b[0;32m-> 3904\u001b[0;31m             \u001b[0;32mraise\u001b[0m \u001b[0mInvalidIndexError\u001b[0m\u001b[0;34m(\u001b[0m\u001b[0mself\u001b[0m\u001b[0;34m.\u001b[0m\u001b[0m_requires_unique_msg\u001b[0m\u001b[0;34m)\u001b[0m\u001b[0;34m\u001b[0m\u001b[0;34m\u001b[0m\u001b[0m\n\u001b[0m\u001b[1;32m   3905\u001b[0m \u001b[0;34m\u001b[0m\u001b[0m\n\u001b[1;32m   3906\u001b[0m         \u001b[0;32mif\u001b[0m \u001b[0mlen\u001b[0m\u001b[0;34m(\u001b[0m\u001b[0mtarget\u001b[0m\u001b[0;34m)\u001b[0m \u001b[0;34m==\u001b[0m \u001b[0;36m0\u001b[0m\u001b[0;34m:\u001b[0m\u001b[0;34m\u001b[0m\u001b[0;34m\u001b[0m\u001b[0m\n",
            "\u001b[0;31mInvalidIndexError\u001b[0m: Reindexing only valid with uniquely valued Index objects"
          ]
        }
      ]
    },
    {
      "cell_type": "markdown",
      "source": [
        "Data Quality Checks"
      ],
      "metadata": {
        "id": "tPkecDB3-_HJ"
      }
    },
    {
      "cell_type": "code",
      "source": [
        "#dep2022\n",
        "# Check for duplicates- No duplicates found\n",
        "# def check_dup(df):\n",
        "  #duplicate_rows = dep2021[dep2021.duplicated()]\n",
        "  #print(duplicate_rows)\n",
        "\n",
        "# check_dup(dep2019)\n",
        "\n"
      ],
      "metadata": {
        "id": "-lF8XV_OiN2o"
      },
      "execution_count": null,
      "outputs": []
    },
    {
      "cell_type": "code",
      "source": [
        "# # Check data types\n",
        "# def check_dt (df):\n",
        "#   data_types = dep2019.dtypes\n",
        "#   return data_types\n",
        "# check_dt(dep2019)"
      ],
      "metadata": {
        "id": "HnXuAMb59Iy_"
      },
      "execution_count": null,
      "outputs": []
    },
    {
      "cell_type": "code",
      "source": [
        "#change object data types\n",
        "\n",
        "#strings\n",
        "\n",
        "\n",
        "#floats"
      ],
      "metadata": {
        "id": "cyHTq1xY9HKy"
      },
      "execution_count": null,
      "outputs": []
    },
    {
      "cell_type": "code",
      "source": [],
      "metadata": {
        "id": "hkUExv83-yIF"
      },
      "execution_count": null,
      "outputs": []
    },
    {
      "cell_type": "code",
      "source": [],
      "metadata": {
        "id": "OyedVstn-xpg"
      },
      "execution_count": null,
      "outputs": []
    },
    {
      "cell_type": "markdown",
      "source": [
        "#C Files"
      ],
      "metadata": {
        "id": "S6pz4xshiZyi"
      }
    },
    {
      "cell_type": "markdown",
      "source": [
        "-File contains the number of programs offered, by:\n",
        "  - type of program, level of award (certificate or degree) and distance education status.\n",
        "- Type of program is categorized according to the Classification of Instructional Programs (CIP), a detailed coding system for postsecondary instructional programs.\n",
        "- File contains multiple records per institution.\n",
        "- Each record will contain the total number of programs offered and the total number of programs offered via distance education.\n",
        "- Six digit CIPCODE (XX.NNNN) records will identify which award levels are offered and which award levels are offered via distance learning (1=Yes, 0=No). - Two digit CIPCODE (XX) summary records will contain the number of 6-digit CIPCODES under the  2-digit group that are offered by award level and distance education status and CIPCODE (99)  will contain totals for the institution. Program offerings were derived from completions data that were granted between July 1,Fall_YEAR and June 30, Spring_YEAR."
      ],
      "metadata": {
        "id": "H2f5rwfwiuSh"
      }
    },
    {
      "cell_type": "markdown",
      "source": [
        "Variables of interest:\n",
        "(Note 2020 and on C file have additional variables distinguishing between coursed in CIP codes can all be accessed vs. some making 41 total variables . The some variables being removed for consistency with 2019 dataset(26 total variables))\n",
        "  1. UNITID:Unique identification number of the institution\n",
        "  2.CIPCODE: A six-digit code in the form xx.xxxx that identifies instructional  program specialties within educational institutions.\n",
        "  3. PTOTAL: Number of programs offered is the sum of all programs offered at all award levels.  See details of each award level category\n",
        "  4.PTOTALDE: Number of programs offered via distance education is the sum of all programs offered via distance education.  See details of each award level category\n",
        "  5.PASSOC:Number of Associate's degree programs offered\n",
        "  6.PASSOCDE:Number of Associate's degree programs offered via distance education\n",
        "  7.PBACHL:Number of Bachelor's degree programs offered\n",
        "  8.PBACHLDE:Number of Bachelor's degree programs offered via distance education/Bachelor's degree - all programs in a CIP code can be completed entirely via distance education\n",
        "  9. PMASTR:Number of Master's degree programs offered\n",
        "  10. PMASTRDE:Number of Master's degree programs offered via distance education/Master's degree - all programs in a CIP code can be completed entirely via distance education\n",
        "  11. PDOCRS:Number of Doctor's degree-research/scholarship programs offered\n",
        "  12. PDOCRSDE:Number of Doctor's degree-research/scholarship programs offered via distance education\n",
        "  13. PDOCPP:Number of Doctor's degree-professional practice programs offered\n",
        "  14. PDOCPPDE:Number of Doctor's degree-professional practice programs offered via distance education\n",
        "  15. PDOCOT: Number of Doctor's degree-other programs offered\n",
        "  16.PDOCOTDE: Number of Doctor's degree-other programs offered via distance education offered via distance education\n",
        "  17.PCERT1:Number of less than 1-year certificate programs offered\n",
        "  18. PCERT1DE: Number of less than 1-year certificate programs offered via distance education\n",
        "  19. PCERT2:Number of 1-year, but less than-2-year certificate programs offered\n",
        "  20. PCERT2DE:Number of 1-year, but less than 2-year certificate programs offered via distance education\n",
        "  21. PCERT4: Number of 2-year, but less than 4-year certificate programs offered\n",
        "  22. PCERT4DE: Number of 2-year, but less than 4-year certificate programs offered via distance education\n",
        "  23. PPBACC:Number of Postbaccalaureate certificate programs offered\n",
        "  24. PPBACCDE:Number of Postbaccalaureate certificate programs offered via distance education\n",
        "  25. PPMAST:Number of Post-master's certificate programs offered\n",
        "  26. PPMASTDE:Number of Post-master's certificate programs offered via distance education"
      ],
      "metadata": {
        "id": "GgZlp2_LjU3U"
      }
    },
    {
      "cell_type": "code",
      "source": [
        "#get C datasets by years\n",
        "path = '/content/DistanceLearning_Capstone/NCES IPEDS Data 2019-2022'\n",
        "c_files = glob.glob(path + '/c*.csv')\n",
        "# c_files\n",
        "\n",
        "c_file_dict = {}  # Dictionary to store file paths with year as key\n",
        "for file_path in c_files:\n",
        "    file_name = os.path.basename(file_path)  # Get the filename from the path\n",
        "    year = file_name[1:5]  # Extract the year from the filename\n",
        "    c_file_dict[year] = file_path  # Store the file path in the dictionary with year as key\n",
        "\n",
        "\n",
        "# c_file_dict\n",
        "\n",
        "# Access each file by its year\n",
        "for year, file_path in c_file_dict.items():\n",
        "    print(f\"Year: {year}, File Path: {file_path}\")\n"
      ],
      "metadata": {
        "id": "o3UPBWXZpKT8"
      },
      "execution_count": null,
      "outputs": []
    },
    {
      "cell_type": "code",
      "source": [
        "c_dfs = {}\n",
        "\n",
        "#read each file and create df- store to ef_df dict\n",
        "for year, file_path in c_file_dict.items():\n",
        "  df= pd.read_csv(file_path,encoding='unicode_escape' )\n",
        "  c_dfs[year]=df\n",
        "\n",
        "# c_dfs"
      ],
      "metadata": {
        "id": "H4MZODQiqEYO"
      },
      "execution_count": null,
      "outputs": []
    },
    {
      "cell_type": "code",
      "source": [
        "#retrieving individual datasets from dict\n",
        "c2019=c_dfs.get('2019') #(240412, 26)\n",
        "c2020=c_dfs.get('2020') #(238689, 41) updated to 26 columns below\n",
        "c2021=c_dfs.get('2021') #(241826, 41) updated to 26 columns below\n",
        "c2022=c_dfs.get('2022') #(244004, 41) updated to 26 columns below\n",
        "\n",
        "c2019=c2019.rename(columns={'PCERT1':'PCERT1B', 'PCERT1DE':'PCERT1BDE'})"
      ],
      "metadata": {
        "id": "ae7aF_xIqQVj"
      },
      "execution_count": null,
      "outputs": []
    },
    {
      "cell_type": "code",
      "source": [
        "c2019.columns"
      ],
      "metadata": {
        "id": "fege-M8KyH8y"
      },
      "execution_count": null,
      "outputs": []
    },
    {
      "cell_type": "code",
      "source": [
        "#remove columns in 2020-2022 datasets for consistency with 2019\n",
        "vars=['UNITID', 'CIPCODE', 'PTOTAL', 'PTOTALDE', 'PASSOC', 'PASSOCDE',\n",
        "       'PBACHL', 'PBACHLDE', 'PMASTR', 'PMASTRDE', 'PDOCRS', 'PDOCRSDE',\n",
        "       'PDOCPP', 'PDOCPPDE', 'PDOCOT', 'PDOCOTDE', 'PCERT1B', 'PCERT1BDE',\n",
        "       'PCERT2', 'PCERT2DE', 'PCERT4', 'PCERT4DE', 'PPBACC', 'PPBACCDE',\n",
        "       'PPMAST', 'PPMASTDE']\n",
        "\n",
        "\n",
        "def rem_cvars (df):\n",
        "  cleaned_df = df[vars]\n",
        "\n",
        "  return cleaned_df\n",
        "\n",
        "c2020=rem_cvars(c2020)\n",
        "c2021=rem_cvars(c2021)\n",
        "c2022=rem_cvars(c2022)\n",
        "\n"
      ],
      "metadata": {
        "id": "h11GoGOJq3hv"
      },
      "execution_count": null,
      "outputs": []
    },
    {
      "cell_type": "code",
      "source": [
        "#merging c files with hd institutional info\n",
        "c2019_m=pd.merge(hd2019, c2019, on='UNITID', how='outer')\n",
        "c2020_m=pd.merge(hd2020, c2020, on='UNITID', how='outer')\n",
        "c2021_m=pd.merge(hd2021, c2021, on='UNITID', how='outer')\n",
        "c2022_m=pd.merge(hd2022, c2022, on='UNITID', how='outer')"
      ],
      "metadata": {
        "id": "NYgAmj8AwHFB"
      },
      "execution_count": null,
      "outputs": []
    },
    {
      "cell_type": "code",
      "source": [
        "# checking for NaN\n",
        "# c2022_m.isna().sum()"
      ],
      "metadata": {
        "id": "eOl3J8dRwJqt"
      },
      "execution_count": null,
      "outputs": []
    },
    {
      "cell_type": "code",
      "source": [
        "#function to clean datasets (remove Nans)\n",
        "vars_to_check=['CIPCODE', 'PTOTAL', 'PTOTALDE', 'PASSOC', 'PASSOCDE',\n",
        "       'PBACHL', 'PBACHLDE', 'PMASTR', 'PMASTRDE', 'PDOCRS', 'PDOCRSDE',\n",
        "       'PDOCPP', 'PDOCPPDE', 'PDOCOT', 'PDOCOTDE', 'PCERT1B', 'PCERT1BDE',\n",
        "       'PCERT2', 'PCERT2DE', 'PCERT4', 'PCERT4DE', 'PPBACC', 'PPBACCDE',\n",
        "       'PPMAST', 'PPMASTDE']\n",
        "def clean_c(df, vars_to_check):\n",
        "  cleaned_df = df.dropna(subset =vars_to_check)\n",
        "\n",
        "  return cleaned_df\n",
        "\n",
        "#master datasets by year\n",
        "c2019dep2 = clean_c(c2019_m,vars_to_check)\n",
        "c2020dep2 = clean_c(c2020_m,vars_to_check)\n",
        "c2021dep2 = clean_c(c2021_m,vars_to_check)\n",
        "c2022dep2 = clean_c(c2022_m,vars_to_check)\n"
      ],
      "metadata": {
        "id": "pcUl-Xqw4yvQ"
      },
      "execution_count": null,
      "outputs": []
    },
    {
      "cell_type": "code",
      "source": [
        "#try inner merge with ef/hd merged file"
      ],
      "metadata": {
        "id": "b3oYakwo8NjK"
      },
      "execution_count": null,
      "outputs": []
    }
  ]
}