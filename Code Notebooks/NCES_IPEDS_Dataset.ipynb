{
  "nbformat": 4,
  "nbformat_minor": 0,
  "metadata": {
    "colab": {
      "provenance": [],
      "authorship_tag": "ABX9TyPAfXCnhsEDrr+RM6naIbSE",
      "include_colab_link": true
    },
    "kernelspec": {
      "name": "python3",
      "display_name": "Python 3"
    },
    "language_info": {
      "name": "python"
    }
  },
  "cells": [
    {
      "cell_type": "markdown",
      "metadata": {
        "id": "view-in-github",
        "colab_type": "text"
      },
      "source": [
        "<a href=\"https://colab.research.google.com/github/katyk20/DistanceLearning_Capstone/blob/main/Code%20Notebooks/NCES_IPEDS_Dataset.ipynb\" target=\"_parent\"><img src=\"https://colab.research.google.com/assets/colab-badge.svg\" alt=\"Open In Colab\"/></a>"
      ]
    },
    {
      "cell_type": "code",
      "execution_count": 658,
      "metadata": {
        "id": "Q1CbZG2MEBWE",
        "colab": {
          "base_uri": "https://localhost:8080/"
        },
        "outputId": "47b3f5bf-030c-4761-8441-15a120906073"
      },
      "outputs": [
        {
          "output_type": "stream",
          "name": "stdout",
          "text": [
            "Drive already mounted at /content/drive; to attempt to forcibly remount, call drive.mount(\"/content/drive\", force_remount=True).\n"
          ]
        }
      ],
      "source": [
        "from google.colab import drive\n",
        "drive.mount('/content/drive')"
      ]
    },
    {
      "cell_type": "code",
      "source": [
        "# ! git clone https://github.com/katyk20/DistanceLearning_Capstone"
      ],
      "metadata": {
        "id": "yj_ClGUZENYl"
      },
      "execution_count": 659,
      "outputs": []
    },
    {
      "cell_type": "code",
      "source": [
        "%cd /content/DistanceLearning_Capstone\n",
        "!git pull"
      ],
      "metadata": {
        "colab": {
          "base_uri": "https://localhost:8080/"
        },
        "id": "CfUukVAZK6jm",
        "outputId": "60d02c77-ba6b-4b6c-bb19-4176b7a68fc4"
      },
      "execution_count": 660,
      "outputs": [
        {
          "output_type": "stream",
          "name": "stdout",
          "text": [
            "/content/DistanceLearning_Capstone\n",
            "Already up to date.\n"
          ]
        }
      ]
    },
    {
      "cell_type": "code",
      "source": [
        "#Libraries\n",
        "import pandas as pd\n",
        "import os\n",
        "import glob"
      ],
      "metadata": {
        "id": "qYSNcA94EcQC"
      },
      "execution_count": 661,
      "outputs": []
    },
    {
      "cell_type": "code",
      "source": [
        "#ef2022a file to large to upload to GitHub- split+ concat\n",
        "#insert into dictionary below\n",
        "\n",
        "# ef2022a_1=pd.read_csv('/content/DistanceLearning_Capstone/NCES IPEDS Data 2019-2022/ef2022a_1.csv')\n",
        "# ef2022_a2=pd.read_csv('/content/DistanceLearning_Capstone/NCES IPEDS Data 2019-2022/ef2022a_2.csv')\n",
        "# ef2022a= pd.concat([ef2022a_1, ef2022_a2], ignore_index=True)\n",
        "# ef2022a.to_csv('ef2022a.csv', index=False)\n",
        "\n",
        "\n",
        "\n",
        "def combine_csv_files(file_path1,file_path2, output_file_name):\n",
        "    df1 = pd.read_csv(file_path1)\n",
        "    df2 = pd.read_csv(file_path2)\n",
        "    combined_df= pd.concat([df1, df2], ignore_index=True)\n",
        "\n",
        "    # Write the combined DataFrame to a new CSV file\n",
        "    return combined_df.to_csv(output_file_name, index=False)\n",
        "\n",
        "\n"
      ],
      "metadata": {
        "id": "q04m42b9XQcg"
      },
      "execution_count": 662,
      "outputs": []
    },
    {
      "cell_type": "code",
      "source": [
        "#ef2022a file to large to upload to GitHub- split+ concat\n",
        "#insert into dictionary below\n",
        "file_path1 = '/content/DistanceLearning_Capstone/NCES IPEDS Data 2019-2022/ef2022a_1.csv'\n",
        "file_path2='/content/DistanceLearning_Capstone/NCES IPEDS Data 2019-2022/ef2022a_2.csv'\n",
        "output_file_name = 'ef2022a.csv'\n",
        "combine_csv_files(file_path1,file_path2, output_file_name)\n"
      ],
      "metadata": {
        "id": "TXcPJEi0kzXa"
      },
      "execution_count": 663,
      "outputs": []
    },
    {
      "cell_type": "code",
      "source": [
        "#ef2018a file to large to upload to GitHub- split+ concat\n",
        "#insert into dictionary belowfile_path1 = '/content/DistanceLearning_Capstone/NCES IPEDS Data 2019-2022'\n",
        "file_path1= '/content/DistanceLearning_Capstone/NCES IPEDS Data 2019-2022/ef2018a_rv_1.csv'\n",
        "file_path2='/content/DistanceLearning_Capstone/NCES IPEDS Data 2019-2022/ef2018a_rv_2.csv'\n",
        "output_file_name = 'ef2018a_rv.csv'\n",
        "combine_csv_files(file_path1,file_path2, output_file_name)"
      ],
      "metadata": {
        "id": "oufSflSTk4Aw"
      },
      "execution_count": 664,
      "outputs": []
    },
    {
      "cell_type": "markdown",
      "source": [
        "#Processing Institutional Characteristics (hd_) files by year 2019-2022"
      ],
      "metadata": {
        "id": "syRLwxiMEkwe"
      }
    },
    {
      "cell_type": "markdown",
      "source": [
        "HD files contain Institutional information in IPEDs universe.\n",
        "Variables of interest:\n",
        "- UNITID: Unique identification number of the institution (for merging)\n",
        "- INSTNM:Institution (entity) name\n",
        "- IALIAS:Institution name alias\n",
        "- STABBR:State abbreviation\n",
        "- ICLEVEL:A classification of whether an institution’s programs are 4-year or higher (4 year), 2-but-less-than 4-year (2 year), or less than 2-year.\n",
        "- CONTROL:A classification of whether an institution is operated by publicly elected or appointed officials or by privately elected or appointed officials and derives its major source of funds from private sources.\n",
        "  - Public institution - An educational institution whose programs and activities are operated by publicly elected or appointed school officials and which is supported primarily by public funds.\n",
        "  - Private not-for-profit institution - A private institution in which the individual(s) or agency in control receives no compensation, other than wages, rent, or other expenses for the assumption of risk. These include both independent not-for-profit schools and those affiliated with a religious organization.\n",
        "  -Private for-profit institution - A private institution in which the individual(s) or agency in control receives compensation other than wages, rent, or other expenses for the assumption of risk.\n",
        "\n",
        "- HLOFFER:Highest level of offering (generated, based on response to IC\n",
        "survey)\n",
        "  - 0 - Other\n",
        "  - 1 - Postsecondary award, certificate or diploma of less than one academic year\n",
        "  - 2 - Postsecondary award, certificate or diploma of at least one but less than two academic years\n",
        "  - 3 - Associate's degree\n",
        "  - 4 - Postsecondary award, certificate or diploma of at least two but less than four academic years\n",
        "  - 5 - Bachelor's degree\n",
        "  - 6 - Postbaccalaureate certificate\n",
        "  - 7 - Master's degree\n",
        "  - 8 - Post-master's certificate\n",
        "  - 9 - Doctor's degree\n",
        "  - b - None of the above or no answer\n",
        "   --2 - Not applicable, first-professional only\n",
        "  - -3 - Not Available\n",
        "- DEGGRANT:A code indicating the degree-granting status of the institution.\n",
        "  - Degree-granting institutions offer an associate's, bachelor's, master's, doctor's or a first-professional degree.\n",
        "  - Nondegree-granting offers certificates or other formal awards\n",
        "- PSEFLAG:Postsecondary institution indicator\n",
        "Identifies an institution whose primary purpose is to provide postsecondary education,is open to the general public and is currently an active (operating) institution.\n",
        "- LONGITUD: Based on the location of the school, the value of LONGITUD ranges from -170 to 171.\n",
        "- LATITUDE:Based on the location of the school, the value of LATITUDE ranges from -14 to 71."
      ],
      "metadata": {
        "id": "wA3uytkEEm44"
      }
    },
    {
      "cell_type": "code",
      "source": [
        "#get hd datasets by years with variables of interest\n",
        "\n",
        "path = '/content/DistanceLearning_Capstone/NCES IPEDS Data 2019-2022'\n",
        "hdfiles = glob.glob(path + '/hd*.csv')\n",
        "# hdfiles\n",
        "hdfile_dict = {}  # Dictionary to store file paths with year as key\n",
        "\n",
        "for file_path in hdfiles:\n",
        "    file_name = os.path.basename(file_path)  # Get the filename from the path\n",
        "    year = file_name[2:6]  # Extract the year from the filename\n",
        "    hdfile_dict[year] = file_path  # Store the file path in the dictionary with year as key\n",
        "\n",
        "# Access each file by its year\n",
        "for year, file_path in hdfile_dict.items():\n",
        "    print(f\"Year: {year}, File Path: {file_path}\")"
      ],
      "metadata": {
        "colab": {
          "base_uri": "https://localhost:8080/"
        },
        "id": "7p-vpUd1E82r",
        "outputId": "09c00d27-f582-4018-9d65-9f79d2f19071"
      },
      "execution_count": 665,
      "outputs": [
        {
          "output_type": "stream",
          "name": "stdout",
          "text": [
            "Year: 2022, File Path: /content/DistanceLearning_Capstone/NCES IPEDS Data 2019-2022/hd2022_DATA.csv\n",
            "Year: 2021, File Path: /content/DistanceLearning_Capstone/NCES IPEDS Data 2019-2022/hd2021_DATA.csv\n",
            "Year: 2020, File Path: /content/DistanceLearning_Capstone/NCES IPEDS Data 2019-2022/hd2020_DATA.csv\n",
            "Year: 2019, File Path: /content/DistanceLearning_Capstone/NCES IPEDS Data 2019-2022/hd2019_DATA.csv\n",
            "Year: 2018, File Path: /content/DistanceLearning_Capstone/NCES IPEDS Data 2019-2022/hd2018.csv\n"
          ]
        }
      ]
    },
    {
      "cell_type": "code",
      "source": [
        "#create hd dfs by year columns with variables of interest\n",
        "columns= ('UNITID','INSTNM','IALIAS','STABBR','ICLEVEL','CONTROL',\n",
        "          'HLOFFER','DEGGRANT','PSEFLAG','LONGITUD','LATITUDE')\n",
        "hd_dfs = {}\n",
        "\n",
        "#read each file and create df\n",
        "for year, file_path in hdfile_dict.items():\n",
        "  df= pd.read_csv(file_path,encoding='unicode_escape', usecols=columns, )\n",
        "  hd_dfs[year]=df\n",
        "\n",
        "# hd_dfs\n",
        "\n",
        "# #Access each hd_df by year\n",
        "# for year, df in hd_dfs.items():\n",
        "#   print(f\"Year: {year}\")\n",
        "#   # print (df.head())"
      ],
      "metadata": {
        "id": "NWyA0Yt3FRG4"
      },
      "execution_count": 666,
      "outputs": []
    },
    {
      "cell_type": "code",
      "source": [
        "\n",
        "hd2018=hd_dfs.get('2018') #(6857, 11)\n",
        "hd2019=hd_dfs.get('2019') #(6559, 11)\n",
        "hd2020=hd_dfs.get('2020') #(6440, 11)\n",
        "hd2021=hd_dfs.get('2021') #(6289, 11)\n",
        "hd2022=hd_dfs.get('2022') #(6256, 11)\n",
        "# hd2018.shape"
      ],
      "metadata": {
        "id": "lByttR9bH0ea"
      },
      "execution_count": 667,
      "outputs": []
    },
    {
      "cell_type": "markdown",
      "source": [
        "#Enrollment (ef_) Files <br>\n",
        "- Files contains the number of students enrolled in the fall, by distance education status and level of student.  \n",
        "- Institutions with traditional academic year calendar systems (semester, quarter, trimester or  4-1-4) report their enrollment as of October 15 or the official fall reporting date of the institution.\n",
        "- Institutions with calendar systems that differ by program or allow continuous enrollment report students that are enrolled at any time between August 1 and October 31.\n",
        "- Files have multiple records per institution.  Records are uniquely defined by the variables IPEDS ID (UNITID), and level of student (EFDELEV).   \n",
        "- Each record will contain the:\n",
        "  - total students enrolled,\n",
        "  - students enrolled exclusively in distance education courses,\n",
        "  - students enrolled in some education distance education courses and\n",
        "  - students not enrolled in any distance education courses.\n",
        "-The number of students enrolled in exclusively distance education courses are also reported by the following location categories:\n",
        "  - located in the same state/jurisdiction as the institution;\n",
        "  - in a different state/jurisdiction than the institution;\n",
        "  - in the U.S. but the state/jurisdiction is unknown;\n",
        "  - and residing outside the U.S."
      ],
      "metadata": {
        "id": "f2McP_AULyNe"
      }
    },
    {
      "cell_type": "markdown",
      "source": [
        "Variables of interest:\n",
        "- UNITID:Institution\n",
        "- EFDELEV:Level and degree-seeking/non degree-seeking status of student (Undergraduate,  Undergraduate-degree/certificate seeking/non-degree/certificate seeking, Graduate)\n",
        "- EFDETOT:Grand total enrolled for credit during the fall\n",
        "- EFDEEXC:Students who are enrolled only in courses that are considered distance education courses.\n",
        "- EFDESOM:Students who are enrolled in at least one course that is considered a distance education course, but are not enrolled exclusively in distance education courses.\n",
        "- EFDENON:Students who are not enrolled in any distance education courses.\n",
        "- EFDEEX1:Students who are enrolled only in courses that are considered distance education courses that are located in the same state/jurisdiction as the institution.\n",
        "- EFDEEX2:Students who are enrolled only in courses that are considered distance education courses that are lin a different state/jurisdiction than the institution.\n",
        "- EFDEEX3:Students who are enrolled only in courses that are considered distance education courses in the U.S. but the state/jurisdiction is unknown\n",
        "- EFDEEX4:Students who are enrolled only in courses that are considered distance education courses that are residing outside the U.S.\n",
        "- EFDEEX5:Students who are enrolled only in courses that are considered distance education courses and the location is unknown/not reported"
      ],
      "metadata": {
        "id": "FG67371yMb9o"
      }
    },
    {
      "cell_type": "code",
      "source": [
        "#get EFXXXa datasets by years\n",
        "path = '/content/DistanceLearning_Capstone/NCES IPEDS Data 2019-2022'\n",
        "ef_files = glob.glob(path + '/ef*dist*.csv')\n",
        "ef_files\n",
        "\n",
        "ef_file_dict = {}  # Dictionary to store file paths with year as key\n",
        "for file_path in ef_files:\n",
        "    file_name = os.path.basename(file_path)  # Get the filename from the path\n",
        "    year = file_name[2:6]  # Extract the year from the filename\n",
        "    ef_file_dict[year] = file_path  # Store the file path in the dictionary with year as key\n",
        "\n",
        "\n",
        "ef_file_dict\n",
        "\n",
        "# Access each file by its year\n",
        "# for year, file_path in ef_file_dict.items():\n",
        "#     print(f\"Year: {year}, File Path: {file_path}\")\n"
      ],
      "metadata": {
        "id": "WmBbjR1fPaAH",
        "colab": {
          "base_uri": "https://localhost:8080/"
        },
        "outputId": "16026736-c454-4477-a9a4-706369ad3e63"
      },
      "execution_count": 668,
      "outputs": [
        {
          "output_type": "execute_result",
          "data": {
            "text/plain": [
              "{'2020': '/content/DistanceLearning_Capstone/NCES IPEDS Data 2019-2022/ef2020a_dist_rv_DATA.csv',\n",
              " '2021': '/content/DistanceLearning_Capstone/NCES IPEDS Data 2019-2022/ef2021a_dist_rv_DATA.csv',\n",
              " '2018': '/content/DistanceLearning_Capstone/NCES IPEDS Data 2019-2022/ef2018a_dist_rv.csv',\n",
              " '2022': '/content/DistanceLearning_Capstone/NCES IPEDS Data 2019-2022/ef2022a_dist_DATA.csv',\n",
              " '2019': '/content/DistanceLearning_Capstone/NCES IPEDS Data 2019-2022/ef2019a_dist_rv_DATA.csv'}"
            ]
          },
          "metadata": {},
          "execution_count": 668
        }
      ]
    },
    {
      "cell_type": "code",
      "source": [
        "ef_dfs = {}\n",
        "\n",
        "#read each file and create df- store to ef_df dict\n",
        "for year, file_path in ef_file_dict.items():\n",
        "  df= pd.read_csv(file_path,encoding='unicode_escape' )\n",
        "  ef_dfs[year]=df\n",
        "\n",
        "# ef_dfs"
      ],
      "metadata": {
        "id": "YTW62EG3T6YX"
      },
      "execution_count": 669,
      "outputs": []
    },
    {
      "cell_type": "code",
      "source": [
        "#retrieving individual datasets from dict\n",
        "ef2018=ef_dfs.get('2018') #(21567, 20)\n",
        "ef2019=ef_dfs.get('2019') #(22862, 20)\n",
        "ef2020=ef_dfs.get('2020') #(22663, 20)\n",
        "ef2021=ef_dfs.get('2021') #(22469, 20)\n",
        "ef2022=ef_dfs.get('2022') #(22239, 20)\n"
      ],
      "metadata": {
        "id": "MrgemZ3_Rcdd"
      },
      "execution_count": 670,
      "outputs": []
    },
    {
      "cell_type": "code",
      "source": [
        "# ef2018.columns"
      ],
      "metadata": {
        "id": "bIh8R66X-Bhb"
      },
      "execution_count": 671,
      "outputs": []
    },
    {
      "cell_type": "code",
      "source": [
        "#NANs are appearing in cases where data imputation equal A: Not applicable\n",
        "#NANs are also showing for \"alias\" column\n",
        "#Example: University 101277 have 83 total students. Non are enrolled in distance education.\n",
        "#So as not to lose this data which could show number of universities without any distance\n",
        "# education taking place, will replace NANs with N/A"
      ],
      "metadata": {
        "id": "S-QJsLCX1Xb4"
      },
      "execution_count": 672,
      "outputs": []
    },
    {
      "cell_type": "code",
      "source": [
        "\n",
        "def replace_values(df, columns_to_check, column_to_replace, replace_value, condition_value):\n",
        "\n",
        "    for index, row in df.iterrows():\n",
        "        # Check if condition_value is present in any of the columns_to_check\n",
        "        if any(row[col] == condition_value for col in columns_to_check):\n",
        "            # Replace corresponding values in the specified column with replace_value\n",
        "            df.loc[index, column_to_replace] = replace_value\n",
        "    return df\n",
        "\n",
        "columns_to_check = [ 'XEFDETOT',  'XEFDEEXC', 'XEFDESOM',  'XEFDENON',  'XEFDEEX1',\n",
        "       'XEFDEEX2',  'XEFDEEX3',  'XEFDEEX4', 'XEFDEEX5', ]\n",
        "columns_to_replace = [ 'EFDETOT',  'EFDEEXC','EFDESOM', 'EFDENON',  'EFDEEX1',\n",
        "       'EFDEEX2',  'EFDEEX3', 'EFDEEX4', 'EFDEEX5 ']\n",
        "replace_value = 'N/A'\n",
        "condition_value = 'A'\n",
        "\n",
        "ef2018= replace_values(ef2018, columns_to_check, columns_to_replace, replace_value, condition_value)\n",
        "ef2019= replace_values(ef2019, columns_to_check, columns_to_replace, replace_value, condition_value)\n",
        "ef2020= replace_values(ef2020, columns_to_check, columns_to_replace, replace_value, condition_value)\n",
        "ef2021= replace_values(ef2021, columns_to_check, columns_to_replace, replace_value, condition_value)\n",
        "ef2022= replace_values(ef2022, columns_to_check, columns_to_replace, replace_value, condition_value)"
      ],
      "metadata": {
        "id": "BXGLA4I6yMxb"
      },
      "execution_count": 673,
      "outputs": []
    },
    {
      "cell_type": "code",
      "source": [
        "# ef2020.isnull().sum()"
      ],
      "metadata": {
        "id": "cj4JvGPF0qT-"
      },
      "execution_count": 674,
      "outputs": []
    },
    {
      "cell_type": "code",
      "source": [
        "#remove columns with imputation codes\n",
        "cols_keep = ['UNITID', 'EFDELEV', 'EFDETOT', 'EFDEEXC',\n",
        "      'EFDESOM',  'EFDENON',  'EFDEEX1',\n",
        "      'EFDEEX2',  'EFDEEX3',  'EFDEEX4', 'EFDEEX5 ']\n",
        "\n",
        "def enr_cols_keep(df):\n",
        "  cleaned_df = df[cols_keep]\n",
        "  return cleaned_df\n",
        "\n"
      ],
      "metadata": {
        "id": "UWnv0D6IXmGh"
      },
      "execution_count": 675,
      "outputs": []
    },
    {
      "cell_type": "code",
      "source": [
        "ef2018= enr_cols_keep(ef2018)\n",
        "ef2019= enr_cols_keep(ef2019)\n",
        "ef2020= enr_cols_keep(ef2020)\n",
        "ef2021= enr_cols_keep(ef2021)\n",
        "ef2022= enr_cols_keep(ef2022)"
      ],
      "metadata": {
        "id": "RDSGCTyhpZci"
      },
      "execution_count": 676,
      "outputs": []
    },
    {
      "cell_type": "code",
      "source": [
        "# ef2018.columns"
      ],
      "metadata": {
        "id": "vEzQhHdZ9kRf"
      },
      "execution_count": 677,
      "outputs": []
    },
    {
      "cell_type": "markdown",
      "source": [
        "Merging institution data  with enrollment datasets"
      ],
      "metadata": {
        "id": "Ejkfz2Lk_WVG"
      }
    },
    {
      "cell_type": "code",
      "source": [
        "#merge hd and ef datasets by year\n",
        "ef_2018= pd.merge(hd2018, ef2018, on='UNITID', how='inner')\n",
        "ef_2019= pd.merge(hd2019, ef2019, on='UNITID',how='inner')\n",
        "ef_2020= pd.merge(hd2020, ef2020, on='UNITID', how='inner')\n",
        "ef_2021= pd.merge(hd2021, ef2021, on='UNITID', how='inner')\n",
        "ef_2022= pd.merge(hd2022, ef2022, on='UNITID', how='inner')"
      ],
      "metadata": {
        "id": "MaefiRrHUHdB"
      },
      "execution_count": 678,
      "outputs": []
    },
    {
      "cell_type": "code",
      "source": [
        "ef_2018.shape #((21567, 21))\n",
        "ef_2019.shape #(22862, 21)\n",
        "ef_2020.shape #(22663, 21)\n",
        "ef_2021.shape #(22469, 21)\n",
        "ef_2022.shape #(22239, 21)"
      ],
      "metadata": {
        "id": "E7UKABNDVutL",
        "colab": {
          "base_uri": "https://localhost:8080/"
        },
        "outputId": "a04c1d28-454b-45bf-a8be-ba03a81dba32"
      },
      "execution_count": 679,
      "outputs": [
        {
          "output_type": "execute_result",
          "data": {
            "text/plain": [
              "(22239, 21)"
            ]
          },
          "metadata": {},
          "execution_count": 679
        }
      ]
    },
    {
      "cell_type": "code",
      "source": [
        "def add_year(df, year):\n",
        "   if 'Year' not in df.columns:\n",
        "    df.insert(2,'Year',year, True)\n",
        "    return df\n"
      ],
      "metadata": {
        "id": "stbOHfRI7aEf"
      },
      "execution_count": 680,
      "outputs": []
    },
    {
      "cell_type": "code",
      "source": [
        "# add year\n",
        "ef_2018= add_year(ef_2018, 2018)\n",
        "ef_2019= add_year(ef_2019, 2019)\n",
        "ef_2020= add_year(ef_2020, 2020)\n",
        "ef_2021= add_year(ef_2021, 2021)\n",
        "ef_2022= add_year(ef_2022, 2022)"
      ],
      "metadata": {
        "id": "9auk_l6R70pC"
      },
      "execution_count": 681,
      "outputs": []
    },
    {
      "cell_type": "code",
      "source": [
        "# ef_2018.head()"
      ],
      "metadata": {
        "id": "6Sm_AU0s2tNb"
      },
      "execution_count": 682,
      "outputs": []
    },
    {
      "cell_type": "code",
      "source": [
        "combined_enrollment=pd.concat([ef_2018.reset_index(drop=True),\n",
        "                               ef_2019.reset_index(drop=True),\n",
        "                                   ef_2020.reset_index(drop=True),\n",
        "                                   ef_2021.reset_index(drop=True),\n",
        "                                   ef_2022.reset_index(drop=True)])"
      ],
      "metadata": {
        "id": "YSgVQblU8ELy"
      },
      "execution_count": 683,
      "outputs": []
    },
    {
      "cell_type": "code",
      "source": [
        "# combined_enrollment.head() #111800 rows × 22 columns"
      ],
      "metadata": {
        "id": "v6SWc0cM77J5"
      },
      "execution_count": 684,
      "outputs": []
    },
    {
      "cell_type": "code",
      "source": [
        "combined_enrollment.to_csv('dep_enrollment18_22.csv', index=False)"
      ],
      "metadata": {
        "id": "Z_2HTij76hEj"
      },
      "execution_count": 685,
      "outputs": []
    },
    {
      "cell_type": "markdown",
      "source": [
        "#Race, Gender, Level  with institution identifying names\n",
        "\n"
      ],
      "metadata": {
        "id": "1HzEgkXW0NWF"
      }
    },
    {
      "cell_type": "markdown",
      "source": [
        "Variables of Interest:\n",
        "  - EFALEVEL: 13 codes for full-time/part-time by undergrad, grad, degree-seeking, non-degree seeking\n",
        "  -RACE/ETHNICITY- see codes, separated by EFXXXT (Total), EFXXXM=Men, EFXXXXW=Women"
      ],
      "metadata": {
        "id": "myC7Q9PO-UtO"
      }
    },
    {
      "cell_type": "code",
      "source": [
        "#get demographic datasets by years with variables of interest (race/ethnicity and gender\n",
        "\n",
        "path = '/content/DistanceLearning_Capstone/NCES IPEDS Data 2019-2022'\n",
        "rg_files = glob.glob(path + '/*a_*.csv')\n",
        "rg_files = [file for file in rg_files if \"dist\" not in file]\n",
        "rg_files\n",
        "rg_file_dict = {}  # Dictionary to store file paths with year as key\n",
        "\n",
        "for file_path in rg_files:\n",
        "    file_name = os.path.basename(file_path)  # Get the filename from the path\n",
        "    year = file_name[2:6]  # Extract the year from the filename\n",
        "    rg_file_dict[year] = file_path  # Store the file path in the dictionary with year as key\n",
        "rg_file_dict\n",
        "\n",
        "new_file='/content/DistanceLearning_Capstone/ef2022a.csv'\n",
        "rg_file_dict['2022'] = new_file\n",
        "\n",
        "rg_file_dict\n",
        "# # Access each file by its year\n",
        "# for year, file_path in rg_file_dict.items():\n",
        "#     print(f\"Year: {year}, File Path: {file_path}\")"
      ],
      "metadata": {
        "colab": {
          "base_uri": "https://localhost:8080/"
        },
        "id": "_XhuYbJ5--IZ",
        "outputId": "542c82e7-a056-4805-b926-59013af541d7"
      },
      "execution_count": 686,
      "outputs": [
        {
          "output_type": "execute_result",
          "data": {
            "text/plain": [
              "{'2018': '/content/DistanceLearning_Capstone/NCES IPEDS Data 2019-2022/ef2018a_rv.csv',\n",
              " '2020': '/content/DistanceLearning_Capstone/NCES IPEDS Data 2019-2022/ef2020a_rv.csv',\n",
              " '2022': '/content/DistanceLearning_Capstone/ef2022a.csv',\n",
              " '2019': '/content/DistanceLearning_Capstone/NCES IPEDS Data 2019-2022/ef2019a_rv.csv',\n",
              " '2021': '/content/DistanceLearning_Capstone/NCES IPEDS Data 2019-2022/ef2021a_rv.csv'}"
            ]
          },
          "metadata": {},
          "execution_count": 686
        }
      ]
    },
    {
      "cell_type": "code",
      "source": [
        "rg_dfs = {}\n",
        "\n",
        "#read each file and create df- store to ef_df dict\n",
        "for year, file_path in rg_file_dict.items():\n",
        "  df= pd.read_csv(file_path,encoding='unicode_escape' )\n",
        "  rg_dfs[year]=df\n",
        "\n",
        "# rg_dfs"
      ],
      "metadata": {
        "id": "lF4Atrp4ZVWN"
      },
      "execution_count": 687,
      "outputs": []
    },
    {
      "cell_type": "code",
      "source": [
        "#retrieving individual datasets from dict\n",
        "rg2018=rg_dfs.get('2018') #(121842, 65)\n",
        "rg2019=rg_dfs.get('2019') #(118917, 65)\n",
        "rg2020=rg_dfs.get('2020') #(117881, 65)\n",
        "rg2021=rg_dfs.get('2021') #(116965, 65)\n",
        "rg2022=rg_dfs.get('2022') #(116110, 73) changed below to (121842, 65)\n",
        "rg2018.shape\n",
        "\n"
      ],
      "metadata": {
        "colab": {
          "base_uri": "https://localhost:8080/"
        },
        "id": "cD_0u0KkZJVo",
        "outputId": "38f5063f-875e-4c2d-d744-4e4d09b0497c"
      },
      "execution_count": 688,
      "outputs": [
        {
          "output_type": "execute_result",
          "data": {
            "text/plain": [
              "(121842, 65)"
            ]
          },
          "metadata": {},
          "execution_count": 688
        }
      ]
    },
    {
      "cell_type": "code",
      "source": [
        "#checking NANS\n",
        "# rg2019.isnull().sum()"
      ],
      "metadata": {
        "id": "EQTY7Zyn8T9z"
      },
      "execution_count": 689,
      "outputs": []
    },
    {
      "cell_type": "code",
      "source": [
        "# rg2022.columns\n",
        "# rg2021.columns\n",
        "#2022 columns not in other datasets- remove\n",
        "cols_drop=['XEFGNDRU', 'EFGNDRUN', 'XEFGNDRA', 'EFGNDRAN',\n",
        "'XEFGNDRU.1', 'EFGNDRUA', 'XEFGNDRK', 'EFGNDRKN']\n",
        "rg2022=rg2022.drop(columns=cols_drop, axis=1)\n",
        "# rg2022 = rg2022.rename(columns={'LEVEL': 'EFALEVEL'})\n",
        "rg2022.shape"
      ],
      "metadata": {
        "colab": {
          "base_uri": "https://localhost:8080/"
        },
        "id": "qQUB7htEaACm",
        "outputId": "a32b70f2-e053-471d-b01c-4afacb19ded6"
      },
      "execution_count": 690,
      "outputs": [
        {
          "output_type": "execute_result",
          "data": {
            "text/plain": [
              "(116110, 65)"
            ]
          },
          "metadata": {},
          "execution_count": 690
        }
      ]
    },
    {
      "cell_type": "code",
      "source": [
        "# rg2020.columns"
      ],
      "metadata": {
        "id": "aEMn612yeY8Z"
      },
      "execution_count": 691,
      "outputs": []
    },
    {
      "cell_type": "code",
      "source": [
        "cols_keep=['UNITID','EFALEVEL','EFALEVEL', 'LINE', 'SECTION', 'LSTUDY',\n",
        "                       'EFTOTLT', 'EFTOTLM', 'EFTOTLW',\n",
        "                      'EFAIANT', 'EFAIANM', 'EFAIANW', 'EFASIAT',\n",
        "                      'EFASIAM', 'EFASIAW', 'EFBKAAT', 'EFBKAAM',\n",
        "                      'EFBKAAW', 'EFHISPT', 'EFHISPM', 'EFHISPW',\n",
        "                      'EFNHPIT', 'EFNHPIM', 'EFNHPIW', 'EFWHITT',\n",
        "                      'EFWHITM', 'EFWHITW', 'EF2MORT', 'EF2MORM',\n",
        "                      'EF2MORW', 'EFUNKNT', 'EFUNKNM', 'EFUNKNW',\n",
        "                      'EFNRALT', 'EFNRALM', 'EFNRALW']\n",
        "\n",
        "\n",
        "def df_cols_keep(df, cols):\n",
        "  cleaned_df = df[cols]\n",
        "  return cleaned_df\n",
        "\n",
        "#remove white space in columns\n",
        "rg2018=rg2019.rename(columns=lambda x: x.strip())\n",
        "rg2019=rg2019.rename(columns=lambda x: x.strip())\n",
        "rg2020=rg2020.rename(columns=lambda x: x.strip())\n",
        "rg2021=rg2021.rename(columns=lambda x: x.strip())\n",
        "\n",
        "rg_2018 =df_cols_keep(rg2018, cols_keep)\n",
        "rg_2019 =df_cols_keep(rg2019, cols_keep)\n",
        "rg_2020 =df_cols_keep(rg2020, cols_keep)\n",
        "rg_2021 =df_cols_keep(rg2021, cols_keep)\n",
        "rg_2022 =df_cols_keep(rg2022, cols_keep)\n",
        "\n"
      ],
      "metadata": {
        "id": "xTxqJjdYaDlG"
      },
      "execution_count": 692,
      "outputs": []
    },
    {
      "cell_type": "code",
      "source": [
        "#merge race/gender data with institution information (hd)\n",
        "\n",
        "def hd_merge(df1, df2):\n",
        "  newdf=pd.merge(df1, df2,  on='UNITID',how='inner')\n",
        "  return newdf\n",
        "\n",
        "\n",
        "rgbyhd2018=hd_merge(hd2018, rg_2018)\n",
        "rgbyhd2019=hd_merge(hd2019,rg_2019,)\n",
        "rgbyhd2020=hd_merge(hd2020, rg_2020)\n",
        "rgbyhd2021=hd_merge(hd2021, rg_2021)\n",
        "rgbyhd2022=hd_merge(hd2022, rg_2022)\n"
      ],
      "metadata": {
        "id": "zwdFjQoSgdYp"
      },
      "execution_count": 693,
      "outputs": []
    },
    {
      "cell_type": "code",
      "source": [
        "# rgbyhd2018.head()"
      ],
      "metadata": {
        "id": "rqgC-blP9Imb"
      },
      "execution_count": 694,
      "outputs": []
    },
    {
      "cell_type": "code",
      "source": [
        "#add year into dfs\n",
        "rgbyhd2018= add_year(rgbyhd2018, 2018)\n",
        "rgbyhd2019= add_year(rgbyhd2019, 2019)\n",
        "rgbyhd2020= add_year(rgbyhd2020, 2020)\n",
        "rgbyhd2021= add_year(rgbyhd2021, 2021)\n",
        "rgbyhd2022= add_year(rgbyhd2022, 2022)"
      ],
      "metadata": {
        "id": "wbMkMVR0sZFH"
      },
      "execution_count": 695,
      "outputs": []
    },
    {
      "cell_type": "code",
      "source": [
        "# rginst2022.head()"
      ],
      "metadata": {
        "id": "Bzf4fJ-Lswps"
      },
      "execution_count": 696,
      "outputs": []
    },
    {
      "cell_type": "code",
      "source": [
        "\n",
        "combined_racegender= pd.concat([rgbyhd2018.reset_index(drop=True),\n",
        "                                rgbyhd2019.reset_index(drop=True),\n",
        "                                   rgbyhd2020.reset_index(drop=True),\n",
        "                                   rgbyhd2021.reset_index(drop=True),\n",
        "                                   rgbyhd2022.reset_index(drop=True)])\n"
      ],
      "metadata": {
        "id": "8BL8leQ7mcIA"
      },
      "execution_count": 697,
      "outputs": []
    },
    {
      "cell_type": "code",
      "source": [
        "combined_racegender.head()"
      ],
      "metadata": {
        "colab": {
          "base_uri": "https://localhost:8080/",
          "height": 429
        },
        "id": "-9QPq0754phJ",
        "outputId": "fe4e7c59-649a-4f3b-a69f-712e44e49af8"
      },
      "execution_count": 698,
      "outputs": [
        {
          "output_type": "execute_result",
          "data": {
            "text/plain": [
              "   UNITID                    INSTNM  Year IALIAS STABBR  ICLEVEL  CONTROL  \\\n",
              "0  100654  Alabama A & M University  2018   AAMU     AL        1        1   \n",
              "1  100654  Alabama A & M University  2018   AAMU     AL        1        1   \n",
              "2  100654  Alabama A & M University  2018   AAMU     AL        1        1   \n",
              "3  100654  Alabama A & M University  2018   AAMU     AL        1        1   \n",
              "4  100654  Alabama A & M University  2018   AAMU     AL        1        1   \n",
              "\n",
              "   HLOFFER  DEGGRANT  PSEFLAG  ...  EFWHITW  EF2MORT  EF2MORM  EF2MORW  \\\n",
              "0        9         1        1  ...       64       65       23       42   \n",
              "1        9         1        1  ...       29       60       21       39   \n",
              "2        9         1        1  ...       28       60       21       39   \n",
              "3        9         1        1  ...        8       23        8       15   \n",
              "4        9         1        1  ...       20       37       13       24   \n",
              "\n",
              "   EFUNKNT  EFUNKNM  EFUNKNW  EFNRALT  EFNRALM  EFNRALW  \n",
              "0      407      129      278       79       40       39  \n",
              "1      243       86      157       37       20       17  \n",
              "2      243       86      157       37       20       17  \n",
              "3       76       26       50       11        5        6  \n",
              "4      167       60      107       26       15       11  \n",
              "\n",
              "[5 rows x 47 columns]"
            ],
            "text/html": [
              "\n",
              "  <div id=\"df-6c3e1821-6809-483e-a201-16aaf452a225\" class=\"colab-df-container\">\n",
              "    <div>\n",
              "<style scoped>\n",
              "    .dataframe tbody tr th:only-of-type {\n",
              "        vertical-align: middle;\n",
              "    }\n",
              "\n",
              "    .dataframe tbody tr th {\n",
              "        vertical-align: top;\n",
              "    }\n",
              "\n",
              "    .dataframe thead th {\n",
              "        text-align: right;\n",
              "    }\n",
              "</style>\n",
              "<table border=\"1\" class=\"dataframe\">\n",
              "  <thead>\n",
              "    <tr style=\"text-align: right;\">\n",
              "      <th></th>\n",
              "      <th>UNITID</th>\n",
              "      <th>INSTNM</th>\n",
              "      <th>Year</th>\n",
              "      <th>IALIAS</th>\n",
              "      <th>STABBR</th>\n",
              "      <th>ICLEVEL</th>\n",
              "      <th>CONTROL</th>\n",
              "      <th>HLOFFER</th>\n",
              "      <th>DEGGRANT</th>\n",
              "      <th>PSEFLAG</th>\n",
              "      <th>...</th>\n",
              "      <th>EFWHITW</th>\n",
              "      <th>EF2MORT</th>\n",
              "      <th>EF2MORM</th>\n",
              "      <th>EF2MORW</th>\n",
              "      <th>EFUNKNT</th>\n",
              "      <th>EFUNKNM</th>\n",
              "      <th>EFUNKNW</th>\n",
              "      <th>EFNRALT</th>\n",
              "      <th>EFNRALM</th>\n",
              "      <th>EFNRALW</th>\n",
              "    </tr>\n",
              "  </thead>\n",
              "  <tbody>\n",
              "    <tr>\n",
              "      <th>0</th>\n",
              "      <td>100654</td>\n",
              "      <td>Alabama A &amp; M University</td>\n",
              "      <td>2018</td>\n",
              "      <td>AAMU</td>\n",
              "      <td>AL</td>\n",
              "      <td>1</td>\n",
              "      <td>1</td>\n",
              "      <td>9</td>\n",
              "      <td>1</td>\n",
              "      <td>1</td>\n",
              "      <td>...</td>\n",
              "      <td>64</td>\n",
              "      <td>65</td>\n",
              "      <td>23</td>\n",
              "      <td>42</td>\n",
              "      <td>407</td>\n",
              "      <td>129</td>\n",
              "      <td>278</td>\n",
              "      <td>79</td>\n",
              "      <td>40</td>\n",
              "      <td>39</td>\n",
              "    </tr>\n",
              "    <tr>\n",
              "      <th>1</th>\n",
              "      <td>100654</td>\n",
              "      <td>Alabama A &amp; M University</td>\n",
              "      <td>2018</td>\n",
              "      <td>AAMU</td>\n",
              "      <td>AL</td>\n",
              "      <td>1</td>\n",
              "      <td>1</td>\n",
              "      <td>9</td>\n",
              "      <td>1</td>\n",
              "      <td>1</td>\n",
              "      <td>...</td>\n",
              "      <td>29</td>\n",
              "      <td>60</td>\n",
              "      <td>21</td>\n",
              "      <td>39</td>\n",
              "      <td>243</td>\n",
              "      <td>86</td>\n",
              "      <td>157</td>\n",
              "      <td>37</td>\n",
              "      <td>20</td>\n",
              "      <td>17</td>\n",
              "    </tr>\n",
              "    <tr>\n",
              "      <th>2</th>\n",
              "      <td>100654</td>\n",
              "      <td>Alabama A &amp; M University</td>\n",
              "      <td>2018</td>\n",
              "      <td>AAMU</td>\n",
              "      <td>AL</td>\n",
              "      <td>1</td>\n",
              "      <td>1</td>\n",
              "      <td>9</td>\n",
              "      <td>1</td>\n",
              "      <td>1</td>\n",
              "      <td>...</td>\n",
              "      <td>28</td>\n",
              "      <td>60</td>\n",
              "      <td>21</td>\n",
              "      <td>39</td>\n",
              "      <td>243</td>\n",
              "      <td>86</td>\n",
              "      <td>157</td>\n",
              "      <td>37</td>\n",
              "      <td>20</td>\n",
              "      <td>17</td>\n",
              "    </tr>\n",
              "    <tr>\n",
              "      <th>3</th>\n",
              "      <td>100654</td>\n",
              "      <td>Alabama A &amp; M University</td>\n",
              "      <td>2018</td>\n",
              "      <td>AAMU</td>\n",
              "      <td>AL</td>\n",
              "      <td>1</td>\n",
              "      <td>1</td>\n",
              "      <td>9</td>\n",
              "      <td>1</td>\n",
              "      <td>1</td>\n",
              "      <td>...</td>\n",
              "      <td>8</td>\n",
              "      <td>23</td>\n",
              "      <td>8</td>\n",
              "      <td>15</td>\n",
              "      <td>76</td>\n",
              "      <td>26</td>\n",
              "      <td>50</td>\n",
              "      <td>11</td>\n",
              "      <td>5</td>\n",
              "      <td>6</td>\n",
              "    </tr>\n",
              "    <tr>\n",
              "      <th>4</th>\n",
              "      <td>100654</td>\n",
              "      <td>Alabama A &amp; M University</td>\n",
              "      <td>2018</td>\n",
              "      <td>AAMU</td>\n",
              "      <td>AL</td>\n",
              "      <td>1</td>\n",
              "      <td>1</td>\n",
              "      <td>9</td>\n",
              "      <td>1</td>\n",
              "      <td>1</td>\n",
              "      <td>...</td>\n",
              "      <td>20</td>\n",
              "      <td>37</td>\n",
              "      <td>13</td>\n",
              "      <td>24</td>\n",
              "      <td>167</td>\n",
              "      <td>60</td>\n",
              "      <td>107</td>\n",
              "      <td>26</td>\n",
              "      <td>15</td>\n",
              "      <td>11</td>\n",
              "    </tr>\n",
              "  </tbody>\n",
              "</table>\n",
              "<p>5 rows × 47 columns</p>\n",
              "</div>\n",
              "    <div class=\"colab-df-buttons\">\n",
              "\n",
              "  <div class=\"colab-df-container\">\n",
              "    <button class=\"colab-df-convert\" onclick=\"convertToInteractive('df-6c3e1821-6809-483e-a201-16aaf452a225')\"\n",
              "            title=\"Convert this dataframe to an interactive table.\"\n",
              "            style=\"display:none;\">\n",
              "\n",
              "  <svg xmlns=\"http://www.w3.org/2000/svg\" height=\"24px\" viewBox=\"0 -960 960 960\">\n",
              "    <path d=\"M120-120v-720h720v720H120Zm60-500h600v-160H180v160Zm220 220h160v-160H400v160Zm0 220h160v-160H400v160ZM180-400h160v-160H180v160Zm440 0h160v-160H620v160ZM180-180h160v-160H180v160Zm440 0h160v-160H620v160Z\"/>\n",
              "  </svg>\n",
              "    </button>\n",
              "\n",
              "  <style>\n",
              "    .colab-df-container {\n",
              "      display:flex;\n",
              "      gap: 12px;\n",
              "    }\n",
              "\n",
              "    .colab-df-convert {\n",
              "      background-color: #E8F0FE;\n",
              "      border: none;\n",
              "      border-radius: 50%;\n",
              "      cursor: pointer;\n",
              "      display: none;\n",
              "      fill: #1967D2;\n",
              "      height: 32px;\n",
              "      padding: 0 0 0 0;\n",
              "      width: 32px;\n",
              "    }\n",
              "\n",
              "    .colab-df-convert:hover {\n",
              "      background-color: #E2EBFA;\n",
              "      box-shadow: 0px 1px 2px rgba(60, 64, 67, 0.3), 0px 1px 3px 1px rgba(60, 64, 67, 0.15);\n",
              "      fill: #174EA6;\n",
              "    }\n",
              "\n",
              "    .colab-df-buttons div {\n",
              "      margin-bottom: 4px;\n",
              "    }\n",
              "\n",
              "    [theme=dark] .colab-df-convert {\n",
              "      background-color: #3B4455;\n",
              "      fill: #D2E3FC;\n",
              "    }\n",
              "\n",
              "    [theme=dark] .colab-df-convert:hover {\n",
              "      background-color: #434B5C;\n",
              "      box-shadow: 0px 1px 3px 1px rgba(0, 0, 0, 0.15);\n",
              "      filter: drop-shadow(0px 1px 2px rgba(0, 0, 0, 0.3));\n",
              "      fill: #FFFFFF;\n",
              "    }\n",
              "  </style>\n",
              "\n",
              "    <script>\n",
              "      const buttonEl =\n",
              "        document.querySelector('#df-6c3e1821-6809-483e-a201-16aaf452a225 button.colab-df-convert');\n",
              "      buttonEl.style.display =\n",
              "        google.colab.kernel.accessAllowed ? 'block' : 'none';\n",
              "\n",
              "      async function convertToInteractive(key) {\n",
              "        const element = document.querySelector('#df-6c3e1821-6809-483e-a201-16aaf452a225');\n",
              "        const dataTable =\n",
              "          await google.colab.kernel.invokeFunction('convertToInteractive',\n",
              "                                                    [key], {});\n",
              "        if (!dataTable) return;\n",
              "\n",
              "        const docLinkHtml = 'Like what you see? Visit the ' +\n",
              "          '<a target=\"_blank\" href=https://colab.research.google.com/notebooks/data_table.ipynb>data table notebook</a>'\n",
              "          + ' to learn more about interactive tables.';\n",
              "        element.innerHTML = '';\n",
              "        dataTable['output_type'] = 'display_data';\n",
              "        await google.colab.output.renderOutput(dataTable, element);\n",
              "        const docLink = document.createElement('div');\n",
              "        docLink.innerHTML = docLinkHtml;\n",
              "        element.appendChild(docLink);\n",
              "      }\n",
              "    </script>\n",
              "  </div>\n",
              "\n",
              "\n",
              "<div id=\"df-78b3c47a-40ee-4bbf-a818-5cb2f7307b9b\">\n",
              "  <button class=\"colab-df-quickchart\" onclick=\"quickchart('df-78b3c47a-40ee-4bbf-a818-5cb2f7307b9b')\"\n",
              "            title=\"Suggest charts\"\n",
              "            style=\"display:none;\">\n",
              "\n",
              "<svg xmlns=\"http://www.w3.org/2000/svg\" height=\"24px\"viewBox=\"0 0 24 24\"\n",
              "     width=\"24px\">\n",
              "    <g>\n",
              "        <path d=\"M19 3H5c-1.1 0-2 .9-2 2v14c0 1.1.9 2 2 2h14c1.1 0 2-.9 2-2V5c0-1.1-.9-2-2-2zM9 17H7v-7h2v7zm4 0h-2V7h2v10zm4 0h-2v-4h2v4z\"/>\n",
              "    </g>\n",
              "</svg>\n",
              "  </button>\n",
              "\n",
              "<style>\n",
              "  .colab-df-quickchart {\n",
              "      --bg-color: #E8F0FE;\n",
              "      --fill-color: #1967D2;\n",
              "      --hover-bg-color: #E2EBFA;\n",
              "      --hover-fill-color: #174EA6;\n",
              "      --disabled-fill-color: #AAA;\n",
              "      --disabled-bg-color: #DDD;\n",
              "  }\n",
              "\n",
              "  [theme=dark] .colab-df-quickchart {\n",
              "      --bg-color: #3B4455;\n",
              "      --fill-color: #D2E3FC;\n",
              "      --hover-bg-color: #434B5C;\n",
              "      --hover-fill-color: #FFFFFF;\n",
              "      --disabled-bg-color: #3B4455;\n",
              "      --disabled-fill-color: #666;\n",
              "  }\n",
              "\n",
              "  .colab-df-quickchart {\n",
              "    background-color: var(--bg-color);\n",
              "    border: none;\n",
              "    border-radius: 50%;\n",
              "    cursor: pointer;\n",
              "    display: none;\n",
              "    fill: var(--fill-color);\n",
              "    height: 32px;\n",
              "    padding: 0;\n",
              "    width: 32px;\n",
              "  }\n",
              "\n",
              "  .colab-df-quickchart:hover {\n",
              "    background-color: var(--hover-bg-color);\n",
              "    box-shadow: 0 1px 2px rgba(60, 64, 67, 0.3), 0 1px 3px 1px rgba(60, 64, 67, 0.15);\n",
              "    fill: var(--button-hover-fill-color);\n",
              "  }\n",
              "\n",
              "  .colab-df-quickchart-complete:disabled,\n",
              "  .colab-df-quickchart-complete:disabled:hover {\n",
              "    background-color: var(--disabled-bg-color);\n",
              "    fill: var(--disabled-fill-color);\n",
              "    box-shadow: none;\n",
              "  }\n",
              "\n",
              "  .colab-df-spinner {\n",
              "    border: 2px solid var(--fill-color);\n",
              "    border-color: transparent;\n",
              "    border-bottom-color: var(--fill-color);\n",
              "    animation:\n",
              "      spin 1s steps(1) infinite;\n",
              "  }\n",
              "\n",
              "  @keyframes spin {\n",
              "    0% {\n",
              "      border-color: transparent;\n",
              "      border-bottom-color: var(--fill-color);\n",
              "      border-left-color: var(--fill-color);\n",
              "    }\n",
              "    20% {\n",
              "      border-color: transparent;\n",
              "      border-left-color: var(--fill-color);\n",
              "      border-top-color: var(--fill-color);\n",
              "    }\n",
              "    30% {\n",
              "      border-color: transparent;\n",
              "      border-left-color: var(--fill-color);\n",
              "      border-top-color: var(--fill-color);\n",
              "      border-right-color: var(--fill-color);\n",
              "    }\n",
              "    40% {\n",
              "      border-color: transparent;\n",
              "      border-right-color: var(--fill-color);\n",
              "      border-top-color: var(--fill-color);\n",
              "    }\n",
              "    60% {\n",
              "      border-color: transparent;\n",
              "      border-right-color: var(--fill-color);\n",
              "    }\n",
              "    80% {\n",
              "      border-color: transparent;\n",
              "      border-right-color: var(--fill-color);\n",
              "      border-bottom-color: var(--fill-color);\n",
              "    }\n",
              "    90% {\n",
              "      border-color: transparent;\n",
              "      border-bottom-color: var(--fill-color);\n",
              "    }\n",
              "  }\n",
              "</style>\n",
              "\n",
              "  <script>\n",
              "    async function quickchart(key) {\n",
              "      const quickchartButtonEl =\n",
              "        document.querySelector('#' + key + ' button');\n",
              "      quickchartButtonEl.disabled = true;  // To prevent multiple clicks.\n",
              "      quickchartButtonEl.classList.add('colab-df-spinner');\n",
              "      try {\n",
              "        const charts = await google.colab.kernel.invokeFunction(\n",
              "            'suggestCharts', [key], {});\n",
              "      } catch (error) {\n",
              "        console.error('Error during call to suggestCharts:', error);\n",
              "      }\n",
              "      quickchartButtonEl.classList.remove('colab-df-spinner');\n",
              "      quickchartButtonEl.classList.add('colab-df-quickchart-complete');\n",
              "    }\n",
              "    (() => {\n",
              "      let quickchartButtonEl =\n",
              "        document.querySelector('#df-78b3c47a-40ee-4bbf-a818-5cb2f7307b9b button');\n",
              "      quickchartButtonEl.style.display =\n",
              "        google.colab.kernel.accessAllowed ? 'block' : 'none';\n",
              "    })();\n",
              "  </script>\n",
              "</div>\n",
              "    </div>\n",
              "  </div>\n"
            ],
            "application/vnd.google.colaboratory.intrinsic+json": {
              "type": "dataframe",
              "variable_name": "combined_racegender"
            }
          },
          "metadata": {},
          "execution_count": 698
        }
      ]
    },
    {
      "cell_type": "code",
      "source": [
        "# combined_racegender.to_csv('race_gen_lev18_22.csv', index=False)"
      ],
      "metadata": {
        "id": "hkUExv83-yIF"
      },
      "execution_count": 699,
      "outputs": []
    },
    {
      "cell_type": "markdown",
      "source": [
        "#AGE, GENDER, LEVEL with identifying institution names\n",
        "Variables of interest:\n",
        "  - EFBAGE: Age Categories - See Code dict\n",
        "  - LStudy: Level of student\n",
        "  - EFAFE 01-09 Full-time Men/Women, Part-Time Men/Women\n"
      ],
      "metadata": {
        "id": "K4B6D58ECSHt"
      }
    },
    {
      "cell_type": "code",
      "source": [
        "#get demographic datasets by years with variables of interest (race/ethnicity and gender\n",
        "\n",
        "path = '//content/DistanceLearning_Capstone/NCES IPEDS Data 2019-2022'\n",
        "age_files = glob.glob(path + '/*b*.csv')\n",
        "# age_files = [file for file in age_files if \"dist\" not in file]\n",
        "age_files\n",
        "age_file_dict = {}  # Dictionary to store file paths with year as key\n",
        "\n",
        "for file_path in age_files:\n",
        "    file_name = os.path.basename(file_path)  # Get the filename from the path\n",
        "    year = file_name[2:6]  # Extract the year from the filename\n",
        "    age_file_dict[year] = file_path  # Store the file path in the dictionary with year as key\n",
        "age_file_dict"
      ],
      "metadata": {
        "id": "OyedVstn-xpg",
        "colab": {
          "base_uri": "https://localhost:8080/"
        },
        "outputId": "16112ed1-1615-4504-dc27-27b459193f48"
      },
      "execution_count": 700,
      "outputs": [
        {
          "output_type": "execute_result",
          "data": {
            "text/plain": [
              "{'2021': '//content/DistanceLearning_Capstone/NCES IPEDS Data 2019-2022/ef2021b_rv.csv',\n",
              " '2020': '//content/DistanceLearning_Capstone/NCES IPEDS Data 2019-2022/ef2020b_rv.csv',\n",
              " '2022': '//content/DistanceLearning_Capstone/NCES IPEDS Data 2019-2022/ef2022b.csv',\n",
              " '2018': '//content/DistanceLearning_Capstone/NCES IPEDS Data 2019-2022/ef2018b_rv.csv',\n",
              " '2019': '//content/DistanceLearning_Capstone/NCES IPEDS Data 2019-2022/ef2019b_rv.csv'}"
            ]
          },
          "metadata": {},
          "execution_count": 700
        }
      ]
    },
    {
      "cell_type": "code",
      "source": [
        "#create dfs\n",
        "age_dfs = {}\n",
        "\n",
        "#read each file and create df- store to ef_df dict\n",
        "for year, file_path in age_file_dict.items():\n",
        "  df= pd.read_csv(file_path,encoding='unicode_escape' )\n",
        "  age_dfs[year]=df\n",
        "\n",
        "# age_dfs"
      ],
      "metadata": {
        "id": "HAcSoQ_BGQE6"
      },
      "execution_count": 701,
      "outputs": []
    },
    {
      "cell_type": "code",
      "source": [
        "#retrieving individual datasets from dict\n",
        "age2018=age_dfs.get('2018') #(81449, 22)\n",
        "age2019=age_dfs.get('2019') #(164753, 22)\n",
        "age2020=age_dfs.get('2020') #(78024, 22)\n",
        "age2021=age_dfs.get('2021') #(161174, 22)\n",
        "age2022=age_dfs.get('2022') #(77996, 22)\n",
        "# age2021.shape\n"
      ],
      "metadata": {
        "id": "s-NXJl-XGYVM"
      },
      "execution_count": 702,
      "outputs": []
    },
    {
      "cell_type": "code",
      "source": [
        "# age2018.columns"
      ],
      "metadata": {
        "id": "fDJFhXX1H5r8"
      },
      "execution_count": 703,
      "outputs": []
    },
    {
      "cell_type": "code",
      "source": [
        "#remove imputation columns\n",
        "cols_to_keep= ['UNITID', 'EFBAGE', 'LINE', 'LSTUDY', 'EFAGE01',\n",
        "       'EFAGE02', 'EFAGE03',  'EFAGE04',  'EFAGE05',  'EFAGE06', 'EFAGE07',\n",
        "       'EFAGE08', 'EFAGE09 ']\n",
        "\n",
        "age2018=df_cols_keep(age2018, cols_to_keep)\n",
        "age2019=df_cols_keep(age2019, cols_to_keep)\n",
        "age2020=df_cols_keep(age2020, cols_to_keep)\n",
        "age2021=df_cols_keep(age2021, cols_to_keep)\n",
        "age2022=df_cols_keep(age2022, cols_to_keep)"
      ],
      "metadata": {
        "id": "GF9fpsk1HN7G"
      },
      "execution_count": 704,
      "outputs": []
    },
    {
      "cell_type": "code",
      "source": [
        "#merge hd institutional information\n",
        "age2018=hd_merge(hd2018, age2018)\n",
        "age2019=hd_merge(hd2019, age2019)\n",
        "age2020=hd_merge(hd2020, age2020)\n",
        "age2021=hd_merge(hd2021, age2021)\n",
        "age2022=hd_merge(hd2022, age2022)"
      ],
      "metadata": {
        "id": "iOknyqhwI6KZ"
      },
      "execution_count": 705,
      "outputs": []
    },
    {
      "cell_type": "code",
      "source": [
        "# age2018.head()"
      ],
      "metadata": {
        "id": "UMVSN5Q8Lr7H"
      },
      "execution_count": 706,
      "outputs": []
    },
    {
      "cell_type": "code",
      "source": [
        "#add year into dfs\n",
        "age2018= add_year(age2018, 2018)\n",
        "age2019= add_year(age2019, 2019)\n",
        "age2020= add_year(age2020, 2020)\n",
        "age2021= add_year(age2021, 2021)\n",
        "age2022= add_year(age2022, 2022)"
      ],
      "metadata": {
        "id": "T7mPzAoVNnCB"
      },
      "execution_count": 707,
      "outputs": []
    },
    {
      "cell_type": "code",
      "source": [
        "\n",
        "combined_age_gen_lev= pd.concat([age2018.reset_index(drop=True),\n",
        "                                age2019.reset_index(drop=True),\n",
        "                                   age2020.reset_index(drop=True),\n",
        "                                   age2021.reset_index(drop=True),\n",
        "                                   age2022.reset_index(drop=True)])"
      ],
      "metadata": {
        "id": "avLBLsaMN11p"
      },
      "execution_count": 708,
      "outputs": []
    },
    {
      "cell_type": "code",
      "source": [
        "combined_age_gen_lev.tail()"
      ],
      "metadata": {
        "colab": {
          "base_uri": "https://localhost:8080/",
          "height": 429
        },
        "id": "I2kJHR0AN_ZG",
        "outputId": "1f0f754b-06a0-4f05-8f3b-fe567e1503ed"
      },
      "execution_count": 709,
      "outputs": [
        {
          "output_type": "execute_result",
          "data": {
            "text/plain": [
              "       UNITID                           INSTNM  Year               IALIAS  \\\n",
              "77991  498571  Pennsylvania Western University  2022  PennWest University   \n",
              "77992  498571  Pennsylvania Western University  2022  PennWest University   \n",
              "77993  498571  Pennsylvania Western University  2022  PennWest University   \n",
              "77994  498571  Pennsylvania Western University  2022  PennWest University   \n",
              "77995  498571  Pennsylvania Western University  2022  PennWest University   \n",
              "\n",
              "      STABBR  ICLEVEL  CONTROL  HLOFFER  DEGGRANT  PSEFLAG  ...  LSTUDY  \\\n",
              "77991     PA        1        1        9         1        1  ...       2   \n",
              "77992     PA        1        1        9         1        1  ...       5   \n",
              "77993     PA        1        1        9         1        1  ...       1   \n",
              "77994     PA        1        1        9         1        1  ...       2   \n",
              "77995     PA        1        1        9         1        1  ...       5   \n",
              "\n",
              "       EFAGE01  EFAGE02  EFAGE03  EFAGE04  EFAGE05  EFAGE06  EFAGE07  EFAGE08  \\\n",
              "77991        7       16       24       58       23       82       31       74   \n",
              "77992        4       27       63      122       31      185       67      149   \n",
              "77993        2        3       17       13        5       30       19       16   \n",
              "77994        0        0        9        6        0       15        9        6   \n",
              "77995        2        3        8        7        5       15       10       10   \n",
              "\n",
              "       EFAGE09   \n",
              "77991       105  \n",
              "77992       216  \n",
              "77993        35  \n",
              "77994        15  \n",
              "77995        20  \n",
              "\n",
              "[5 rows x 24 columns]"
            ],
            "text/html": [
              "\n",
              "  <div id=\"df-c55a19be-f107-4c48-81b6-00969f753a4e\" class=\"colab-df-container\">\n",
              "    <div>\n",
              "<style scoped>\n",
              "    .dataframe tbody tr th:only-of-type {\n",
              "        vertical-align: middle;\n",
              "    }\n",
              "\n",
              "    .dataframe tbody tr th {\n",
              "        vertical-align: top;\n",
              "    }\n",
              "\n",
              "    .dataframe thead th {\n",
              "        text-align: right;\n",
              "    }\n",
              "</style>\n",
              "<table border=\"1\" class=\"dataframe\">\n",
              "  <thead>\n",
              "    <tr style=\"text-align: right;\">\n",
              "      <th></th>\n",
              "      <th>UNITID</th>\n",
              "      <th>INSTNM</th>\n",
              "      <th>Year</th>\n",
              "      <th>IALIAS</th>\n",
              "      <th>STABBR</th>\n",
              "      <th>ICLEVEL</th>\n",
              "      <th>CONTROL</th>\n",
              "      <th>HLOFFER</th>\n",
              "      <th>DEGGRANT</th>\n",
              "      <th>PSEFLAG</th>\n",
              "      <th>...</th>\n",
              "      <th>LSTUDY</th>\n",
              "      <th>EFAGE01</th>\n",
              "      <th>EFAGE02</th>\n",
              "      <th>EFAGE03</th>\n",
              "      <th>EFAGE04</th>\n",
              "      <th>EFAGE05</th>\n",
              "      <th>EFAGE06</th>\n",
              "      <th>EFAGE07</th>\n",
              "      <th>EFAGE08</th>\n",
              "      <th>EFAGE09</th>\n",
              "    </tr>\n",
              "  </thead>\n",
              "  <tbody>\n",
              "    <tr>\n",
              "      <th>77991</th>\n",
              "      <td>498571</td>\n",
              "      <td>Pennsylvania Western University</td>\n",
              "      <td>2022</td>\n",
              "      <td>PennWest University</td>\n",
              "      <td>PA</td>\n",
              "      <td>1</td>\n",
              "      <td>1</td>\n",
              "      <td>9</td>\n",
              "      <td>1</td>\n",
              "      <td>1</td>\n",
              "      <td>...</td>\n",
              "      <td>2</td>\n",
              "      <td>7</td>\n",
              "      <td>16</td>\n",
              "      <td>24</td>\n",
              "      <td>58</td>\n",
              "      <td>23</td>\n",
              "      <td>82</td>\n",
              "      <td>31</td>\n",
              "      <td>74</td>\n",
              "      <td>105</td>\n",
              "    </tr>\n",
              "    <tr>\n",
              "      <th>77992</th>\n",
              "      <td>498571</td>\n",
              "      <td>Pennsylvania Western University</td>\n",
              "      <td>2022</td>\n",
              "      <td>PennWest University</td>\n",
              "      <td>PA</td>\n",
              "      <td>1</td>\n",
              "      <td>1</td>\n",
              "      <td>9</td>\n",
              "      <td>1</td>\n",
              "      <td>1</td>\n",
              "      <td>...</td>\n",
              "      <td>5</td>\n",
              "      <td>4</td>\n",
              "      <td>27</td>\n",
              "      <td>63</td>\n",
              "      <td>122</td>\n",
              "      <td>31</td>\n",
              "      <td>185</td>\n",
              "      <td>67</td>\n",
              "      <td>149</td>\n",
              "      <td>216</td>\n",
              "    </tr>\n",
              "    <tr>\n",
              "      <th>77993</th>\n",
              "      <td>498571</td>\n",
              "      <td>Pennsylvania Western University</td>\n",
              "      <td>2022</td>\n",
              "      <td>PennWest University</td>\n",
              "      <td>PA</td>\n",
              "      <td>1</td>\n",
              "      <td>1</td>\n",
              "      <td>9</td>\n",
              "      <td>1</td>\n",
              "      <td>1</td>\n",
              "      <td>...</td>\n",
              "      <td>1</td>\n",
              "      <td>2</td>\n",
              "      <td>3</td>\n",
              "      <td>17</td>\n",
              "      <td>13</td>\n",
              "      <td>5</td>\n",
              "      <td>30</td>\n",
              "      <td>19</td>\n",
              "      <td>16</td>\n",
              "      <td>35</td>\n",
              "    </tr>\n",
              "    <tr>\n",
              "      <th>77994</th>\n",
              "      <td>498571</td>\n",
              "      <td>Pennsylvania Western University</td>\n",
              "      <td>2022</td>\n",
              "      <td>PennWest University</td>\n",
              "      <td>PA</td>\n",
              "      <td>1</td>\n",
              "      <td>1</td>\n",
              "      <td>9</td>\n",
              "      <td>1</td>\n",
              "      <td>1</td>\n",
              "      <td>...</td>\n",
              "      <td>2</td>\n",
              "      <td>0</td>\n",
              "      <td>0</td>\n",
              "      <td>9</td>\n",
              "      <td>6</td>\n",
              "      <td>0</td>\n",
              "      <td>15</td>\n",
              "      <td>9</td>\n",
              "      <td>6</td>\n",
              "      <td>15</td>\n",
              "    </tr>\n",
              "    <tr>\n",
              "      <th>77995</th>\n",
              "      <td>498571</td>\n",
              "      <td>Pennsylvania Western University</td>\n",
              "      <td>2022</td>\n",
              "      <td>PennWest University</td>\n",
              "      <td>PA</td>\n",
              "      <td>1</td>\n",
              "      <td>1</td>\n",
              "      <td>9</td>\n",
              "      <td>1</td>\n",
              "      <td>1</td>\n",
              "      <td>...</td>\n",
              "      <td>5</td>\n",
              "      <td>2</td>\n",
              "      <td>3</td>\n",
              "      <td>8</td>\n",
              "      <td>7</td>\n",
              "      <td>5</td>\n",
              "      <td>15</td>\n",
              "      <td>10</td>\n",
              "      <td>10</td>\n",
              "      <td>20</td>\n",
              "    </tr>\n",
              "  </tbody>\n",
              "</table>\n",
              "<p>5 rows × 24 columns</p>\n",
              "</div>\n",
              "    <div class=\"colab-df-buttons\">\n",
              "\n",
              "  <div class=\"colab-df-container\">\n",
              "    <button class=\"colab-df-convert\" onclick=\"convertToInteractive('df-c55a19be-f107-4c48-81b6-00969f753a4e')\"\n",
              "            title=\"Convert this dataframe to an interactive table.\"\n",
              "            style=\"display:none;\">\n",
              "\n",
              "  <svg xmlns=\"http://www.w3.org/2000/svg\" height=\"24px\" viewBox=\"0 -960 960 960\">\n",
              "    <path d=\"M120-120v-720h720v720H120Zm60-500h600v-160H180v160Zm220 220h160v-160H400v160Zm0 220h160v-160H400v160ZM180-400h160v-160H180v160Zm440 0h160v-160H620v160ZM180-180h160v-160H180v160Zm440 0h160v-160H620v160Z\"/>\n",
              "  </svg>\n",
              "    </button>\n",
              "\n",
              "  <style>\n",
              "    .colab-df-container {\n",
              "      display:flex;\n",
              "      gap: 12px;\n",
              "    }\n",
              "\n",
              "    .colab-df-convert {\n",
              "      background-color: #E8F0FE;\n",
              "      border: none;\n",
              "      border-radius: 50%;\n",
              "      cursor: pointer;\n",
              "      display: none;\n",
              "      fill: #1967D2;\n",
              "      height: 32px;\n",
              "      padding: 0 0 0 0;\n",
              "      width: 32px;\n",
              "    }\n",
              "\n",
              "    .colab-df-convert:hover {\n",
              "      background-color: #E2EBFA;\n",
              "      box-shadow: 0px 1px 2px rgba(60, 64, 67, 0.3), 0px 1px 3px 1px rgba(60, 64, 67, 0.15);\n",
              "      fill: #174EA6;\n",
              "    }\n",
              "\n",
              "    .colab-df-buttons div {\n",
              "      margin-bottom: 4px;\n",
              "    }\n",
              "\n",
              "    [theme=dark] .colab-df-convert {\n",
              "      background-color: #3B4455;\n",
              "      fill: #D2E3FC;\n",
              "    }\n",
              "\n",
              "    [theme=dark] .colab-df-convert:hover {\n",
              "      background-color: #434B5C;\n",
              "      box-shadow: 0px 1px 3px 1px rgba(0, 0, 0, 0.15);\n",
              "      filter: drop-shadow(0px 1px 2px rgba(0, 0, 0, 0.3));\n",
              "      fill: #FFFFFF;\n",
              "    }\n",
              "  </style>\n",
              "\n",
              "    <script>\n",
              "      const buttonEl =\n",
              "        document.querySelector('#df-c55a19be-f107-4c48-81b6-00969f753a4e button.colab-df-convert');\n",
              "      buttonEl.style.display =\n",
              "        google.colab.kernel.accessAllowed ? 'block' : 'none';\n",
              "\n",
              "      async function convertToInteractive(key) {\n",
              "        const element = document.querySelector('#df-c55a19be-f107-4c48-81b6-00969f753a4e');\n",
              "        const dataTable =\n",
              "          await google.colab.kernel.invokeFunction('convertToInteractive',\n",
              "                                                    [key], {});\n",
              "        if (!dataTable) return;\n",
              "\n",
              "        const docLinkHtml = 'Like what you see? Visit the ' +\n",
              "          '<a target=\"_blank\" href=https://colab.research.google.com/notebooks/data_table.ipynb>data table notebook</a>'\n",
              "          + ' to learn more about interactive tables.';\n",
              "        element.innerHTML = '';\n",
              "        dataTable['output_type'] = 'display_data';\n",
              "        await google.colab.output.renderOutput(dataTable, element);\n",
              "        const docLink = document.createElement('div');\n",
              "        docLink.innerHTML = docLinkHtml;\n",
              "        element.appendChild(docLink);\n",
              "      }\n",
              "    </script>\n",
              "  </div>\n",
              "\n",
              "\n",
              "<div id=\"df-791aafac-7088-4b4d-965b-859138d69ad3\">\n",
              "  <button class=\"colab-df-quickchart\" onclick=\"quickchart('df-791aafac-7088-4b4d-965b-859138d69ad3')\"\n",
              "            title=\"Suggest charts\"\n",
              "            style=\"display:none;\">\n",
              "\n",
              "<svg xmlns=\"http://www.w3.org/2000/svg\" height=\"24px\"viewBox=\"0 0 24 24\"\n",
              "     width=\"24px\">\n",
              "    <g>\n",
              "        <path d=\"M19 3H5c-1.1 0-2 .9-2 2v14c0 1.1.9 2 2 2h14c1.1 0 2-.9 2-2V5c0-1.1-.9-2-2-2zM9 17H7v-7h2v7zm4 0h-2V7h2v10zm4 0h-2v-4h2v4z\"/>\n",
              "    </g>\n",
              "</svg>\n",
              "  </button>\n",
              "\n",
              "<style>\n",
              "  .colab-df-quickchart {\n",
              "      --bg-color: #E8F0FE;\n",
              "      --fill-color: #1967D2;\n",
              "      --hover-bg-color: #E2EBFA;\n",
              "      --hover-fill-color: #174EA6;\n",
              "      --disabled-fill-color: #AAA;\n",
              "      --disabled-bg-color: #DDD;\n",
              "  }\n",
              "\n",
              "  [theme=dark] .colab-df-quickchart {\n",
              "      --bg-color: #3B4455;\n",
              "      --fill-color: #D2E3FC;\n",
              "      --hover-bg-color: #434B5C;\n",
              "      --hover-fill-color: #FFFFFF;\n",
              "      --disabled-bg-color: #3B4455;\n",
              "      --disabled-fill-color: #666;\n",
              "  }\n",
              "\n",
              "  .colab-df-quickchart {\n",
              "    background-color: var(--bg-color);\n",
              "    border: none;\n",
              "    border-radius: 50%;\n",
              "    cursor: pointer;\n",
              "    display: none;\n",
              "    fill: var(--fill-color);\n",
              "    height: 32px;\n",
              "    padding: 0;\n",
              "    width: 32px;\n",
              "  }\n",
              "\n",
              "  .colab-df-quickchart:hover {\n",
              "    background-color: var(--hover-bg-color);\n",
              "    box-shadow: 0 1px 2px rgba(60, 64, 67, 0.3), 0 1px 3px 1px rgba(60, 64, 67, 0.15);\n",
              "    fill: var(--button-hover-fill-color);\n",
              "  }\n",
              "\n",
              "  .colab-df-quickchart-complete:disabled,\n",
              "  .colab-df-quickchart-complete:disabled:hover {\n",
              "    background-color: var(--disabled-bg-color);\n",
              "    fill: var(--disabled-fill-color);\n",
              "    box-shadow: none;\n",
              "  }\n",
              "\n",
              "  .colab-df-spinner {\n",
              "    border: 2px solid var(--fill-color);\n",
              "    border-color: transparent;\n",
              "    border-bottom-color: var(--fill-color);\n",
              "    animation:\n",
              "      spin 1s steps(1) infinite;\n",
              "  }\n",
              "\n",
              "  @keyframes spin {\n",
              "    0% {\n",
              "      border-color: transparent;\n",
              "      border-bottom-color: var(--fill-color);\n",
              "      border-left-color: var(--fill-color);\n",
              "    }\n",
              "    20% {\n",
              "      border-color: transparent;\n",
              "      border-left-color: var(--fill-color);\n",
              "      border-top-color: var(--fill-color);\n",
              "    }\n",
              "    30% {\n",
              "      border-color: transparent;\n",
              "      border-left-color: var(--fill-color);\n",
              "      border-top-color: var(--fill-color);\n",
              "      border-right-color: var(--fill-color);\n",
              "    }\n",
              "    40% {\n",
              "      border-color: transparent;\n",
              "      border-right-color: var(--fill-color);\n",
              "      border-top-color: var(--fill-color);\n",
              "    }\n",
              "    60% {\n",
              "      border-color: transparent;\n",
              "      border-right-color: var(--fill-color);\n",
              "    }\n",
              "    80% {\n",
              "      border-color: transparent;\n",
              "      border-right-color: var(--fill-color);\n",
              "      border-bottom-color: var(--fill-color);\n",
              "    }\n",
              "    90% {\n",
              "      border-color: transparent;\n",
              "      border-bottom-color: var(--fill-color);\n",
              "    }\n",
              "  }\n",
              "</style>\n",
              "\n",
              "  <script>\n",
              "    async function quickchart(key) {\n",
              "      const quickchartButtonEl =\n",
              "        document.querySelector('#' + key + ' button');\n",
              "      quickchartButtonEl.disabled = true;  // To prevent multiple clicks.\n",
              "      quickchartButtonEl.classList.add('colab-df-spinner');\n",
              "      try {\n",
              "        const charts = await google.colab.kernel.invokeFunction(\n",
              "            'suggestCharts', [key], {});\n",
              "      } catch (error) {\n",
              "        console.error('Error during call to suggestCharts:', error);\n",
              "      }\n",
              "      quickchartButtonEl.classList.remove('colab-df-spinner');\n",
              "      quickchartButtonEl.classList.add('colab-df-quickchart-complete');\n",
              "    }\n",
              "    (() => {\n",
              "      let quickchartButtonEl =\n",
              "        document.querySelector('#df-791aafac-7088-4b4d-965b-859138d69ad3 button');\n",
              "      quickchartButtonEl.style.display =\n",
              "        google.colab.kernel.accessAllowed ? 'block' : 'none';\n",
              "    })();\n",
              "  </script>\n",
              "</div>\n",
              "    </div>\n",
              "  </div>\n"
            ],
            "application/vnd.google.colaboratory.intrinsic+json": {
              "type": "dataframe"
            }
          },
          "metadata": {},
          "execution_count": 709
        }
      ]
    },
    {
      "cell_type": "code",
      "source": [
        "combined_age_gen_lev.to_csv('age_gen_lev18_22.csv', index=False)"
      ],
      "metadata": {
        "id": "DlTNJ9giOvMl"
      },
      "execution_count": 710,
      "outputs": []
    },
    {
      "cell_type": "markdown",
      "source": [
        "#Completion (c_) Files"
      ],
      "metadata": {
        "id": "S6pz4xshiZyi"
      }
    },
    {
      "cell_type": "markdown",
      "source": [
        "-File contains the number of programs offered, by:\n",
        "  - type of program, level of award (certificate or degree) and distance education status.\n",
        "- Type of program is categorized according to the Classification of Instructional Programs (CIP), a detailed coding system for postsecondary instructional programs.\n",
        "- File contains multiple records per institution.\n",
        "- Each record will contain the total number of programs offered and the total number of programs offered via distance education.\n",
        "- Six digit CIPCODE (XX.NNNN) records will identify which award levels are offered and which award levels are offered via distance learning (1=Yes, 0=No). - Two digit CIPCODE (XX) summary records will contain the number of 6-digit CIPCODES under the  2-digit group that are offered by award level and distance education status and CIPCODE (99)  will contain totals for the institution. Program offerings were derived from completions data that were granted between July 1,Fall_YEAR and June 30, Spring_YEAR."
      ],
      "metadata": {
        "id": "H2f5rwfwiuSh"
      }
    },
    {
      "cell_type": "markdown",
      "source": [
        "Variables of interest:\n",
        "(Note 2020 and on C file have additional variables distinguishing between coursed in CIP codes can all be accessed vs. some making 41 total variables . The some variables being removed for consistency with 2019 dataset(26 total variables))\n",
        "  1. UNITID:Unique identification number of the institution\n",
        "  2.CIPCODE: A six-digit code in the form xx.xxxx that identifies instructional  program specialties within educational institutions.\n",
        "  3. PTOTAL: Number of programs offered is the sum of all programs offered at all award levels.  See details of each award level category\n",
        "  4.PTOTALDE: Number of programs offered via distance education is the sum of all programs offered via distance education.  See details of each award level category\n",
        "  5.PASSOC:Number of Associate's degree programs offered\n",
        "  6.PASSOCDE:Number of Associate's degree programs offered via distance education\n",
        "  7.PBACHL:Number of Bachelor's degree programs offered\n",
        "  8.PBACHLDE:Number of Bachelor's degree programs offered via distance education/Bachelor's degree - all programs in a CIP code can be completed entirely via distance education\n",
        "  9. PMASTR:Number of Master's degree programs offered\n",
        "  10. PMASTRDE:Number of Master's degree programs offered via distance education/Master's degree - all programs in a CIP code can be completed entirely via distance education\n",
        "  11. PDOCRS:Number of Doctor's degree-research/scholarship programs offered\n",
        "  12. PDOCRSDE:Number of Doctor's degree-research/scholarship programs offered via distance education\n",
        "  13. PDOCPP:Number of Doctor's degree-professional practice programs offered\n",
        "  14. PDOCPPDE:Number of Doctor's degree-professional practice programs offered via distance education\n",
        "  15. PDOCOT: Number of Doctor's degree-other programs offered\n",
        "  16.PDOCOTDE: Number of Doctor's degree-other programs offered via distance education offered via distance education\n",
        "  17.PCERT1:Number of less than 1-year certificate programs offered\n",
        "  18. PCERT1DE: Number of less than 1-year certificate programs offered via distance education\n",
        "  19. PCERT2:Number of 1-year, but less than-2-year certificate programs offered\n",
        "  20. PCERT2DE:Number of 1-year, but less than 2-year certificate programs offered via distance education\n",
        "  21. PCERT4: Number of 2-year, but less than 4-year certificate programs offered\n",
        "  22. PCERT4DE: Number of 2-year, but less than 4-year certificate programs offered via distance education\n",
        "  23. PPBACC:Number of Postbaccalaureate certificate programs offered\n",
        "  24. PPBACCDE:Number of Postbaccalaureate certificate programs offered via distance education\n",
        "  25. PPMAST:Number of Post-master's certificate programs offered\n",
        "  26. PPMASTDE:Number of Post-master's certificate programs offered via distance education"
      ],
      "metadata": {
        "id": "GgZlp2_LjU3U"
      }
    },
    {
      "cell_type": "code",
      "source": [
        "#get C datasets by years\n",
        "path = '/content/DistanceLearning_Capstone/NCES IPEDS Data 2019-2022'\n",
        "c_files = glob.glob(path + '/c*.csv')\n",
        "# c_files\n",
        "\n",
        "c_file_dict = {}  # Dictionary to store file paths with year as key\n",
        "for file_path in c_files:\n",
        "    file_name = os.path.basename(file_path)  # Get the filename from the path\n",
        "    year = file_name[1:5]  # Extract the year from the filename\n",
        "    c_file_dict[year] = file_path  # Store the file path in the dictionary with year as key\n",
        "\n",
        "\n",
        "# c_file_dict\n",
        "\n",
        "# Access each file by its year\n",
        "for year, file_path in c_file_dict.items():\n",
        "    print(f\"Year: {year}, File Path: {file_path}\")\n"
      ],
      "metadata": {
        "id": "o3UPBWXZpKT8",
        "colab": {
          "base_uri": "https://localhost:8080/"
        },
        "outputId": "0e2d1243-c982-4183-cf29-b554c7f726fa"
      },
      "execution_count": 711,
      "outputs": [
        {
          "output_type": "stream",
          "name": "stdout",
          "text": [
            "Year: 2021, File Path: /content/DistanceLearning_Capstone/NCES IPEDS Data 2019-2022/c2021dep_rv_DATA.csv\n",
            "Year: 2022, File Path: /content/DistanceLearning_Capstone/NCES IPEDS Data 2019-2022/c2022dep_DATA.csv\n",
            "Year: 2020, File Path: /content/DistanceLearning_Capstone/NCES IPEDS Data 2019-2022/c2020dep_rv_DATA.csv\n",
            "Year: 2019, File Path: /content/DistanceLearning_Capstone/NCES IPEDS Data 2019-2022/c2019dep_rv_DATA.csv\n",
            "Year: 2018, File Path: /content/DistanceLearning_Capstone/NCES IPEDS Data 2019-2022/c2018dep_rv.csv\n"
          ]
        }
      ]
    },
    {
      "cell_type": "code",
      "source": [
        "c_dfs = {}\n",
        "\n",
        "#read each file and create df- store to ef_df dict\n",
        "for year, file_path in c_file_dict.items():\n",
        "  df= pd.read_csv(file_path,encoding='unicode_escape' )\n",
        "  c_dfs[year]=df\n",
        "\n",
        "# c_dfs"
      ],
      "metadata": {
        "id": "H4MZODQiqEYO"
      },
      "execution_count": 712,
      "outputs": []
    },
    {
      "cell_type": "code",
      "source": [
        "#retrieving individual datasets from dict\n",
        "c2018=c_dfs.get('2018') #(240412, 26)\n",
        "c2019=c_dfs.get('2019') #(240412, 26)\n",
        "c2020=c_dfs.get('2020') #(238689, 41) updated to 26 columns below\n",
        "c2021=c_dfs.get('2021') #(241826, 41) updated to 26 columns below\n",
        "c2022=c_dfs.get('2022') #(244004, 41) updated to 26 columns below\n"
      ],
      "metadata": {
        "id": "ae7aF_xIqQVj"
      },
      "execution_count": 713,
      "outputs": []
    },
    {
      "cell_type": "code",
      "source": [
        "#remove white space in column names\n",
        "def remove_whitespace(df):\n",
        "    df.columns = df.columns.str.strip()\n",
        "\n",
        "    # # Apply strip() function to remove white spaces from all column values\n",
        "    # df = df.applymap(lambda x: x.strip() if isinstance(x, str) else x)\n",
        "\n",
        "    return df\n",
        "c2018=remove_whitespace(c2018)\n",
        "c2019=remove_whitespace(c2019)\n",
        "c2020=remove_whitespace(c2020)\n",
        "c2021=remove_whitespace(c2021)\n",
        "c2022=remove_whitespace(c2022)"
      ],
      "metadata": {
        "id": "OtlkUYZiTOvD"
      },
      "execution_count": 714,
      "outputs": []
    },
    {
      "cell_type": "code",
      "source": [
        "c2022.columns"
      ],
      "metadata": {
        "colab": {
          "base_uri": "https://localhost:8080/"
        },
        "id": "iMTnQ-n2WkhC",
        "outputId": "5efe0c15-2b15-4efc-d59e-9405c4505d8f"
      },
      "execution_count": 715,
      "outputs": [
        {
          "output_type": "execute_result",
          "data": {
            "text/plain": [
              "Index(['UNITID', 'CIPCODE', 'PTOTAL', 'PTOTALDE', 'PTOTALDES', 'PASSOC',\n",
              "       'PASSOCDE', 'PASSOCDES', 'PBACHL', 'PBACHLDE', 'PBACHLDES', 'PMASTR',\n",
              "       'PMASTRDE', 'PMASTRDES', 'PDOCRS', 'PDOCRSDE', 'PDOCRSDES', 'PDOCPP',\n",
              "       'PDOCPPDE', 'PDOCPPDES', 'PDOCOT', 'PDOCOTDE', 'PDOCOTDES', 'PCERT1A',\n",
              "       'PCERT1ADE', 'PCERT1ADES', 'PCERT1B', 'PCERT1BDE', 'PCERT1BDES',\n",
              "       'PCERT2', 'PCERT2DE', 'PCERT2DES', 'PCERT4', 'PCERT4DE', 'PCERT4DES',\n",
              "       'PPBACC', 'PPBACCDE', 'PPBACCDES', 'PPMAST', 'PPMASTDE', 'PPMASTDES'],\n",
              "      dtype='object')"
            ]
          },
          "metadata": {},
          "execution_count": 715
        }
      ]
    },
    {
      "cell_type": "code",
      "source": [
        "#Columns differ between 2018 & 2019 with more being added beginning in 2020\n",
        "#function to add missing columns and fill with N/A for dataset consistency\n",
        "columns_to_check =['UNITID', 'CIPCODE', 'PTOTAL', 'PTOTALDE', 'PTOTALDES', 'PASSOC',\n",
        "       'PASSOCDE', 'PASSOCDES', 'PBACHL', 'PBACHLDE', 'PBACHLDES', 'PMASTR',\n",
        "       'PMASTRDE', 'PMASTRDES', 'PDOCRS', 'PDOCRSDE', 'PDOCRSDES', 'PDOCPP',\n",
        "       'PDOCPPDE', 'PDOCPPDES', 'PDOCOT', 'PDOCOTDE', 'PDOCOTDES', 'PCERT1A',\n",
        "       'PCERT1ADE', 'PCERT1ADES', 'PCERT1B', 'PCERT1BDE', 'PCERT1BDES',\n",
        "       'PCERT2', 'PCERT2DE', 'PCERT2DES', 'PCERT4', 'PCERT4DE', 'PCERT4DES',\n",
        "       'PPBACC', 'PPBACCDE', 'PPBACCDES', 'PPMAST', 'PPMASTDE', 'PPMASTDES']\n",
        "\n",
        "def check_cols(df, cols_to_check):\n",
        "    # Identify missing columns\n",
        "    missing_columns = set(columns_to_check) - set(df.columns)\n",
        "\n",
        "    # Add missing columns to df\n",
        "    for column in missing_columns:\n",
        "        df[column] = 'N/A'\n",
        "\n",
        "\n",
        "\n",
        "  # existing_cols = df.columns.tolist()\n",
        "  # # print(existing_cols)\n",
        "  # for col in cols_to_check:\n",
        "  #   print(col)\n",
        "  #   if col not in existing_cols:\n",
        "  #     df[col] = 'N/A'\n",
        "    # Reorder columns\n",
        "    df=df[columns_to_check]\n",
        "    return df\n",
        "\n"
      ],
      "metadata": {
        "id": "9_WLTriUd-6S"
      },
      "execution_count": 720,
      "outputs": []
    },
    {
      "cell_type": "code",
      "source": [
        "c2018= check_cols(c2018, columns_to_check)\n",
        "c2019= check_cols(c2019, columns_to_check)\n",
        "\n",
        "# c2019= check_cols(c2019, cols_to_check)\n",
        "\n",
        "# c2020= check_cols(c2020, cols_to_check)\n",
        "# c2021= check_cols(c2021, cols_to_check)\n",
        "# c2022= check_cols(c2022, cols_to_check)"
      ],
      "metadata": {
        "id": "bFI9Hh-caXEH"
      },
      "execution_count": 721,
      "outputs": []
    },
    {
      "cell_type": "markdown",
      "source": [],
      "metadata": {
        "id": "rKMF1BElRFLs"
      }
    },
    {
      "cell_type": "code",
      "source": [
        "#merging c files with hd institutional info\n",
        "c2018=pd.merge(hd2019, c2019, on='UNITID', how='inner')\n",
        "c2019=pd.merge(hd2019, c2019, on='UNITID', how='inner')\n",
        "c2020=pd.merge(hd2020, c2020, on='UNITID', how='inner')\n",
        "c2021=pd.merge(hd2021, c2021, on='UNITID', how='inner')\n",
        "c2022=pd.merge(hd2022, c2022, on='UNITID', how='inner')"
      ],
      "metadata": {
        "id": "NYgAmj8AwHFB"
      },
      "execution_count": 722,
      "outputs": []
    },
    {
      "cell_type": "code",
      "source": [],
      "metadata": {
        "colab": {
          "base_uri": "https://localhost:8080/",
          "height": 429
        },
        "id": "1fyflYPrizbN",
        "outputId": "74e6b933-998f-4832-debe-82ad558d0ddb"
      },
      "execution_count": 729,
      "outputs": [
        {
          "output_type": "execute_result",
          "data": {
            "text/plain": [
              "   UNITID                    INSTNM IALIAS STABBR  ICLEVEL  CONTROL  HLOFFER  \\\n",
              "0  100654  Alabama A & M University   AAMU     AL        1        1        9   \n",
              "1  100654  Alabama A & M University   AAMU     AL        1        1        9   \n",
              "2  100654  Alabama A & M University   AAMU     AL        1        1        9   \n",
              "3  100654  Alabama A & M University   AAMU     AL        1        1        9   \n",
              "4  100654  Alabama A & M University   AAMU     AL        1        1        9   \n",
              "\n",
              "   DEGGRANT  PSEFLAG   LONGITUD  ...  PCERT2DES  PCERT4  PCERT4DE  PCERT4DES  \\\n",
              "0         1        1 -86.568502  ...          0       0         0          0   \n",
              "1         1        1 -86.568502  ...          0       0         0          0   \n",
              "2         1        1 -86.568502  ...          0       0         0          0   \n",
              "3         1        1 -86.568502  ...          0       0         0          0   \n",
              "4         1        1 -86.568502  ...          0       0         0          0   \n",
              "\n",
              "   PPBACC  PPBACCDE  PPBACCDES  PPMAST  PPMASTDE  PPMASTDES  \n",
              "0       0         0          0       0         0          0  \n",
              "1       0         0          0       0         0          0  \n",
              "2       0         0          0       0         0          0  \n",
              "3       0         0          0       0         0          0  \n",
              "4       0         0          0       0         0          0  \n",
              "\n",
              "[5 rows x 51 columns]"
            ],
            "text/html": [
              "\n",
              "  <div id=\"df-e89f91cb-dda3-40aa-b137-8f69663ed72b\" class=\"colab-df-container\">\n",
              "    <div>\n",
              "<style scoped>\n",
              "    .dataframe tbody tr th:only-of-type {\n",
              "        vertical-align: middle;\n",
              "    }\n",
              "\n",
              "    .dataframe tbody tr th {\n",
              "        vertical-align: top;\n",
              "    }\n",
              "\n",
              "    .dataframe thead th {\n",
              "        text-align: right;\n",
              "    }\n",
              "</style>\n",
              "<table border=\"1\" class=\"dataframe\">\n",
              "  <thead>\n",
              "    <tr style=\"text-align: right;\">\n",
              "      <th></th>\n",
              "      <th>UNITID</th>\n",
              "      <th>INSTNM</th>\n",
              "      <th>IALIAS</th>\n",
              "      <th>STABBR</th>\n",
              "      <th>ICLEVEL</th>\n",
              "      <th>CONTROL</th>\n",
              "      <th>HLOFFER</th>\n",
              "      <th>DEGGRANT</th>\n",
              "      <th>PSEFLAG</th>\n",
              "      <th>LONGITUD</th>\n",
              "      <th>...</th>\n",
              "      <th>PCERT2DES</th>\n",
              "      <th>PCERT4</th>\n",
              "      <th>PCERT4DE</th>\n",
              "      <th>PCERT4DES</th>\n",
              "      <th>PPBACC</th>\n",
              "      <th>PPBACCDE</th>\n",
              "      <th>PPBACCDES</th>\n",
              "      <th>PPMAST</th>\n",
              "      <th>PPMASTDE</th>\n",
              "      <th>PPMASTDES</th>\n",
              "    </tr>\n",
              "  </thead>\n",
              "  <tbody>\n",
              "    <tr>\n",
              "      <th>0</th>\n",
              "      <td>100654</td>\n",
              "      <td>Alabama A &amp; M University</td>\n",
              "      <td>AAMU</td>\n",
              "      <td>AL</td>\n",
              "      <td>1</td>\n",
              "      <td>1</td>\n",
              "      <td>9</td>\n",
              "      <td>1</td>\n",
              "      <td>1</td>\n",
              "      <td>-86.568502</td>\n",
              "      <td>...</td>\n",
              "      <td>0</td>\n",
              "      <td>0</td>\n",
              "      <td>0</td>\n",
              "      <td>0</td>\n",
              "      <td>0</td>\n",
              "      <td>0</td>\n",
              "      <td>0</td>\n",
              "      <td>0</td>\n",
              "      <td>0</td>\n",
              "      <td>0</td>\n",
              "    </tr>\n",
              "    <tr>\n",
              "      <th>1</th>\n",
              "      <td>100654</td>\n",
              "      <td>Alabama A &amp; M University</td>\n",
              "      <td>AAMU</td>\n",
              "      <td>AL</td>\n",
              "      <td>1</td>\n",
              "      <td>1</td>\n",
              "      <td>9</td>\n",
              "      <td>1</td>\n",
              "      <td>1</td>\n",
              "      <td>-86.568502</td>\n",
              "      <td>...</td>\n",
              "      <td>0</td>\n",
              "      <td>0</td>\n",
              "      <td>0</td>\n",
              "      <td>0</td>\n",
              "      <td>0</td>\n",
              "      <td>0</td>\n",
              "      <td>0</td>\n",
              "      <td>0</td>\n",
              "      <td>0</td>\n",
              "      <td>0</td>\n",
              "    </tr>\n",
              "    <tr>\n",
              "      <th>2</th>\n",
              "      <td>100654</td>\n",
              "      <td>Alabama A &amp; M University</td>\n",
              "      <td>AAMU</td>\n",
              "      <td>AL</td>\n",
              "      <td>1</td>\n",
              "      <td>1</td>\n",
              "      <td>9</td>\n",
              "      <td>1</td>\n",
              "      <td>1</td>\n",
              "      <td>-86.568502</td>\n",
              "      <td>...</td>\n",
              "      <td>0</td>\n",
              "      <td>0</td>\n",
              "      <td>0</td>\n",
              "      <td>0</td>\n",
              "      <td>0</td>\n",
              "      <td>0</td>\n",
              "      <td>0</td>\n",
              "      <td>0</td>\n",
              "      <td>0</td>\n",
              "      <td>0</td>\n",
              "    </tr>\n",
              "    <tr>\n",
              "      <th>3</th>\n",
              "      <td>100654</td>\n",
              "      <td>Alabama A &amp; M University</td>\n",
              "      <td>AAMU</td>\n",
              "      <td>AL</td>\n",
              "      <td>1</td>\n",
              "      <td>1</td>\n",
              "      <td>9</td>\n",
              "      <td>1</td>\n",
              "      <td>1</td>\n",
              "      <td>-86.568502</td>\n",
              "      <td>...</td>\n",
              "      <td>0</td>\n",
              "      <td>0</td>\n",
              "      <td>0</td>\n",
              "      <td>0</td>\n",
              "      <td>0</td>\n",
              "      <td>0</td>\n",
              "      <td>0</td>\n",
              "      <td>0</td>\n",
              "      <td>0</td>\n",
              "      <td>0</td>\n",
              "    </tr>\n",
              "    <tr>\n",
              "      <th>4</th>\n",
              "      <td>100654</td>\n",
              "      <td>Alabama A &amp; M University</td>\n",
              "      <td>AAMU</td>\n",
              "      <td>AL</td>\n",
              "      <td>1</td>\n",
              "      <td>1</td>\n",
              "      <td>9</td>\n",
              "      <td>1</td>\n",
              "      <td>1</td>\n",
              "      <td>-86.568502</td>\n",
              "      <td>...</td>\n",
              "      <td>0</td>\n",
              "      <td>0</td>\n",
              "      <td>0</td>\n",
              "      <td>0</td>\n",
              "      <td>0</td>\n",
              "      <td>0</td>\n",
              "      <td>0</td>\n",
              "      <td>0</td>\n",
              "      <td>0</td>\n",
              "      <td>0</td>\n",
              "    </tr>\n",
              "  </tbody>\n",
              "</table>\n",
              "<p>5 rows × 51 columns</p>\n",
              "</div>\n",
              "    <div class=\"colab-df-buttons\">\n",
              "\n",
              "  <div class=\"colab-df-container\">\n",
              "    <button class=\"colab-df-convert\" onclick=\"convertToInteractive('df-e89f91cb-dda3-40aa-b137-8f69663ed72b')\"\n",
              "            title=\"Convert this dataframe to an interactive table.\"\n",
              "            style=\"display:none;\">\n",
              "\n",
              "  <svg xmlns=\"http://www.w3.org/2000/svg\" height=\"24px\" viewBox=\"0 -960 960 960\">\n",
              "    <path d=\"M120-120v-720h720v720H120Zm60-500h600v-160H180v160Zm220 220h160v-160H400v160Zm0 220h160v-160H400v160ZM180-400h160v-160H180v160Zm440 0h160v-160H620v160ZM180-180h160v-160H180v160Zm440 0h160v-160H620v160Z\"/>\n",
              "  </svg>\n",
              "    </button>\n",
              "\n",
              "  <style>\n",
              "    .colab-df-container {\n",
              "      display:flex;\n",
              "      gap: 12px;\n",
              "    }\n",
              "\n",
              "    .colab-df-convert {\n",
              "      background-color: #E8F0FE;\n",
              "      border: none;\n",
              "      border-radius: 50%;\n",
              "      cursor: pointer;\n",
              "      display: none;\n",
              "      fill: #1967D2;\n",
              "      height: 32px;\n",
              "      padding: 0 0 0 0;\n",
              "      width: 32px;\n",
              "    }\n",
              "\n",
              "    .colab-df-convert:hover {\n",
              "      background-color: #E2EBFA;\n",
              "      box-shadow: 0px 1px 2px rgba(60, 64, 67, 0.3), 0px 1px 3px 1px rgba(60, 64, 67, 0.15);\n",
              "      fill: #174EA6;\n",
              "    }\n",
              "\n",
              "    .colab-df-buttons div {\n",
              "      margin-bottom: 4px;\n",
              "    }\n",
              "\n",
              "    [theme=dark] .colab-df-convert {\n",
              "      background-color: #3B4455;\n",
              "      fill: #D2E3FC;\n",
              "    }\n",
              "\n",
              "    [theme=dark] .colab-df-convert:hover {\n",
              "      background-color: #434B5C;\n",
              "      box-shadow: 0px 1px 3px 1px rgba(0, 0, 0, 0.15);\n",
              "      filter: drop-shadow(0px 1px 2px rgba(0, 0, 0, 0.3));\n",
              "      fill: #FFFFFF;\n",
              "    }\n",
              "  </style>\n",
              "\n",
              "    <script>\n",
              "      const buttonEl =\n",
              "        document.querySelector('#df-e89f91cb-dda3-40aa-b137-8f69663ed72b button.colab-df-convert');\n",
              "      buttonEl.style.display =\n",
              "        google.colab.kernel.accessAllowed ? 'block' : 'none';\n",
              "\n",
              "      async function convertToInteractive(key) {\n",
              "        const element = document.querySelector('#df-e89f91cb-dda3-40aa-b137-8f69663ed72b');\n",
              "        const dataTable =\n",
              "          await google.colab.kernel.invokeFunction('convertToInteractive',\n",
              "                                                    [key], {});\n",
              "        if (!dataTable) return;\n",
              "\n",
              "        const docLinkHtml = 'Like what you see? Visit the ' +\n",
              "          '<a target=\"_blank\" href=https://colab.research.google.com/notebooks/data_table.ipynb>data table notebook</a>'\n",
              "          + ' to learn more about interactive tables.';\n",
              "        element.innerHTML = '';\n",
              "        dataTable['output_type'] = 'display_data';\n",
              "        await google.colab.output.renderOutput(dataTable, element);\n",
              "        const docLink = document.createElement('div');\n",
              "        docLink.innerHTML = docLinkHtml;\n",
              "        element.appendChild(docLink);\n",
              "      }\n",
              "    </script>\n",
              "  </div>\n",
              "\n",
              "\n",
              "<div id=\"df-b45583bb-0da4-4e32-8e39-f504505854e3\">\n",
              "  <button class=\"colab-df-quickchart\" onclick=\"quickchart('df-b45583bb-0da4-4e32-8e39-f504505854e3')\"\n",
              "            title=\"Suggest charts\"\n",
              "            style=\"display:none;\">\n",
              "\n",
              "<svg xmlns=\"http://www.w3.org/2000/svg\" height=\"24px\"viewBox=\"0 0 24 24\"\n",
              "     width=\"24px\">\n",
              "    <g>\n",
              "        <path d=\"M19 3H5c-1.1 0-2 .9-2 2v14c0 1.1.9 2 2 2h14c1.1 0 2-.9 2-2V5c0-1.1-.9-2-2-2zM9 17H7v-7h2v7zm4 0h-2V7h2v10zm4 0h-2v-4h2v4z\"/>\n",
              "    </g>\n",
              "</svg>\n",
              "  </button>\n",
              "\n",
              "<style>\n",
              "  .colab-df-quickchart {\n",
              "      --bg-color: #E8F0FE;\n",
              "      --fill-color: #1967D2;\n",
              "      --hover-bg-color: #E2EBFA;\n",
              "      --hover-fill-color: #174EA6;\n",
              "      --disabled-fill-color: #AAA;\n",
              "      --disabled-bg-color: #DDD;\n",
              "  }\n",
              "\n",
              "  [theme=dark] .colab-df-quickchart {\n",
              "      --bg-color: #3B4455;\n",
              "      --fill-color: #D2E3FC;\n",
              "      --hover-bg-color: #434B5C;\n",
              "      --hover-fill-color: #FFFFFF;\n",
              "      --disabled-bg-color: #3B4455;\n",
              "      --disabled-fill-color: #666;\n",
              "  }\n",
              "\n",
              "  .colab-df-quickchart {\n",
              "    background-color: var(--bg-color);\n",
              "    border: none;\n",
              "    border-radius: 50%;\n",
              "    cursor: pointer;\n",
              "    display: none;\n",
              "    fill: var(--fill-color);\n",
              "    height: 32px;\n",
              "    padding: 0;\n",
              "    width: 32px;\n",
              "  }\n",
              "\n",
              "  .colab-df-quickchart:hover {\n",
              "    background-color: var(--hover-bg-color);\n",
              "    box-shadow: 0 1px 2px rgba(60, 64, 67, 0.3), 0 1px 3px 1px rgba(60, 64, 67, 0.15);\n",
              "    fill: var(--button-hover-fill-color);\n",
              "  }\n",
              "\n",
              "  .colab-df-quickchart-complete:disabled,\n",
              "  .colab-df-quickchart-complete:disabled:hover {\n",
              "    background-color: var(--disabled-bg-color);\n",
              "    fill: var(--disabled-fill-color);\n",
              "    box-shadow: none;\n",
              "  }\n",
              "\n",
              "  .colab-df-spinner {\n",
              "    border: 2px solid var(--fill-color);\n",
              "    border-color: transparent;\n",
              "    border-bottom-color: var(--fill-color);\n",
              "    animation:\n",
              "      spin 1s steps(1) infinite;\n",
              "  }\n",
              "\n",
              "  @keyframes spin {\n",
              "    0% {\n",
              "      border-color: transparent;\n",
              "      border-bottom-color: var(--fill-color);\n",
              "      border-left-color: var(--fill-color);\n",
              "    }\n",
              "    20% {\n",
              "      border-color: transparent;\n",
              "      border-left-color: var(--fill-color);\n",
              "      border-top-color: var(--fill-color);\n",
              "    }\n",
              "    30% {\n",
              "      border-color: transparent;\n",
              "      border-left-color: var(--fill-color);\n",
              "      border-top-color: var(--fill-color);\n",
              "      border-right-color: var(--fill-color);\n",
              "    }\n",
              "    40% {\n",
              "      border-color: transparent;\n",
              "      border-right-color: var(--fill-color);\n",
              "      border-top-color: var(--fill-color);\n",
              "    }\n",
              "    60% {\n",
              "      border-color: transparent;\n",
              "      border-right-color: var(--fill-color);\n",
              "    }\n",
              "    80% {\n",
              "      border-color: transparent;\n",
              "      border-right-color: var(--fill-color);\n",
              "      border-bottom-color: var(--fill-color);\n",
              "    }\n",
              "    90% {\n",
              "      border-color: transparent;\n",
              "      border-bottom-color: var(--fill-color);\n",
              "    }\n",
              "  }\n",
              "</style>\n",
              "\n",
              "  <script>\n",
              "    async function quickchart(key) {\n",
              "      const quickchartButtonEl =\n",
              "        document.querySelector('#' + key + ' button');\n",
              "      quickchartButtonEl.disabled = true;  // To prevent multiple clicks.\n",
              "      quickchartButtonEl.classList.add('colab-df-spinner');\n",
              "      try {\n",
              "        const charts = await google.colab.kernel.invokeFunction(\n",
              "            'suggestCharts', [key], {});\n",
              "      } catch (error) {\n",
              "        console.error('Error during call to suggestCharts:', error);\n",
              "      }\n",
              "      quickchartButtonEl.classList.remove('colab-df-spinner');\n",
              "      quickchartButtonEl.classList.add('colab-df-quickchart-complete');\n",
              "    }\n",
              "    (() => {\n",
              "      let quickchartButtonEl =\n",
              "        document.querySelector('#df-b45583bb-0da4-4e32-8e39-f504505854e3 button');\n",
              "      quickchartButtonEl.style.display =\n",
              "        google.colab.kernel.accessAllowed ? 'block' : 'none';\n",
              "    })();\n",
              "  </script>\n",
              "</div>\n",
              "    </div>\n",
              "  </div>\n"
            ],
            "application/vnd.google.colaboratory.intrinsic+json": {
              "type": "dataframe",
              "variable_name": "c2022"
            }
          },
          "metadata": {},
          "execution_count": 729
        }
      ]
    },
    {
      "cell_type": "code",
      "source": [
        "# add year\n",
        "c2018= add_year(c2018,2018)\n",
        "c2019= add_year(c2019, 2019)\n",
        "c2020= add_year(c2020, 2020)\n",
        "c2021= add_year(c2021, 2021)\n",
        "c2022= add_year(c2022, 2022)\n",
        "\n"
      ],
      "metadata": {
        "id": "eOl3J8dRwJqt"
      },
      "execution_count": 730,
      "outputs": []
    },
    {
      "cell_type": "code",
      "source": [
        "combined_completions= pd.concat([c2019.reset_index(drop=True),\n",
        "                                 c2019.reset_index(drop=True),\n",
        "                                   c2020.reset_index(drop=True),\n",
        "                                   c2021.reset_index(drop=True),\n",
        "                                   c2022.reset_index(drop=True)])"
      ],
      "metadata": {
        "id": "ueJ_30Nt6v4G"
      },
      "execution_count": 732,
      "outputs": []
    },
    {
      "cell_type": "code",
      "source": [
        "# combined_completions.isnull().sum()"
      ],
      "metadata": {
        "id": "b3oYakwo8NjK"
      },
      "execution_count": 742,
      "outputs": []
    },
    {
      "cell_type": "code",
      "source": [
        "combined_completions.to_csv('depprogramsoffered18_22.csv', index=False)"
      ],
      "metadata": {
        "id": "0LvijJlslWTR"
      },
      "execution_count": 743,
      "outputs": []
    },
    {
      "cell_type": "markdown",
      "source": [
        "Data Quality Checks"
      ],
      "metadata": {
        "id": "tPkecDB3-_HJ"
      }
    },
    {
      "cell_type": "code",
      "source": [
        "# # Check data types\n",
        "# def check_dt (df):\n",
        "#   return df.dtypes\n",
        "\n",
        "# check_dt(combined_completions)"
      ],
      "metadata": {
        "id": "HnXuAMb59Iy_"
      },
      "execution_count": 740,
      "outputs": []
    },
    {
      "cell_type": "code",
      "source": [
        "\n",
        "# # Check for duplicates- No duplicates found\n",
        "# def check_dup(df):\n",
        "#   duplicate_rows = combined_completions[combined_completions.duplicated()]\n",
        "#   print(duplicate_rows)\n",
        "\n",
        "# check_dup(combined_completions)\n",
        "\n"
      ],
      "metadata": {
        "id": "-lF8XV_OiN2o"
      },
      "execution_count": 738,
      "outputs": []
    },
    {
      "cell_type": "code",
      "source": [
        "#change object data types\n",
        "\n",
        "#strings\n",
        "\n",
        "\n",
        "#floats"
      ],
      "metadata": {
        "id": "cyHTq1xY9HKy"
      },
      "execution_count": null,
      "outputs": []
    }
  ]
}